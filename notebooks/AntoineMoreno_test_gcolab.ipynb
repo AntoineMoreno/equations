{
  "cells": [
    {
      "cell_type": "code",
      "execution_count": 1,
      "id": "eXBkmUyIpOX1",
      "metadata": {
        "id": "eXBkmUyIpOX1"
      },
      "outputs": [],
      "source": [
        "#from google.colab import drive\n",
        "#drive.mount('/content/drive')"
      ]
    },
    {
      "cell_type": "code",
      "source": [
        "from google.colab import drive\n",
        "drive.mount('/content/drive')"
      ],
      "metadata": {
        "colab": {
          "base_uri": "https://localhost:8080/"
        },
        "id": "CjoV-RNVziTb",
        "outputId": "3be9456d-e3d7-48e1-e169-66e12a82be70"
      },
      "id": "CjoV-RNVziTb",
      "execution_count": 2,
      "outputs": [
        {
          "output_type": "stream",
          "name": "stdout",
          "text": [
            "Drive already mounted at /content/drive; to attempt to forcibly remount, call drive.mount(\"/content/drive\", force_remount=True).\n"
          ]
        }
      ]
    },
    {
      "cell_type": "code",
      "execution_count": 3,
      "id": "a93pnhV4fUxq",
      "metadata": {
        "id": "a93pnhV4fUxq"
      },
      "outputs": [],
      "source": [
        "#!unrar x /content/drive/MyDrive/data.rar"
      ]
    },
    {
      "cell_type": "code",
      "execution_count": 4,
      "id": "68EE8bQuxSTL",
      "metadata": {
        "id": "68EE8bQuxSTL"
      },
      "outputs": [],
      "source": [
        "import numpy as np\n",
        "import tensorflow as tf\n",
        "import numpy as np\n",
        "import os"
      ]
    },
    {
      "cell_type": "code",
      "execution_count": 5,
      "id": "vXm2-o-QrGXz",
      "metadata": {
        "id": "vXm2-o-QrGXz"
      },
      "outputs": [],
      "source": [
        "import pathlib\n",
        "data_dir = pathlib.Path(\"/content/extracted_images\")"
      ]
    },
    {
      "cell_type": "code",
      "execution_count": 6,
      "id": "Ys7vbtSPrEIy",
      "metadata": {
        "colab": {
          "base_uri": "https://localhost:8080/"
        },
        "id": "Ys7vbtSPrEIy",
        "outputId": "77e4b21c-8f8b-4e4d-c6e2-3cab4bff37c4"
      },
      "outputs": [
        {
          "output_type": "stream",
          "name": "stdout",
          "text": [
            "375974\n"
          ]
        }
      ],
      "source": [
        "image_count = len(list(data_dir.glob('*/*.jpg')))\n",
        "print(image_count)"
      ]
    },
    {
      "cell_type": "code",
      "execution_count": 7,
      "id": "pf8CusxCrdtN",
      "metadata": {
        "colab": {
          "base_uri": "https://localhost:8080/",
          "height": 62
        },
        "id": "pf8CusxCrdtN",
        "outputId": "51dbc735-692b-4abb-d1da-e71ed08e1ef9"
      },
      "outputs": [
        {
          "output_type": "execute_result",
          "data": {
            "text/plain": [
              "<PIL.JpegImagePlugin.JpegImageFile image mode=L size=45x45 at 0x7F8438171050>"
            ],
            "image/png": "[encoded data removed]"
          },
          "metadata": {},
          "execution_count": 7
        }
      ],
      "source": [
        "import PIL\n",
        "import PIL.Image\n",
        "\n",
        "equal_sign = list(data_dir.glob('=/*'))\n",
        "PIL.Image.open(str(equal_sign[10]))"
      ]
    },
    {
      "cell_type": "code",
      "execution_count": 8,
      "id": "hqEuo3qysLuv",
      "metadata": {
        "id": "hqEuo3qysLuv"
      },
      "outputs": [],
      "source": [
        "batch_size = 32\n",
        "img_height = 45\n",
        "img_width = 45"
      ]
    },
    {
      "cell_type": "code",
      "execution_count": 9,
      "id": "s3106yEVsNvZ",
      "metadata": {
        "colab": {
          "base_uri": "https://localhost:8080/"
        },
        "id": "s3106yEVsNvZ",
        "outputId": "d75728c7-3ea0-4ec7-d335-8acf7e4afcee"
      },
      "outputs": [
        {
          "output_type": "stream",
          "name": "stdout",
          "text": [
            "Found 375974 files belonging to 82 classes.\n",
            "Using 300780 files for training.\n"
          ]
        }
      ],
      "source": [
        "train_ds = tf.keras.utils.image_dataset_from_directory(\n",
        "  data_dir,\n",
        "  validation_split=0.2,\n",
        "  subset=\"training\",\n",
        "  seed=123,\n",
        "  image_size=(img_height, img_width),\n",
        "  batch_size=batch_size)"
      ]
    },
    {
      "cell_type": "code",
      "execution_count": 10,
      "id": "GVlm6IoNsaYk",
      "metadata": {
        "colab": {
          "base_uri": "https://localhost:8080/"
        },
        "id": "GVlm6IoNsaYk",
        "outputId": "b5b872e1-1bc2-4dd3-9b51-941019427319"
      },
      "outputs": [
        {
          "output_type": "stream",
          "name": "stdout",
          "text": [
            "Found 375974 files belonging to 82 classes.\n",
            "Using 75194 files for validation.\n"
          ]
        }
      ],
      "source": [
        "val_ds = tf.keras.utils.image_dataset_from_directory(\n",
        "  data_dir,\n",
        "  validation_split=0.2,\n",
        "  subset=\"validation\",\n",
        "  seed=123,\n",
        "  image_size=(img_height, img_width),\n",
        "  batch_size=batch_size)"
      ]
    },
    {
      "cell_type": "code",
      "execution_count": 11,
      "id": "0ccfa848",
      "metadata": {
        "id": "0ccfa848",
        "outputId": "04b91307-8c46-4b06-9c67-5c6f1a1216ce",
        "colab": {
          "base_uri": "https://localhost:8080/"
        }
      },
      "outputs": [
        {
          "output_type": "execute_result",
          "data": {
            "text/plain": [
              "['!',\n",
              " '(',\n",
              " ')',\n",
              " '+',\n",
              " ',',\n",
              " '-',\n",
              " '0',\n",
              " '1',\n",
              " '2',\n",
              " '3',\n",
              " '4',\n",
              " '5',\n",
              " '6',\n",
              " '7',\n",
              " '8',\n",
              " '9',\n",
              " '=',\n",
              " 'A',\n",
              " 'C',\n",
              " 'Delta',\n",
              " 'G',\n",
              " 'H',\n",
              " 'M',\n",
              " 'N',\n",
              " 'R',\n",
              " 'S',\n",
              " 'T',\n",
              " 'X',\n",
              " '[',\n",
              " ']',\n",
              " 'alpha',\n",
              " 'ascii_124',\n",
              " 'b',\n",
              " 'beta',\n",
              " 'cos',\n",
              " 'd',\n",
              " 'div',\n",
              " 'e',\n",
              " 'exists',\n",
              " 'f',\n",
              " 'forall',\n",
              " 'forward_slash',\n",
              " 'gamma',\n",
              " 'geq',\n",
              " 'gt',\n",
              " 'i',\n",
              " 'in',\n",
              " 'infty',\n",
              " 'int',\n",
              " 'j',\n",
              " 'k',\n",
              " 'l',\n",
              " 'lambda',\n",
              " 'ldots',\n",
              " 'leq',\n",
              " 'lim',\n",
              " 'log',\n",
              " 'lt',\n",
              " 'mu',\n",
              " 'neq',\n",
              " 'o',\n",
              " 'p',\n",
              " 'phi',\n",
              " 'pi',\n",
              " 'pm',\n",
              " 'prime',\n",
              " 'q',\n",
              " 'rightarrow',\n",
              " 'sigma',\n",
              " 'sin',\n",
              " 'sqrt',\n",
              " 'sum',\n",
              " 'tan',\n",
              " 'theta',\n",
              " 'times',\n",
              " 'u',\n",
              " 'v',\n",
              " 'w',\n",
              " 'y',\n",
              " 'z',\n",
              " '{',\n",
              " '}']"
            ]
          },
          "metadata": {},
          "execution_count": 11
        }
      ],
      "source": [
        "train_ds.class_names"
      ]
    },
    {
      "cell_type": "code",
      "execution_count": 12,
      "id": "da070581",
      "metadata": {
        "colab": {
          "base_uri": "https://localhost:8080/"
        },
        "id": "da070581",
        "outputId": "3306f758-4619-4e5e-f049-49fb6a3e5739"
      },
      "outputs": [
        {
          "output_type": "stream",
          "name": "stdout",
          "text": [
            "('!', '(', ')', '+', ',', '-', '0', '1', '2', '3', '4', '5', '6', '7', '8', '9', '=', 'A', 'C', 'Delta', 'G', 'H', 'M', 'N', 'R', 'S', 'T', 'X', '[', ']', 'alpha', 'ascii_124', 'b', 'beta', 'cos', 'd', 'div', 'e', 'exists', 'f', 'forall', 'forward_slash', 'gamma', 'geq', 'gt', 'i', 'in', 'infty', 'int', 'j', 'k', 'l', 'lambda', 'ldots', 'leq', 'lim', 'log', 'lt', 'mu', 'neq', 'o', 'p', 'phi', 'pi', 'pm', 'prime', 'q', 'rightarrow', 'sigma', 'sin', 'sqrt', 'sum', 'tan', 'theta', 'times', 'u', 'v', 'w', 'y', 'z', '{', '}')\n"
          ]
        }
      ],
      "source": [
        "class_names = tuple(train_ds.class_names)\n",
        "print(class_names)"
      ]
    },
    {
      "cell_type": "code",
      "execution_count": 13,
      "id": "7EvDDchPwp4q",
      "metadata": {
        "colab": {
          "base_uri": "https://localhost:8080/",
          "height": 591
        },
        "id": "7EvDDchPwp4q",
        "outputId": "3465a0d5-2a37-4216-d1cb-bead0dca482c"
      },
      "outputs": [
        {
          "output_type": "display_data",
          "data": {
            "text/plain": [
              "<Figure size 720x720 with 9 Axes>"
            ],
            "image/png": "[encoded data removed]"
          },
          "metadata": {
            "needs_background": "light"
          }
        }
      ],
      "source": [
        "import matplotlib.pyplot as plt\n",
        "\n",
        "plt.figure(figsize=(10, 10))\n",
        "for images, labels in train_ds.take(1):\n",
        "  for i in range(9):\n",
        "    ax = plt.subplot(3, 3, i + 1)\n",
        "    plt.imshow(images[i].numpy().astype(\"uint8\"))\n",
        "    plt.title(class_names[labels[i]])\n",
        "    plt.axis(\"off\")"
      ]
    },
    {
      "cell_type": "code",
      "execution_count": 14,
      "id": "r4bhfE9xxG9V",
      "metadata": {
        "id": "r4bhfE9xxG9V"
      },
      "outputs": [],
      "source": [
        "normalization_layer = tf.keras.layers.Rescaling(1./255)"
      ]
    },
    {
      "cell_type": "code",
      "execution_count": 15,
      "id": "CoZw8bASxMNV",
      "metadata": {
        "colab": {
          "base_uri": "https://localhost:8080/"
        },
        "id": "CoZw8bASxMNV",
        "outputId": "a27c70c0-758d-4efc-f12c-e6381c40b3b1"
      },
      "outputs": [
        {
          "output_type": "stream",
          "name": "stdout",
          "text": [
            "0.0 1.0\n"
          ]
        }
      ],
      "source": [
        "normalized_ds = train_ds.map(lambda x, y: (normalization_layer(x), y))\n",
        "image_batch, labels_batch = next(iter(normalized_ds))\n",
        "first_image = image_batch[0]\n",
        "# Notice the pixel values are now in `[0,1]`.\n",
        "print(np.min(first_image), np.max(first_image))"
      ]
    },
    {
      "cell_type": "code",
      "execution_count": 16,
      "id": "X48Z9Vh7w8On",
      "metadata": {
        "colab": {
          "base_uri": "https://localhost:8080/"
        },
        "id": "X48Z9Vh7w8On",
        "outputId": "1d5673ee-d6c8-44ec-a5c5-ef4e51e608d4"
      },
      "outputs": [
        {
          "output_type": "stream",
          "name": "stdout",
          "text": [
            "(32, 45, 45, 3)\n",
            "(32,)\n"
          ]
        }
      ],
      "source": [
        "for image_batch, labels_batch in train_ds:\n",
        "  print(image_batch.shape)\n",
        "  print(labels_batch.shape)\n",
        "  break"
      ]
    },
    {
      "cell_type": "code",
      "execution_count": 17,
      "id": "fN8Zu2rnxcxi",
      "metadata": {
        "colab": {
          "base_uri": "https://localhost:8080/"
        },
        "id": "fN8Zu2rnxcxi",
        "outputId": "4cf1493f-00aa-4a2c-9648-4376381967b5"
      },
      "outputs": [
        {
          "output_type": "stream",
          "name": "stdout",
          "text": [
            "0.0 1.0\n"
          ]
        }
      ],
      "source": [
        "normalized_ds = train_ds.map(lambda x, y: (normalization_layer(x), y))\n",
        "image_batch, labels_batch = next(iter(normalized_ds))\n",
        "first_image = image_batch[0]\n",
        "# Notice the pixel values are now in `[0,1]`.\n",
        "print(np.min(first_image), np.max(first_image))"
      ]
    },
    {
      "cell_type": "code",
      "execution_count": 18,
      "id": "UVyKAKm0xsWU",
      "metadata": {
        "id": "UVyKAKm0xsWU"
      },
      "outputs": [],
      "source": [
        "AUTOTUNE = tf.data.AUTOTUNE\n",
        "\n",
        "train_ds = train_ds.cache().prefetch(buffer_size=AUTOTUNE)\n",
        "val_ds = val_ds.cache().prefetch(buffer_size=AUTOTUNE)"
      ]
    },
    {
      "cell_type": "code",
      "execution_count": 19,
      "id": "npJfR0-exs2h",
      "metadata": {
        "id": "npJfR0-exs2h"
      },
      "outputs": [],
      "source": [
        "num_classes = 82\n",
        "\n",
        "model = tf.keras.Sequential([\n",
        "  tf.keras.layers.Rescaling(1./255),\n",
        "  tf.keras.layers.Conv2D(32, 3, activation='relu'),\n",
        "  tf.keras.layers.MaxPooling2D(),\n",
        "  tf.keras.layers.Conv2D(32, 3, activation='relu'),\n",
        "  tf.keras.layers.MaxPooling2D(),\n",
        "  tf.keras.layers.Conv2D(32, 3, activation='relu'),\n",
        "  tf.keras.layers.MaxPooling2D(),\n",
        "  tf.keras.layers.Flatten(),\n",
        "  tf.keras.layers.Dense(128, activation='relu'),\n",
        "  tf.keras.layers.Dense(num_classes)\n",
        "])"
      ]
    },
    {
      "cell_type": "code",
      "execution_count": 20,
      "id": "RD-RUn4cxx1t",
      "metadata": {
        "id": "RD-RUn4cxx1t"
      },
      "outputs": [],
      "source": [
        "from tensorflow.keras.callbacks import EarlyStopping\n",
        "\n",
        "es=EarlyStopping(patience=5)\n",
        "\n",
        "model.compile(\n",
        "    optimizer='adam',\n",
        "    loss=tf.losses.SparseCategoricalCrossentropy(from_logits=True),\n",
        "    metrics=['accuracy'])"
      ]
    },
    {
      "cell_type": "code",
      "execution_count": null,
      "id": "PqSMhlVXx2CC",
      "metadata": {
        "colab": {
          "base_uri": "https://localhost:8080/"
        },
        "id": "PqSMhlVXx2CC",
        "outputId": "c99edcc0-b5ba-4fab-efdb-abaa3e063f50"
      },
      "outputs": [
        {
          "output_type": "stream",
          "name": "stdout",
          "text": [
            "Epoch 1/40\n",
            "9400/9400 [==============================] - 210s 21ms/step - loss: 0.5581 - accuracy: 0.8431 - val_loss: 0.3529 - val_accuracy: 0.8963\n",
            "Epoch 2/40\n",
            "9400/9400 [==============================] - 44s 5ms/step - loss: 0.2888 - accuracy: 0.9101 - val_loss: 0.2530 - val_accuracy: 0.9229\n",
            "Epoch 3/40\n",
            "9400/9400 [==============================] - 43s 5ms/step - loss: 0.2296 - accuracy: 0.9266 - val_loss: 0.2261 - val_accuracy: 0.9293\n",
            "Epoch 4/40\n",
            "9400/9400 [==============================] - 43s 5ms/step - loss: 0.1934 - accuracy: 0.9371 - val_loss: 0.1939 - val_accuracy: 0.9398\n",
            "Epoch 5/40\n",
            "9400/9400 [==============================] - 43s 5ms/step - loss: 0.1683 - accuracy: 0.9448 - val_loss: 0.1805 - val_accuracy: 0.9435\n",
            "Epoch 6/40\n",
            "9400/9400 [==============================] - 44s 5ms/step - loss: 0.1511 - accuracy: 0.9495 - val_loss: 0.1672 - val_accuracy: 0.9475\n",
            "Epoch 7/40\n",
            "9400/9400 [==============================] - 43s 5ms/step - loss: 0.1380 - accuracy: 0.9540 - val_loss: 0.1609 - val_accuracy: 0.9485\n",
            "Epoch 8/40\n",
            "9400/9400 [==============================] - 43s 5ms/step - loss: 0.1280 - accuracy: 0.9571 - val_loss: 0.1574 - val_accuracy: 0.9506\n",
            "Epoch 9/40\n",
            "9400/9400 [==============================] - 43s 5ms/step - loss: 0.1203 - accuracy: 0.9597 - val_loss: 0.1477 - val_accuracy: 0.9541\n",
            "Epoch 10/40\n",
            "9400/9400 [==============================] - 42s 5ms/step - loss: 0.1142 - accuracy: 0.9615 - val_loss: 0.1444 - val_accuracy: 0.9557\n",
            "Epoch 11/40\n",
            "9400/9400 [==============================] - 43s 5ms/step - loss: 0.1089 - accuracy: 0.9633 - val_loss: 0.1470 - val_accuracy: 0.9556\n"
          ]
        }
      ],
      "source": [
        "%%time\n",
        "\n",
        "\n",
        "hist = model.fit(\n",
        "  train_ds,\n",
        "  validation_data=val_ds,\n",
        "  epochs=40,\n",
        "  callbacks=[es]\n",
        ").history"
      ]
    },
    {
      "cell_type": "code",
      "source": [
        "plt.figure()\n",
        "plt.ylabel(\"Loss (training and validation)\")\n",
        "plt.xlabel(\"Training Steps\")\n",
        "plt.ylim([0,2])\n",
        "plt.plot(hist[\"loss\"])\n",
        "plt.plot(hist[\"val_loss\"])\n",
        "\n",
        "plt.figure()\n",
        "plt.ylabel(\"Accuracy (training and validation)\")\n",
        "plt.xlabel(\"Training Steps\")\n",
        "plt.ylim([0,1])\n",
        "plt.plot(hist[\"accuracy\"])\n",
        "plt.plot(hist[\"val_accuracy\"])"
      ],
      "metadata": {
        "colab": {
          "base_uri": "https://localhost:8080/",
          "height": 567
        },
        "id": "q1G7ZuJ6E2Mn",
        "outputId": "0547bdce-1521-49e9-949b-b7b2fb2bb293"
      },
      "id": "q1G7ZuJ6E2Mn",
      "execution_count": 62,
      "outputs": [
        {
          "output_type": "execute_result",
          "data": {
            "text/plain": [
              "[<matplotlib.lines.Line2D at 0x7f01f9405450>]"
            ]
          },
          "metadata": {},
          "execution_count": 62
        },
        {
          "output_type": "display_data",
          "data": {
            "text/plain": [
              "<Figure size 432x288 with 1 Axes>"
            ],
            "image/png": "[encoded data removed]"
          },
          "metadata": {
            "needs_background": "light"
          }
        },
        {
          "output_type": "display_data",
          "data": {
            "text/plain": [
              "<Figure size 432x288 with 1 Axes>"
            ],
            "image/png": "[encoded data removed]"
          },
          "metadata": {
            "needs_background": "light"
          }
        }
      ]
    },
    {
      "cell_type": "code",
      "execution_count": 26,
      "id": "46f7dc8d",
      "metadata": {
        "id": "46f7dc8d"
      },
      "outputs": [],
      "source": [
        "from get_test_data import test_data"
      ]
    },
    {
      "cell_type": "code",
      "execution_count": 52,
      "id": "8451eb6e",
      "metadata": {
        "id": "8451eb6e",
        "colab": {
          "base_uri": "https://localhost:8080/",
          "height": 285
        },
        "outputId": "1d62fb58-6f37-4d49-8405-9d99d2a30b59"
      },
      "outputs": [
        {
          "output_type": "execute_result",
          "data": {
            "text/plain": [
              "<matplotlib.image.AxesImage at 0x7f01f9578890>"
            ]
          },
          "metadata": {},
          "execution_count": 52
        },
        {
          "output_type": "display_data",
          "data": {
            "text/plain": [
              "<Figure size 432x288 with 1 Axes>"
            ],
            "image/png": "[encoded data removed]"
          },
          "metadata": {
            "needs_background": "light"
          }
        }
      ],
      "source": [
        "lst=test_data(\"/content/IMG_5023 copy 2.jpeg\")\n",
        "plt.imshow(lst[0])"
      ]
    },
    {
      "cell_type": "code",
      "execution_count": 53,
      "id": "6aa13da0",
      "metadata": {
        "id": "6aa13da0",
        "colab": {
          "base_uri": "https://localhost:8080/"
        },
        "outputId": "664c8da1-3d14-4067-c053-65a4e204013a"
      },
      "outputs": [
        {
          "output_type": "stream",
          "name": "stdout",
          "text": [
            "Predicted label: 3\n"
          ]
        }
      ],
      "source": [
        "prediction_scores= model.predict(np.expand_dims(lst[0], axis=0))\n",
        "\n",
        "predicted_index = np.argmax(prediction_scores)\n",
        "print(\"Predicted label: \" + class_names[predicted_index])"
      ]
    },
    {
      "cell_type": "code",
      "source": [
        "print(len(class_names))"
      ],
      "metadata": {
        "colab": {
          "base_uri": "https://localhost:8080/"
        },
        "id": "eFHE8HUwDnQC",
        "outputId": "b6c93fd9-dd7e-4705-f97b-b30b96cf8e06"
      },
      "id": "eFHE8HUwDnQC",
      "execution_count": 60,
      "outputs": [
        {
          "output_type": "stream",
          "name": "stdout",
          "text": [
            "82\n"
          ]
        }
      ]
    },
    {
      "cell_type": "code",
      "source": [
        "for i in range(len(class_names)):\n",
        "  print(f'{i} {prediction_scores[0][i]} : {class_names[i]}')\n"
      ],
      "metadata": {
        "colab": {
          "base_uri": "https://localhost:8080/"
        },
        "id": "QVfUB6TDCoXR",
        "outputId": "acfae4ec-20b5-4cd7-b5eb-b1b3a195d111"
      },
      "id": "QVfUB6TDCoXR",
      "execution_count": 61,
      "outputs": [
        {
          "output_type": "stream",
          "name": "stdout",
          "text": [
            "0 -15.91616439819336 : !\n",
            "1 -24.491111755371094 : (\n",
            "2 -58.9978141784668 : )\n",
            "3 -15.244376182556152 : +\n",
            "4 -29.12877082824707 : ,\n",
            "5 -19.523731231689453 : -\n",
            "6 -38.93875503540039 : 0\n",
            "7 -22.889019012451172 : 1\n",
            "8 -18.75575828552246 : 2\n",
            "9 -3.7981536388397217 : 3\n",
            "10 -17.62202262878418 : 4\n",
            "11 -5.386427402496338 : 5\n",
            "12 -41.369789123535156 : 6\n",
            "13 -21.319488525390625 : 7\n",
            "14 -59.31706619262695 : 8\n",
            "15 -21.28288459777832 : 9\n",
            "16 -13.416667938232422 : =\n",
            "17 -43.1159553527832 : A\n",
            "18 -42.915706634521484 : C\n",
            "19 -94.15064239501953 : Delta\n",
            "20 -29.910640716552734 : G\n",
            "21 -28.762590408325195 : H\n",
            "22 -31.083192825317383 : M\n",
            "23 -26.133453369140625 : N\n",
            "24 -23.16159439086914 : R\n",
            "25 -11.299631118774414 : S\n",
            "26 -26.802078247070312 : T\n",
            "27 -33.0230827331543 : X\n",
            "28 -55.86453628540039 : [\n",
            "29 -47.69688415527344 : ]\n",
            "30 -59.68559646606445 : alpha\n",
            "31 -98.88166809082031 : ascii_124\n",
            "32 -26.497941970825195 : b\n",
            "33 -49.54436492919922 : beta\n",
            "34 -34.04885482788086 : cos\n",
            "35 -71.2676010131836 : d\n",
            "36 -5.123237133026123 : div\n",
            "37 -21.996910095214844 : e\n",
            "38 -33.512447357177734 : exists\n",
            "39 -17.133413314819336 : f\n",
            "40 -53.92577362060547 : forall\n",
            "41 -68.28577423095703 : forward_slash\n",
            "42 -91.98511505126953 : gamma\n",
            "43 -22.703224182128906 : geq\n",
            "44 -31.150409698486328 : gt\n",
            "45 -24.63574981689453 : i\n",
            "46 -40.22078323364258 : in\n",
            "47 -35.416961669921875 : infty\n",
            "48 -38.49845504760742 : int\n",
            "49 -24.951702117919922 : j\n",
            "50 -55.2838020324707 : k\n",
            "51 -40.3008918762207 : l\n",
            "52 -94.32687377929688 : lambda\n",
            "53 -9.999902725219727 : ldots\n",
            "54 -9.711318016052246 : leq\n",
            "55 -54.7429084777832 : lim\n",
            "56 -28.976299285888672 : log\n",
            "57 -46.32991027832031 : lt\n",
            "58 -100.04206848144531 : mu\n",
            "59 -50.56924057006836 : neq\n",
            "60 -68.87694549560547 : o\n",
            "61 -35.56858444213867 : p\n",
            "62 -80.21853637695312 : phi\n",
            "63 -42.71586608886719 : pi\n",
            "64 -16.032432556152344 : pm\n",
            "65 -43.258949279785156 : prime\n",
            "66 -32.334075927734375 : q\n",
            "67 -17.192703247070312 : rightarrow\n",
            "68 -40.350746154785156 : sigma\n",
            "69 -42.789066314697266 : sin\n",
            "70 -21.374799728393555 : sqrt\n",
            "71 -37.548004150390625 : sum\n",
            "72 -72.45960235595703 : tan\n",
            "73 -34.126014709472656 : theta\n",
            "74 -48.6899299621582 : times\n",
            "75 -50.10381317138672 : u\n",
            "76 -58.878395080566406 : v\n",
            "77 -67.14287567138672 : w\n",
            "78 -22.842649459838867 : y\n",
            "79 -29.450977325439453 : z\n",
            "80 -23.095279693603516 : {\n",
            "81 -34.7813606262207 : }\n"
          ]
        }
      ]
    },
    {
      "cell_type": "code",
      "source": [
        "import joblib\n",
        "joblib.dump(model, 'model.joblib')\n"
      ],
      "metadata": {
        "colab": {
          "base_uri": "https://localhost:8080/"
        },
        "id": "4w89ZMp1_ugv",
        "outputId": "0c377a2b-3a66-4b95-9282-5867cfdf27c8"
      },
      "id": "4w89ZMp1_ugv",
      "execution_count": 36,
      "outputs": [
        {
          "output_type": "stream",
          "name": "stdout",
          "text": [
            "INFO:tensorflow:Assets written to: ram://33ec8f03-c89f-4523-bc5e-b69395e6bd54/assets\n"
          ]
        },
        {
          "output_type": "execute_result",
          "data": {
            "text/plain": [
              "['model.joblib']"
            ]
          },
          "metadata": {},
          "execution_count": 36
        }
      ]
    },
    {
      "cell_type": "code",
      "execution_count": null,
      "id": "5445bcfe",
      "metadata": {
        "id": "5445bcfe",
        "outputId": "51682d6f-f5f0-41ec-c646-1d14b1da711d"
      },
      "outputs": [
        {
          "name": "stdout",
          "output_type": "stream",
          "text": [
            "Collecting opencv-python\n",
            "  Using cached opencv_python-4.5.5.64-cp36-abi3-macosx_10_15_x86_64.whl (46.3 MB)\n",
            "Requirement already satisfied: numpy>=1.14.5 in /Users/antoinemoreno/.pyenv/versions/3.8.13/envs/lewagon/lib/python3.8/site-packages (from opencv-python) (1.22.4)\n",
            "Installing collected packages: opencv-python\n",
            "Successfully installed opencv-python-4.5.5.64\n"
          ]
        }
      ],
      "source": [
        "!pip install opencv-python"
      ]
    },
    {
      "cell_type": "code",
      "execution_count": null,
      "id": "b976ed43",
      "metadata": {
        "id": "b976ed43",
        "outputId": "c1702783-b666-4497-f548-616d32757bf9"
      },
      "outputs": [
        {
          "name": "stdout",
          "output_type": "stream",
          "text": [
            "The autoreload extension is already loaded. To reload it, use:\n",
            "  %reload_ext autoreload\n"
          ]
        }
      ],
      "source": [
        "%load_ext autoreload\n",
        "%autoreload 2\n",
        "from get_test_data import test_data\n",
        "import cv2"
      ]
    },
    {
      "cell_type": "code",
      "execution_count": null,
      "id": "64fd2f84",
      "metadata": {
        "id": "64fd2f84"
      },
      "outputs": [],
      "source": [
        ""
      ]
    },
    {
      "cell_type": "code",
      "execution_count": null,
      "id": "ddab3121",
      "metadata": {
        "id": "ddab3121"
      },
      "outputs": [],
      "source": [
        "num=test_data(\"IMG_5023 copy 2.jpeg\")[1]"
      ]
    },
    {
      "cell_type": "code",
      "execution_count": null,
      "id": "cfc6bd94",
      "metadata": {
        "id": "cfc6bd94",
        "outputId": "e66a9a3a-5785-4fc9-a109-5b3382bc5ad1"
      },
      "outputs": [
        {
          "data": {
            "text/plain": [
              "TensorShape([45, 45, 3])"
            ]
          },
          "execution_count": 141,
          "metadata": {},
          "output_type": "execute_result"
        }
      ],
      "source": [
        "num2 = tf.image.rgb_to_grayscale(num)\n",
        "num2= tf.image.grayscale_to_rgb(num2)\n",
        "num2.shape"
      ]
    },
    {
      "cell_type": "code",
      "execution_count": null,
      "id": "c4248579",
      "metadata": {
        "id": "c4248579",
        "outputId": "2ff5fdd5-0bb2-4a41-da8f-4a159560738c"
      },
      "outputs": [
        {
          "name": "stdout",
          "output_type": "stream",
          "text": [
            "1/1 [==============================] - 0s 27ms/step\n",
            "Predicted label: +\n"
          ]
        }
      ],
      "source": [
        "prediction_scores= model.predict(np.expand_dims(num2, axis=0))\n",
        "predicted_index = np.argmax(prediction_scores)\n",
        "print(\"Predicted label: \" + class_names[predicted_index])"
      ]
    },
    {
      "cell_type": "code",
      "execution_count": null,
      "id": "XpOK3Akgx9Rz",
      "metadata": {
        "id": "XpOK3Akgx9Rz"
      },
      "outputs": [],
      "source": [
        "# https://www.tensorflow.org/tutorials/load_data/images"
      ]
    },
    {
      "cell_type": "code",
      "execution_count": null,
      "id": "d7d13cdb",
      "metadata": {
        "id": "d7d13cdb"
      },
      "outputs": [],
      "source": [
        ""
      ]
    }
  ],
  "metadata": {
    "accelerator": "GPU",
    "colab": {
      "collapsed_sections": [],
      "name": "AntoineMoreno_test_v3.ipynb",
      "provenance": []
    },
    "kernelspec": {
      "display_name": "Python 3 (ipykernel)",
      "language": "python",
      "name": "python3"
    },
    "language_info": {
      "codemirror_mode": {
        "name": "ipython",
        "version": 3
      },
      "file_extension": ".py",
      "mimetype": "text/x-python",
      "name": "python",
      "nbconvert_exporter": "python",
      "pygments_lexer": "ipython3",
      "version": "3.8.13"
    },
    "toc": {
      "base_numbering": 1,
      "nav_menu": {},
      "number_sections": true,
      "sideBar": true,
      "skip_h1_title": false,
      "title_cell": "Table of Contents",
      "title_sidebar": "Contents",
      "toc_cell": false,
      "toc_position": {},
      "toc_section_display": true,
      "toc_window_display": false
    }
  },
  "nbformat": 4,
  "nbformat_minor": 5
}