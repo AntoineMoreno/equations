{
 "cells": [
  {
   "cell_type": "code",
   "execution_count": 4,
   "id": "a93pnhV4fUxq",
   "metadata": {
    "colab": {
     "base_uri": "https://localhost:8080/"
    },
    "id": "a93pnhV4fUxq",
    "outputId": "8ffa7156-e515-460e-c62a-f0b841a2032e"
   },
   "outputs": [
    {
     "ename": "SyntaxError",
     "evalue": "invalid syntax (2106641382.py, line 1)",
     "output_type": "error",
     "traceback": [
      "\u001b[0;36m  File \u001b[0;32m\"/var/folders/7z/lyzbs3rs7cqfcd1z043vxh9h0000gn/T/ipykernel_25286/2106641382.py\"\u001b[0;36m, line \u001b[0;32m1\u001b[0m\n\u001b[0;31m    unrar x data.rar\u001b[0m\n\u001b[0m          ^\u001b[0m\n\u001b[0;31mSyntaxError\u001b[0m\u001b[0;31m:\u001b[0m invalid syntax\n"
     ]
    }
   ],
   "source": [
    "unrar x data.rar"
   ]
  },
  {
   "cell_type": "code",
   "execution_count": 3,
   "id": "b70c1cdd",
   "metadata": {
    "id": "b70c1cdd"
   },
   "outputs": [],
   "source": [
    "import pandas as pd\n",
    "import os "
   ]
  },
  {
   "cell_type": "code",
   "execution_count": 8,
   "id": "0e62f7a7",
   "metadata": {
    "colab": {
     "base_uri": "https://localhost:8080/",
     "height": 284
    },
    "id": "0e62f7a7",
    "outputId": "fd2ded87-931e-4258-90b0-6f324d333a01"
   },
   "outputs": [
    {
     "data": {
      "text/plain": [
       "<matplotlib.image.AxesImage at 0x7fd47dd4c550>"
      ]
     },
     "execution_count": 8,
     "metadata": {},
     "output_type": "execute_result"
    },
    {
     "data": {
      "image/png": "[encoded data removed]",
      "text/plain": [
       "<Figure size 432x288 with 1 Axes>"
      ]
     },
     "metadata": {
      "needs_background": "light"
     },
     "output_type": "display_data"
    }
   ],
   "source": [
    "from matplotlib import image\n",
    "import matplotlib.pyplot as plt\n",
    "\n",
    "image1 = image.imread('extracted_images/-/-_66.jpg') \n",
    "plt.imshow(image1, cmap='gray')"
   ]
  },
  {
   "cell_type": "code",
   "execution_count": 12,
   "id": "a991b7d6",
   "metadata": {
    "colab": {
     "base_uri": "https://localhost:8080/"
    },
    "id": "a991b7d6",
    "outputId": "eef87db1-6c6e-464f-aa63-fd9b24d65dc6"
   },
   "outputs": [
    {
     "data": {
      "text/plain": [
       "82"
      ]
     },
     "execution_count": 12,
     "metadata": {},
     "output_type": "execute_result"
    }
   ],
   "source": [
    "path_to_folders = \"extracted_images/\"    \n",
    "list_of_folders = os.listdir(path_to_folders)\n",
    "# list_of_folders.remove('.DS_Store')\n",
    "len(list_of_folders)"
   ]
  },
  {
   "cell_type": "code",
   "execution_count": 14,
   "id": "791ef7bb",
   "metadata": {
    "colab": {
     "base_uri": "https://localhost:8080/"
    },
    "id": "791ef7bb",
    "outputId": "83251a94-72dc-4232-93f1-f6967c0f1726"
   },
   "outputs": [
    {
     "name": "stdout",
     "output_type": "stream",
     "text": [
      "extracted_images/=/\n",
      "extracted_images/forward_slash/\n",
      "extracted_images/forall/\n",
      "extracted_images/k/\n",
      "extracted_images/1/\n",
      "extracted_images/z/\n",
      "extracted_images/w/\n",
      "extracted_images/N/\n",
      "extracted_images/}/\n",
      "extracted_images/pi/\n",
      "extracted_images/in/\n",
      "extracted_images/T/\n",
      "extracted_images/6/\n",
      "extracted_images/H/\n",
      "extracted_images/log/\n",
      "extracted_images/2/\n",
      "extracted_images/sqrt/\n",
      "extracted_images/lambda/\n",
      "extracted_images/0/\n",
      "extracted_images/C/\n",
      "extracted_images/gamma/\n",
      "extracted_images/o/\n",
      "extracted_images/times/\n",
      "extracted_images/lt/\n",
      "extracted_images/f/\n",
      "extracted_images/M/\n",
      "extracted_images/u/\n",
      "extracted_images/)/\n",
      "extracted_images/[/\n",
      "extracted_images/theta/\n",
      "extracted_images/p/\n",
      "extracted_images/exists/\n",
      "extracted_images/sin/\n",
      "extracted_images/R/\n",
      "extracted_images/gt/\n",
      "extracted_images/mu/\n",
      "extracted_images/{/\n",
      "extracted_images/cos/\n",
      "extracted_images/,/\n",
      "extracted_images/tan/\n",
      "extracted_images/9/\n",
      "extracted_images/e/\n",
      "extracted_images/sigma/\n",
      "extracted_images/alpha/\n",
      "extracted_images/sum/\n",
      "extracted_images/l/\n",
      "extracted_images/rightarrow/\n",
      "extracted_images/+/\n",
      "extracted_images/j/\n",
      "extracted_images/int/\n",
      "extracted_images/7/\n",
      "extracted_images/!/\n",
      "extracted_images/d/\n",
      "extracted_images/leq/\n",
      "extracted_images/4/\n",
      "extracted_images/prime/\n",
      "extracted_images/8/\n",
      "extracted_images/lim/\n",
      "extracted_images/ldots/\n",
      "extracted_images/X/\n",
      "extracted_images/i/\n",
      "extracted_images/div/\n",
      "extracted_images/phi/\n",
      "extracted_images/infty/\n",
      "extracted_images/ascii_124/\n",
      "extracted_images/]/\n",
      "extracted_images/3/\n",
      "extracted_images/y/\n",
      "extracted_images/G/\n",
      "extracted_images/q/\n",
      "extracted_images/v/\n",
      "extracted_images/b/\n",
      "extracted_images/neq/\n",
      "extracted_images/beta/\n",
      "extracted_images/pm/\n",
      "extracted_images/(/\n",
      "extracted_images/5/\n",
      "extracted_images/A/\n",
      "extracted_images/S/\n",
      "extracted_images/-/\n",
      "extracted_images/geq/\n",
      "extracted_images/Delta/\n"
     ]
    }
   ],
   "source": [
    "from PIL import Image\n",
    "import os\n",
    "import numpy as np\n",
    "\n",
    "path_to_folders = \"extracted_images/\"    \n",
    "vectorized_images = []\n",
    "what_folder = []\n",
    "for folder in list_of_folders:\n",
    "    path_to_files = path_to_folders + f\"{folder}/\"\n",
    "    print(path_to_files)\n",
    "    for _, file in enumerate(os.listdir(path_to_files)):\n",
    "        image = Image.open(path_to_files + file)\n",
    "        image_array = np.array(image)\n",
    "        vectorized_images.append(image_array) \n",
    "        what_folder.append(folder)"
   ]
  },
  {
   "cell_type": "code",
   "execution_count": 17,
   "id": "43d553b8",
   "metadata": {
    "id": "43d553b8"
   },
   "outputs": [],
   "source": [
    "array = np.array(vectorized_images)"
   ]
  },
  {
   "cell_type": "code",
   "execution_count": 15,
   "id": "eXBkmUyIpOX1",
   "metadata": {
    "colab": {
     "base_uri": "https://localhost:8080/"
    },
    "id": "eXBkmUyIpOX1",
    "outputId": "6cc43d97-3fab-4a75-ce19-5cde6e824496"
   },
   "outputs": [
    {
     "name": "stdout",
     "output_type": "stream",
     "text": [
      "Mounted at /content/drive\n"
     ]
    }
   ],
   "source": [
    "from google.colab import drive\n",
    "drive.mount('/content/drive')"
   ]
  },
  {
   "cell_type": "code",
   "execution_count": 18,
   "id": "e054ba89",
   "metadata": {
    "colab": {
     "base_uri": "https://localhost:8080/"
    },
    "id": "e054ba89",
    "outputId": "a143ef16-78d8-411a-b9fa-6b073ca02a09"
   },
   "outputs": [
    {
     "name": "stdout",
     "output_type": "stream",
     "text": [
      "375974 375974\n"
     ]
    }
   ],
   "source": [
    "print(len(array), len(what_folder))"
   ]
  },
  {
   "cell_type": "code",
   "execution_count": 19,
   "id": "15551dfa",
   "metadata": {
    "colab": {
     "base_uri": "https://localhost:8080/"
    },
    "id": "15551dfa",
    "outputId": "9ab7dbfb-9d65-44ca-ae8d-146247ef4ae0"
   },
   "outputs": [
    {
     "data": {
      "text/plain": [
       "(375974, 45, 45)"
      ]
     },
     "execution_count": 19,
     "metadata": {},
     "output_type": "execute_result"
    }
   ],
   "source": [
    "array.shape"
   ]
  },
  {
   "cell_type": "code",
   "execution_count": 20,
   "id": "vXm2-o-QrGXz",
   "metadata": {
    "id": "vXm2-o-QrGXz"
   },
   "outputs": [],
   "source": [
    "import pathlib\n",
    "data_dir = pathlib.Path(\"extracted_images\")"
   ]
  },
  {
   "cell_type": "code",
   "execution_count": 21,
   "id": "Ys7vbtSPrEIy",
   "metadata": {
    "colab": {
     "base_uri": "https://localhost:8080/"
    },
    "id": "Ys7vbtSPrEIy",
    "outputId": "1e042e79-7866-4c68-a7b1-f0f4512e8148"
   },
   "outputs": [
    {
     "name": "stdout",
     "output_type": "stream",
     "text": [
      "375974\n"
     ]
    }
   ],
   "source": [
    "image_count = len(list(data_dir.glob('*/*.jpg')))\n",
    "print(image_count)"
   ]
  },
  {
   "cell_type": "code",
   "execution_count": 23,
   "id": "pf8CusxCrdtN",
   "metadata": {
    "colab": {
     "base_uri": "https://localhost:8080/",
     "height": 62
    },
    "id": "pf8CusxCrdtN",
    "outputId": "10eb8612-8889-4231-e4fb-fe8cc063a3bd"
   },
   "outputs": [
    {
     "data": {
      "image/png": "[encoded data removed]",
      "text/plain": [
       "<PIL.JpegImagePlugin.JpegImageFile image mode=L size=45x45 at 0x7FD473754F50>"
      ]
     },
     "execution_count": 23,
     "metadata": {},
     "output_type": "execute_result"
    }
   ],
   "source": [
    "import PIL\n",
    "import PIL.Image\n",
    "\n",
    "equal_sign = list(data_dir.glob('=/*'))\n",
    "PIL.Image.open(str(equal_sign[10]))"
   ]
  },
  {
   "cell_type": "code",
   "execution_count": 25,
   "id": "hqEuo3qysLuv",
   "metadata": {
    "id": "hqEuo3qysLuv"
   },
   "outputs": [],
   "source": [
    "batch_size = 32\n",
    "img_height = 45\n",
    "img_width = 45"
   ]
  },
  {
   "cell_type": "code",
   "execution_count": 26,
   "id": "s3106yEVsNvZ",
   "metadata": {
    "colab": {
     "base_uri": "https://localhost:8080/"
    },
    "id": "s3106yEVsNvZ",
    "outputId": "3b0fbe2e-6b36-4e4c-9819-0f6fd3f7c54f"
   },
   "outputs": [
    {
     "name": "stdout",
     "output_type": "stream",
     "text": [
      "Found 375974 files belonging to 82 classes.\n",
      "Using 300780 files for training.\n"
     ]
    }
   ],
   "source": [
    "train_ds = tf.keras.utils.image_dataset_from_directory(\n",
    "  data_dir,\n",
    "  validation_split=0.2,\n",
    "  subset=\"training\",\n",
    "  seed=123,\n",
    "  image_size=(img_height, img_width),\n",
    "  batch_size=batch_size)"
   ]
  },
  {
   "cell_type": "code",
   "execution_count": 27,
   "id": "GVlm6IoNsaYk",
   "metadata": {
    "colab": {
     "base_uri": "https://localhost:8080/"
    },
    "id": "GVlm6IoNsaYk",
    "outputId": "58c8324b-89b1-41cb-d509-87232c6da5cc"
   },
   "outputs": [
    {
     "name": "stdout",
     "output_type": "stream",
     "text": [
      "Found 375974 files belonging to 82 classes.\n",
      "Using 75194 files for validation.\n"
     ]
    }
   ],
   "source": [
    "val_ds = tf.keras.utils.image_dataset_from_directory(\n",
    "  data_dir,\n",
    "  validation_split=0.2,\n",
    "  subset=\"validation\",\n",
    "  seed=123,\n",
    "  image_size=(img_height, img_width),\n",
    "  batch_size=batch_size)"
   ]
  },
  {
   "cell_type": "code",
   "execution_count": null,
   "id": "da070581",
   "metadata": {
    "id": "da070581"
   },
   "outputs": [],
   "source": [
    "# la suite ici ;-) https://www.tensorflow.org/tutorials/load_data/images"
   ]
  },
  {
   "cell_type": "code",
   "execution_count": null,
   "id": "57dd7e5e",
   "metadata": {
    "id": "57dd7e5e"
   },
   "outputs": [],
   "source": [
    "df['image']=vectorized_images\n",
    "df['target']=what_folder"
   ]
  },
  {
   "cell_type": "code",
   "execution_count": null,
   "id": "04421ea9",
   "metadata": {
    "id": "04421ea9",
    "outputId": "4fb3d8aa-ba7b-4234-e972-ac6566d05c55"
   },
   "outputs": [
    {
     "data": {
      "text/plain": [
       "(45, 45)"
      ]
     },
     "execution_count": 10,
     "metadata": {},
     "output_type": "execute_result"
    }
   ],
   "source": [
    "df['image'][0].shape"
   ]
  },
  {
   "cell_type": "code",
   "execution_count": null,
   "id": "d88ecfba",
   "metadata": {
    "id": "d88ecfba",
    "outputId": "10c1df8f-c331-44e8-880b-8bad50c4ad2e"
   },
   "outputs": [
    {
     "data": {
      "text/plain": [
       "str"
      ]
     },
     "execution_count": 60,
     "metadata": {},
     "output_type": "execute_result"
    }
   ],
   "source": [
    "df['target'][50]"
   ]
  },
  {
   "cell_type": "code",
   "execution_count": null,
   "id": "ab5698df",
   "metadata": {
    "id": "ab5698df",
    "outputId": "c26cd659-a2e3-4cc3-ef18-f7a5a87b8ff8"
   },
   "outputs": [
    {
     "name": "stdout",
     "output_type": "stream",
     "text": [
      "<class 'pandas.core.frame.DataFrame'>\n",
      "RangeIndex: 375974 entries, 0 to 375973\n",
      "Data columns (total 2 columns):\n",
      " #   Column  Non-Null Count   Dtype \n",
      "---  ------  --------------   ----- \n",
      " 0   image   375974 non-null  object\n",
      " 1   target  375974 non-null  object\n",
      "dtypes: object(2)\n",
      "memory usage: 5.7+ MB\n"
     ]
    }
   ],
   "source": [
    "df.info()"
   ]
  },
  {
   "cell_type": "code",
   "execution_count": null,
   "id": "6963f977",
   "metadata": {
    "collapsed": true,
    "id": "6963f977",
    "outputId": "8be42342-512b-452b-97f0-26bdd053c7d1"
   },
   "outputs": [
    {
     "data": {
      "text/plain": [
       "{'!',\n",
       " '(',\n",
       " ')',\n",
       " '+',\n",
       " ',',\n",
       " '-',\n",
       " '0',\n",
       " '1',\n",
       " '2',\n",
       " '3',\n",
       " '4',\n",
       " '5',\n",
       " '6',\n",
       " '7',\n",
       " '8',\n",
       " '9',\n",
       " '=',\n",
       " 'A',\n",
       " 'C',\n",
       " 'Delta',\n",
       " 'G',\n",
       " 'H',\n",
       " 'M',\n",
       " 'N',\n",
       " 'R',\n",
       " 'S',\n",
       " 'T',\n",
       " 'X',\n",
       " '[',\n",
       " ']',\n",
       " 'alpha',\n",
       " 'ascii_124',\n",
       " 'b',\n",
       " 'beta',\n",
       " 'cos',\n",
       " 'd',\n",
       " 'div',\n",
       " 'e',\n",
       " 'exists',\n",
       " 'f',\n",
       " 'forall',\n",
       " 'forward_slash',\n",
       " 'gamma',\n",
       " 'geq',\n",
       " 'gt',\n",
       " 'i',\n",
       " 'in',\n",
       " 'infty',\n",
       " 'int',\n",
       " 'j',\n",
       " 'k',\n",
       " 'l',\n",
       " 'lambda',\n",
       " 'ldots',\n",
       " 'leq',\n",
       " 'lim',\n",
       " 'log',\n",
       " 'lt',\n",
       " 'mu',\n",
       " 'neq',\n",
       " 'o',\n",
       " 'p',\n",
       " 'phi',\n",
       " 'pi',\n",
       " 'pm',\n",
       " 'prime',\n",
       " 'q',\n",
       " 'rightarrow',\n",
       " 'sigma',\n",
       " 'sin',\n",
       " 'sqrt',\n",
       " 'sum',\n",
       " 'tan',\n",
       " 'theta',\n",
       " 'times',\n",
       " 'u',\n",
       " 'v',\n",
       " 'w',\n",
       " 'y',\n",
       " 'z',\n",
       " '{',\n",
       " '}'}"
      ]
     },
     "execution_count": 13,
     "metadata": {},
     "output_type": "execute_result"
    }
   ],
   "source": [
    "set(df['target'])"
   ]
  },
  {
   "cell_type": "code",
   "execution_count": null,
   "id": "f94f7162",
   "metadata": {
    "id": "f94f7162"
   },
   "outputs": [],
   "source": [
    "dct={'Delta' : '\\Delta', 'alpha' : '\\alpha', 'ascii_124' : '|', 'beta':'\\beta', 'cos':'\\cos', \\\n",
    "     'exists':'\\exists','forall':'\\forall', 'forward_slash':'/', 'gamma':'\\gamma', 'geq' :'\\geq',\\\n",
    "     'gt':'>', 'in':'\\in','infty':'\\infty','lambda':'\\lambda', 'ldots':'\\lodts', 'leq':'\\leq',\\\n",
    "     'lim' : '\\lim', 'log':'\\log','It':'<','mu':'\\mu', 'neq':'\\neq', 'phi':'\\phi','pi':'\\pi',\\\n",
    "     'pm':'\\pm','rightarrow':'\\rightarrow', 'sigma': '\\sigma','sin':'\\sin', 'sqrt':'\\sqrt',\\\n",
    "     'sum': '\\sum', 'tan':'\\tan', 'theta':'\\theta', 'times': '\\cdot'} #attention div et int et lim et prime et sum"
   ]
  },
  {
   "cell_type": "code",
   "execution_count": null,
   "id": "53b67386",
   "metadata": {
    "id": "53b67386",
    "outputId": "76345685-c648-4aa4-e47d-79f8119fb681"
   },
   "outputs": [
    {
     "data": {
      "text/plain": [
       "{'\\x08eta',\n",
       " '\\tan',\n",
       " '\\theta',\n",
       " '\\neq',\n",
       " '\\x0corall',\n",
       " '\\rightarrow',\n",
       " '!',\n",
       " '$\\\\alpha$',\n",
       " '(',\n",
       " ')',\n",
       " '+',\n",
       " ',',\n",
       " '-',\n",
       " '/',\n",
       " '0',\n",
       " '1',\n",
       " '2',\n",
       " '3',\n",
       " '4',\n",
       " '5',\n",
       " '6',\n",
       " '7',\n",
       " '8',\n",
       " '9',\n",
       " '=',\n",
       " '>',\n",
       " 'A',\n",
       " 'C',\n",
       " 'G',\n",
       " 'H',\n",
       " 'M',\n",
       " 'N',\n",
       " 'R',\n",
       " 'S',\n",
       " 'T',\n",
       " 'X',\n",
       " '[',\n",
       " '\\\\Delta',\n",
       " '\\\\cdot',\n",
       " '\\\\cos',\n",
       " '\\\\exists',\n",
       " '\\\\gamma',\n",
       " '\\\\geq',\n",
       " '\\\\in',\n",
       " '\\\\infty',\n",
       " '\\\\lambda',\n",
       " '\\\\leq',\n",
       " '\\\\lim',\n",
       " '\\\\lodts',\n",
       " '\\\\log',\n",
       " '\\\\mu',\n",
       " '\\\\phi',\n",
       " '\\\\pi',\n",
       " '\\\\pm',\n",
       " '\\\\sigma',\n",
       " '\\\\sin',\n",
       " '\\\\sqrt',\n",
       " '\\\\sum',\n",
       " ']',\n",
       " 'b',\n",
       " 'd',\n",
       " 'div',\n",
       " 'e',\n",
       " 'f',\n",
       " 'i',\n",
       " 'int',\n",
       " 'j',\n",
       " 'k',\n",
       " 'l',\n",
       " 'lt',\n",
       " 'o',\n",
       " 'p',\n",
       " 'prime',\n",
       " 'q',\n",
       " 'u',\n",
       " 'v',\n",
       " 'w',\n",
       " 'y',\n",
       " 'z',\n",
       " '{',\n",
       " '|',\n",
       " '}'}"
      ]
     },
     "execution_count": 88,
     "metadata": {},
     "output_type": "execute_result"
    }
   ],
   "source": [
    "set(df['target'].replace(dct))"
   ]
  },
  {
   "cell_type": "code",
   "execution_count": null,
   "id": "e6cfa93e",
   "metadata": {
    "id": "e6cfa93e"
   },
   "outputs": [],
   "source": [
    "y=df['target'].astype(dtype=\"string\")\n",
    "X=df.drop('target', axis=1)"
   ]
  },
  {
   "cell_type": "code",
   "execution_count": null,
   "id": "1b2cdf7f",
   "metadata": {
    "id": "1b2cdf7f",
    "outputId": "cee70823-cc6d-4832-a874-48c3b5dc172f"
   },
   "outputs": [
    {
     "data": {
      "text/html": [
       "<div>\n",
       "<style scoped>\n",
       "    .dataframe tbody tr th:only-of-type {\n",
       "        vertical-align: middle;\n",
       "    }\n",
       "\n",
       "    .dataframe tbody tr th {\n",
       "        vertical-align: top;\n",
       "    }\n",
       "\n",
       "    .dataframe thead th {\n",
       "        text-align: right;\n",
       "    }\n",
       "</style>\n",
       "<table border=\"1\" class=\"dataframe\">\n",
       "  <thead>\n",
       "    <tr style=\"text-align: right;\">\n",
       "      <th></th>\n",
       "      <th>image</th>\n",
       "    </tr>\n",
       "  </thead>\n",
       "  <tbody>\n",
       "    <tr>\n",
       "      <th>0</th>\n",
       "      <td>[[255, 255, 255, 255, 255, 255, 255, 255, 255,...</td>\n",
       "    </tr>\n",
       "    <tr>\n",
       "      <th>1</th>\n",
       "      <td>[[255, 255, 255, 255, 255, 255, 255, 255, 255,...</td>\n",
       "    </tr>\n",
       "    <tr>\n",
       "      <th>2</th>\n",
       "      <td>[[255, 255, 255, 255, 255, 255, 255, 255, 255,...</td>\n",
       "    </tr>\n",
       "    <tr>\n",
       "      <th>3</th>\n",
       "      <td>[[255, 255, 255, 255, 255, 255, 255, 255, 255,...</td>\n",
       "    </tr>\n",
       "    <tr>\n",
       "      <th>4</th>\n",
       "      <td>[[255, 255, 255, 255, 255, 255, 255, 255, 255,...</td>\n",
       "    </tr>\n",
       "    <tr>\n",
       "      <th>...</th>\n",
       "      <td>...</td>\n",
       "    </tr>\n",
       "    <tr>\n",
       "      <th>375969</th>\n",
       "      <td>[[255, 255, 255, 255, 255, 255, 255, 255, 255,...</td>\n",
       "    </tr>\n",
       "    <tr>\n",
       "      <th>375970</th>\n",
       "      <td>[[255, 254, 255, 254, 255, 255, 254, 255, 255,...</td>\n",
       "    </tr>\n",
       "    <tr>\n",
       "      <th>375971</th>\n",
       "      <td>[[255, 255, 255, 255, 255, 255, 255, 255, 255,...</td>\n",
       "    </tr>\n",
       "    <tr>\n",
       "      <th>375972</th>\n",
       "      <td>[[255, 255, 255, 255, 255, 255, 255, 255, 255,...</td>\n",
       "    </tr>\n",
       "    <tr>\n",
       "      <th>375973</th>\n",
       "      <td>[[255, 253, 255, 255, 251, 255, 254, 255, 255,...</td>\n",
       "    </tr>\n",
       "  </tbody>\n",
       "</table>\n",
       "<p>375974 rows × 1 columns</p>\n",
       "</div>"
      ],
      "text/plain": [
       "                                                    image\n",
       "0       [[255, 255, 255, 255, 255, 255, 255, 255, 255,...\n",
       "1       [[255, 255, 255, 255, 255, 255, 255, 255, 255,...\n",
       "2       [[255, 255, 255, 255, 255, 255, 255, 255, 255,...\n",
       "3       [[255, 255, 255, 255, 255, 255, 255, 255, 255,...\n",
       "4       [[255, 255, 255, 255, 255, 255, 255, 255, 255,...\n",
       "...                                                   ...\n",
       "375969  [[255, 255, 255, 255, 255, 255, 255, 255, 255,...\n",
       "375970  [[255, 254, 255, 254, 255, 255, 254, 255, 255,...\n",
       "375971  [[255, 255, 255, 255, 255, 255, 255, 255, 255,...\n",
       "375972  [[255, 255, 255, 255, 255, 255, 255, 255, 255,...\n",
       "375973  [[255, 253, 255, 255, 251, 255, 254, 255, 255,...\n",
       "\n",
       "[375974 rows x 1 columns]"
      ]
     },
     "execution_count": 54,
     "metadata": {},
     "output_type": "execute_result"
    }
   ],
   "source": [
    "X"
   ]
  },
  {
   "cell_type": "code",
   "execution_count": null,
   "id": "c9caff94",
   "metadata": {
    "collapsed": true,
    "id": "c9caff94",
    "outputId": "3131bc11-5faf-41df-bd6d-ec35ce90c731"
   },
   "outputs": [
    {
     "ename": "ValueError",
     "evalue": "setting an array element with a sequence.",
     "output_type": "error",
     "traceback": [
      "\u001b[0;31m---------------------------------------------------------------------------\u001b[0m",
      "\u001b[0;31mTypeError\u001b[0m                                 Traceback (most recent call last)",
      "\u001b[0;31mTypeError\u001b[0m: only size-1 arrays can be converted to Python scalars",
      "\nThe above exception was the direct cause of the following exception:\n",
      "\u001b[0;31mValueError\u001b[0m                                Traceback (most recent call last)",
      "\u001b[0;32m/var/folders/7z/lyzbs3rs7cqfcd1z043vxh9h0000gn/T/ipykernel_19355/2206831796.py\u001b[0m in \u001b[0;36m<module>\u001b[0;34m\u001b[0m\n\u001b[0;32m----> 1\u001b[0;31m \u001b[0mX\u001b[0m \u001b[0;34m=\u001b[0m \u001b[0mnp\u001b[0m\u001b[0;34m.\u001b[0m\u001b[0masarray\u001b[0m\u001b[0;34m(\u001b[0m\u001b[0mX\u001b[0m\u001b[0;34m[\u001b[0m\u001b[0;34m'image'\u001b[0m\u001b[0;34m]\u001b[0m\u001b[0;34m)\u001b[0m\u001b[0;34m.\u001b[0m\u001b[0mastype\u001b[0m\u001b[0;34m(\u001b[0m\u001b[0mnp\u001b[0m\u001b[0;34m.\u001b[0m\u001b[0mfloat32\u001b[0m\u001b[0;34m)\u001b[0m\u001b[0;34m\u001b[0m\u001b[0;34m\u001b[0m\u001b[0m\n\u001b[0m",
      "\u001b[0;31mValueError\u001b[0m: setting an array element with a sequence."
     ]
    }
   ],
   "source": [
    "#X = np.asarray(X).astype(np.float32)"
   ]
  },
  {
   "cell_type": "code",
   "execution_count": null,
   "id": "ad23350c",
   "metadata": {
    "collapsed": true,
    "id": "ad23350c",
    "outputId": "3761765e-fd90-4e62-b9c0-c2480ab50803"
   },
   "outputs": [
    {
     "data": {
      "text/plain": [
       "{'!',\n",
       " '(',\n",
       " ')',\n",
       " '+',\n",
       " ',',\n",
       " '-',\n",
       " '0',\n",
       " '1',\n",
       " '2',\n",
       " '3',\n",
       " '4',\n",
       " '5',\n",
       " '6',\n",
       " '7',\n",
       " '8',\n",
       " '9',\n",
       " '=',\n",
       " 'A',\n",
       " 'C',\n",
       " 'Delta',\n",
       " 'G',\n",
       " 'H',\n",
       " 'M',\n",
       " 'N',\n",
       " 'R',\n",
       " 'S',\n",
       " 'T',\n",
       " 'X',\n",
       " '[',\n",
       " ']',\n",
       " 'alpha',\n",
       " 'ascii_124',\n",
       " 'b',\n",
       " 'beta',\n",
       " 'cos',\n",
       " 'd',\n",
       " 'div',\n",
       " 'e',\n",
       " 'exists',\n",
       " 'f',\n",
       " 'forall',\n",
       " 'forward_slash',\n",
       " 'gamma',\n",
       " 'geq',\n",
       " 'gt',\n",
       " 'i',\n",
       " 'in',\n",
       " 'infty',\n",
       " 'int',\n",
       " 'j',\n",
       " 'k',\n",
       " 'l',\n",
       " 'lambda',\n",
       " 'ldots',\n",
       " 'leq',\n",
       " 'lim',\n",
       " 'log',\n",
       " 'lt',\n",
       " 'mu',\n",
       " 'neq',\n",
       " 'o',\n",
       " 'p',\n",
       " 'phi',\n",
       " 'pi',\n",
       " 'pm',\n",
       " 'prime',\n",
       " 'q',\n",
       " 'rightarrow',\n",
       " 'sigma',\n",
       " 'sin',\n",
       " 'sqrt',\n",
       " 'sum',\n",
       " 'tan',\n",
       " 'theta',\n",
       " 'times',\n",
       " 'u',\n",
       " 'v',\n",
       " 'w',\n",
       " 'y',\n",
       " 'z',\n",
       " '{',\n",
       " '}'}"
      ]
     },
     "execution_count": 55,
     "metadata": {},
     "output_type": "execute_result"
    }
   ],
   "source": [
    "set(df['target']) #probleme de formattage"
   ]
  },
  {
   "cell_type": "code",
   "execution_count": null,
   "id": "5f858109",
   "metadata": {
    "id": "5f858109"
   },
   "outputs": [],
   "source": [
    "from sklearn.model_selection import train_test_split \n",
    "X_train, X_test, y_train, y_test = train_test_split(X, y, test_size=0.3,stratify=y) "
   ]
  },
  {
   "cell_type": "code",
   "execution_count": null,
   "id": "62692c10",
   "metadata": {
    "id": "62692c10",
    "outputId": "828aeb3a-6d24-4fb5-d77b-b6af689891b4"
   },
   "outputs": [
    {
     "data": {
      "text/plain": [
       "numpy.ndarray"
      ]
     },
     "execution_count": 111,
     "metadata": {},
     "output_type": "execute_result"
    }
   ],
   "source": [
    "type(X_train['image'][0])"
   ]
  },
  {
   "cell_type": "code",
   "execution_count": null,
   "id": "b33127aa",
   "metadata": {
    "id": "b33127aa",
    "outputId": "b550753c-68e0-4d54-946e-b63c688d6889"
   },
   "outputs": [
    {
     "data": {
      "text/plain": [
       "60067     [[255, 255, 255, 255, 255, 255, 255, 255, 255,...\n",
       "340033    [[255, 255, 255, 254, 255, 254, 255, 255, 255,...\n",
       "364970    [[255, 255, 255, 255, 255, 255, 255, 255, 255,...\n",
       "249363    [[255, 255, 255, 255, 255, 255, 255, 255, 255,...\n",
       "374809    [[255, 255, 255, 255, 255, 255, 255, 255, 255,...\n",
       "                                ...                        \n",
       "290333    [[255, 255, 255, 255, 255, 255, 255, 255, 254,...\n",
       "89024     [[255, 255, 255, 255, 255, 255, 255, 255, 255,...\n",
       "353938    [[254, 255, 254, 255, 255, 255, 252, 255, 254,...\n",
       "240570    [[255, 255, 255, 255, 255, 255, 255, 255, 255,...\n",
       "240858    [[255, 255, 255, 255, 255, 255, 255, 255, 255,...\n",
       "Name: image, Length: 263181, dtype: object"
      ]
     },
     "execution_count": 118,
     "metadata": {},
     "output_type": "execute_result"
    }
   ],
   "source": [
    "X1=X_train['image']\n",
    "X1"
   ]
  },
  {
   "cell_type": "code",
   "execution_count": 24,
   "id": "cffc480c",
   "metadata": {
    "id": "cffc480c"
   },
   "outputs": [],
   "source": [
    "import tensorflow as tf\n",
    "\n",
    "from tensorflow.keras import layers\n",
    "from tensorflow.keras import models"
   ]
  },
  {
   "cell_type": "code",
   "execution_count": null,
   "id": "7295c4fa",
   "metadata": {
    "id": "7295c4fa"
   },
   "outputs": [],
   "source": [
    "def initialize_model():\n",
    "\n",
    "    model = models.Sequential()\n",
    "\n",
    "    ### First Convolution & MaxPooling\n",
    "    model.add(layers.Conv2D(8, (4,4), input_shape=(45,45,1), padding='same', activation=\"relu\"))\n",
    "    model.add(layers.MaxPool2D(pool_size=(2,2)))\n",
    "    \n",
    "    ### Second Convolution & MaxPooling\n",
    "    model.add(layers.Conv2D(16, (3,3), activation=\"relu\"))\n",
    "    model.add(layers.MaxPool2D(pool_size=(2,2))) \n",
    "    \n",
    "    ### Flattening\n",
    "    model.add(layers.Flatten())\n",
    "    \n",
    "    \n",
    "    ### One Fully Connected layer - \"Fully Connected\" is equivalent to saying \"Dense\"\n",
    "    model.add(layers.Dense(10, activation='relu'))\n",
    "\n",
    "    \n",
    "    ### Last layer - Classification Layer with 10 outputs corresponding to 10 digits\n",
    "    model.add(layers.Dense(10, activation='softmax'))\n",
    "    \n",
    "    ### Model compilation\n",
    "    model.compile(loss='categorical_crossentropy', # different from binary_crossentropy because we have multiple classes\n",
    "                  optimizer='adam', \n",
    "                  metrics=['accuracy']) \n",
    "    \n",
    "    return model"
   ]
  },
  {
   "cell_type": "code",
   "execution_count": null,
   "id": "cbcec3c7",
   "metadata": {
    "id": "cbcec3c7",
    "outputId": "8870aea4-aa2c-45dd-f542-46cf4571c2ff"
   },
   "outputs": [
    {
     "name": "stdout",
     "output_type": "stream",
     "text": [
      "Model: \"sequential_8\"\n",
      "_________________________________________________________________\n",
      " Layer (type)                Output Shape              Param #   \n",
      "=================================================================\n",
      " conv2d_15 (Conv2D)          (None, 45, 45, 8)         136       \n",
      "                                                                 \n",
      " max_pooling2d_14 (MaxPoolin  (None, 22, 22, 8)        0         \n",
      " g2D)                                                            \n",
      "                                                                 \n",
      " conv2d_16 (Conv2D)          (None, 20, 20, 16)        1168      \n",
      "                                                                 \n",
      " max_pooling2d_15 (MaxPoolin  (None, 10, 10, 16)       0         \n",
      " g2D)                                                            \n",
      "                                                                 \n",
      " flatten_7 (Flatten)         (None, 1600)              0         \n",
      "                                                                 \n",
      " dense_14 (Dense)            (None, 10)                16010     \n",
      "                                                                 \n",
      " dense_15 (Dense)            (None, 10)                110       \n",
      "                                                                 \n",
      "=================================================================\n",
      "Total params: 17,424\n",
      "Trainable params: 17,424\n",
      "Non-trainable params: 0\n",
      "_________________________________________________________________\n"
     ]
    }
   ],
   "source": [
    "model=initialize_model()\n",
    "\n",
    "model.summary()"
   ]
  },
  {
   "cell_type": "code",
   "execution_count": null,
   "id": "6e5b1add",
   "metadata": {
    "collapsed": true,
    "id": "6e5b1add",
    "outputId": "40d1b33a-6c53-4592-f475-1a0da77a1ef9"
   },
   "outputs": [
    {
     "ename": "KeyError",
     "evalue": "-1",
     "output_type": "error",
     "traceback": [
      "\u001b[0;31m---------------------------------------------------------------------------\u001b[0m",
      "\u001b[0;31mKeyError\u001b[0m                                  Traceback (most recent call last)",
      "\u001b[0;32m~/.pyenv/versions/3.8.13/envs/lewagon/lib/python3.8/site-packages/pandas/core/indexes/base.py\u001b[0m in \u001b[0;36mget_loc\u001b[0;34m(self, key, method, tolerance)\u001b[0m\n\u001b[1;32m   3360\u001b[0m             \u001b[0;32mtry\u001b[0m\u001b[0;34m:\u001b[0m\u001b[0;34m\u001b[0m\u001b[0;34m\u001b[0m\u001b[0m\n\u001b[0;32m-> 3361\u001b[0;31m                 \u001b[0;32mreturn\u001b[0m \u001b[0mself\u001b[0m\u001b[0;34m.\u001b[0m\u001b[0m_engine\u001b[0m\u001b[0;34m.\u001b[0m\u001b[0mget_loc\u001b[0m\u001b[0;34m(\u001b[0m\u001b[0mcasted_key\u001b[0m\u001b[0;34m)\u001b[0m\u001b[0;34m\u001b[0m\u001b[0;34m\u001b[0m\u001b[0m\n\u001b[0m\u001b[1;32m   3362\u001b[0m             \u001b[0;32mexcept\u001b[0m \u001b[0mKeyError\u001b[0m \u001b[0;32mas\u001b[0m \u001b[0merr\u001b[0m\u001b[0;34m:\u001b[0m\u001b[0;34m\u001b[0m\u001b[0;34m\u001b[0m\u001b[0m\n",
      "\u001b[0;32m~/.pyenv/versions/3.8.13/envs/lewagon/lib/python3.8/site-packages/pandas/_libs/index.pyx\u001b[0m in \u001b[0;36mpandas._libs.index.IndexEngine.get_loc\u001b[0;34m()\u001b[0m\n",
      "\u001b[0;32m~/.pyenv/versions/3.8.13/envs/lewagon/lib/python3.8/site-packages/pandas/_libs/index.pyx\u001b[0m in \u001b[0;36mpandas._libs.index.IndexEngine.get_loc\u001b[0;34m()\u001b[0m\n",
      "\u001b[0;32mpandas/_libs/hashtable_class_helper.pxi\u001b[0m in \u001b[0;36mpandas._libs.hashtable.Int64HashTable.get_item\u001b[0;34m()\u001b[0m\n",
      "\u001b[0;32mpandas/_libs/hashtable_class_helper.pxi\u001b[0m in \u001b[0;36mpandas._libs.hashtable.Int64HashTable.get_item\u001b[0;34m()\u001b[0m\n",
      "\u001b[0;31mKeyError\u001b[0m: -1",
      "\nThe above exception was the direct cause of the following exception:\n",
      "\u001b[0;31mKeyError\u001b[0m                                  Traceback (most recent call last)",
      "\u001b[0;32m/var/folders/7z/lyzbs3rs7cqfcd1z043vxh9h0000gn/T/ipykernel_19355/637758672.py\u001b[0m in \u001b[0;36m<module>\u001b[0;34m\u001b[0m\n\u001b[0;32m----> 1\u001b[0;31m \u001b[0mX_train\u001b[0m\u001b[0;34m[\u001b[0m\u001b[0;34m'image'\u001b[0m\u001b[0;34m]\u001b[0m\u001b[0;34m[\u001b[0m\u001b[0;34m-\u001b[0m\u001b[0;36m1\u001b[0m\u001b[0;34m]\u001b[0m\u001b[0;34m\u001b[0m\u001b[0;34m\u001b[0m\u001b[0m\n\u001b[0m",
      "\u001b[0;32m~/.pyenv/versions/3.8.13/envs/lewagon/lib/python3.8/site-packages/pandas/core/series.py\u001b[0m in \u001b[0;36m__getitem__\u001b[0;34m(self, key)\u001b[0m\n\u001b[1;32m    940\u001b[0m \u001b[0;34m\u001b[0m\u001b[0m\n\u001b[1;32m    941\u001b[0m         \u001b[0;32melif\u001b[0m \u001b[0mkey_is_scalar\u001b[0m\u001b[0;34m:\u001b[0m\u001b[0;34m\u001b[0m\u001b[0;34m\u001b[0m\u001b[0m\n\u001b[0;32m--> 942\u001b[0;31m             \u001b[0;32mreturn\u001b[0m \u001b[0mself\u001b[0m\u001b[0;34m.\u001b[0m\u001b[0m_get_value\u001b[0m\u001b[0;34m(\u001b[0m\u001b[0mkey\u001b[0m\u001b[0;34m)\u001b[0m\u001b[0;34m\u001b[0m\u001b[0;34m\u001b[0m\u001b[0m\n\u001b[0m\u001b[1;32m    943\u001b[0m \u001b[0;34m\u001b[0m\u001b[0m\n\u001b[1;32m    944\u001b[0m         \u001b[0;32mif\u001b[0m \u001b[0mis_hashable\u001b[0m\u001b[0;34m(\u001b[0m\u001b[0mkey\u001b[0m\u001b[0;34m)\u001b[0m\u001b[0;34m:\u001b[0m\u001b[0;34m\u001b[0m\u001b[0;34m\u001b[0m\u001b[0m\n",
      "\u001b[0;32m~/.pyenv/versions/3.8.13/envs/lewagon/lib/python3.8/site-packages/pandas/core/series.py\u001b[0m in \u001b[0;36m_get_value\u001b[0;34m(self, label, takeable)\u001b[0m\n\u001b[1;32m   1049\u001b[0m \u001b[0;34m\u001b[0m\u001b[0m\n\u001b[1;32m   1050\u001b[0m         \u001b[0;31m# Similar to Index.get_value, but we do not fall back to positional\u001b[0m\u001b[0;34m\u001b[0m\u001b[0;34m\u001b[0m\u001b[0;34m\u001b[0m\u001b[0m\n\u001b[0;32m-> 1051\u001b[0;31m         \u001b[0mloc\u001b[0m \u001b[0;34m=\u001b[0m \u001b[0mself\u001b[0m\u001b[0;34m.\u001b[0m\u001b[0mindex\u001b[0m\u001b[0;34m.\u001b[0m\u001b[0mget_loc\u001b[0m\u001b[0;34m(\u001b[0m\u001b[0mlabel\u001b[0m\u001b[0;34m)\u001b[0m\u001b[0;34m\u001b[0m\u001b[0;34m\u001b[0m\u001b[0m\n\u001b[0m\u001b[1;32m   1052\u001b[0m         \u001b[0;32mreturn\u001b[0m \u001b[0mself\u001b[0m\u001b[0;34m.\u001b[0m\u001b[0mindex\u001b[0m\u001b[0;34m.\u001b[0m\u001b[0m_get_values_for_loc\u001b[0m\u001b[0;34m(\u001b[0m\u001b[0mself\u001b[0m\u001b[0;34m,\u001b[0m \u001b[0mloc\u001b[0m\u001b[0;34m,\u001b[0m \u001b[0mlabel\u001b[0m\u001b[0;34m)\u001b[0m\u001b[0;34m\u001b[0m\u001b[0;34m\u001b[0m\u001b[0m\n\u001b[1;32m   1053\u001b[0m \u001b[0;34m\u001b[0m\u001b[0m\n",
      "\u001b[0;32m~/.pyenv/versions/3.8.13/envs/lewagon/lib/python3.8/site-packages/pandas/core/indexes/base.py\u001b[0m in \u001b[0;36mget_loc\u001b[0;34m(self, key, method, tolerance)\u001b[0m\n\u001b[1;32m   3361\u001b[0m                 \u001b[0;32mreturn\u001b[0m \u001b[0mself\u001b[0m\u001b[0;34m.\u001b[0m\u001b[0m_engine\u001b[0m\u001b[0;34m.\u001b[0m\u001b[0mget_loc\u001b[0m\u001b[0;34m(\u001b[0m\u001b[0mcasted_key\u001b[0m\u001b[0;34m)\u001b[0m\u001b[0;34m\u001b[0m\u001b[0;34m\u001b[0m\u001b[0m\n\u001b[1;32m   3362\u001b[0m             \u001b[0;32mexcept\u001b[0m \u001b[0mKeyError\u001b[0m \u001b[0;32mas\u001b[0m \u001b[0merr\u001b[0m\u001b[0;34m:\u001b[0m\u001b[0;34m\u001b[0m\u001b[0;34m\u001b[0m\u001b[0m\n\u001b[0;32m-> 3363\u001b[0;31m                 \u001b[0;32mraise\u001b[0m \u001b[0mKeyError\u001b[0m\u001b[0;34m(\u001b[0m\u001b[0mkey\u001b[0m\u001b[0;34m)\u001b[0m \u001b[0;32mfrom\u001b[0m \u001b[0merr\u001b[0m\u001b[0;34m\u001b[0m\u001b[0;34m\u001b[0m\u001b[0m\n\u001b[0m\u001b[1;32m   3364\u001b[0m \u001b[0;34m\u001b[0m\u001b[0m\n\u001b[1;32m   3365\u001b[0m         \u001b[0;32mif\u001b[0m \u001b[0mis_scalar\u001b[0m\u001b[0;34m(\u001b[0m\u001b[0mkey\u001b[0m\u001b[0;34m)\u001b[0m \u001b[0;32mand\u001b[0m \u001b[0misna\u001b[0m\u001b[0;34m(\u001b[0m\u001b[0mkey\u001b[0m\u001b[0;34m)\u001b[0m \u001b[0;32mand\u001b[0m \u001b[0;32mnot\u001b[0m \u001b[0mself\u001b[0m\u001b[0;34m.\u001b[0m\u001b[0mhasnans\u001b[0m\u001b[0;34m:\u001b[0m\u001b[0;34m\u001b[0m\u001b[0;34m\u001b[0m\u001b[0m\n",
      "\u001b[0;31mKeyError\u001b[0m: -1"
     ]
    }
   ],
   "source": []
  },
  {
   "cell_type": "code",
   "execution_count": null,
   "id": "bc061dfd",
   "metadata": {
    "id": "bc061dfd",
    "outputId": "9df902d7-2990-4388-c3f3-41eb8ed5c1d5"
   },
   "outputs": [
    {
     "ename": "ValueError",
     "evalue": "Failed to convert a NumPy array to a Tensor (Unsupported object type numpy.ndarray).",
     "output_type": "error",
     "traceback": [
      "\u001b[0;31m---------------------------------------------------------------------------\u001b[0m",
      "\u001b[0;31mValueError\u001b[0m                                Traceback (most recent call last)",
      "\u001b[0;32m/var/folders/7z/lyzbs3rs7cqfcd1z043vxh9h0000gn/T/ipykernel_19355/2150310412.py\u001b[0m in \u001b[0;36m<module>\u001b[0;34m\u001b[0m\n\u001b[1;32m      1\u001b[0m \u001b[0mmodel\u001b[0m \u001b[0;34m=\u001b[0m \u001b[0minitialize_model\u001b[0m\u001b[0;34m(\u001b[0m\u001b[0;34m)\u001b[0m\u001b[0;34m\u001b[0m\u001b[0;34m\u001b[0m\u001b[0m\n\u001b[1;32m      2\u001b[0m \u001b[0;34m\u001b[0m\u001b[0m\n\u001b[0;32m----> 3\u001b[0;31m history = model.fit(X1, y_train,\n\u001b[0m\u001b[1;32m      4\u001b[0m                     \u001b[0mvalidation_split\u001b[0m \u001b[0;34m=\u001b[0m \u001b[0;36m0.3\u001b[0m\u001b[0;34m,\u001b[0m\u001b[0;34m\u001b[0m\u001b[0;34m\u001b[0m\u001b[0m\n\u001b[1;32m      5\u001b[0m                     \u001b[0mepochs\u001b[0m \u001b[0;34m=\u001b[0m \u001b[0;36m5\u001b[0m\u001b[0;34m,\u001b[0m\u001b[0;34m\u001b[0m\u001b[0;34m\u001b[0m\u001b[0m\n",
      "\u001b[0;32m~/.pyenv/versions/3.8.13/envs/lewagon/lib/python3.8/site-packages/keras/utils/traceback_utils.py\u001b[0m in \u001b[0;36merror_handler\u001b[0;34m(*args, **kwargs)\u001b[0m\n\u001b[1;32m     65\u001b[0m     \u001b[0;32mexcept\u001b[0m \u001b[0mException\u001b[0m \u001b[0;32mas\u001b[0m \u001b[0me\u001b[0m\u001b[0;34m:\u001b[0m  \u001b[0;31m# pylint: disable=broad-except\u001b[0m\u001b[0;34m\u001b[0m\u001b[0;34m\u001b[0m\u001b[0m\n\u001b[1;32m     66\u001b[0m       \u001b[0mfiltered_tb\u001b[0m \u001b[0;34m=\u001b[0m \u001b[0m_process_traceback_frames\u001b[0m\u001b[0;34m(\u001b[0m\u001b[0me\u001b[0m\u001b[0;34m.\u001b[0m\u001b[0m__traceback__\u001b[0m\u001b[0;34m)\u001b[0m\u001b[0;34m\u001b[0m\u001b[0;34m\u001b[0m\u001b[0m\n\u001b[0;32m---> 67\u001b[0;31m       \u001b[0;32mraise\u001b[0m \u001b[0me\u001b[0m\u001b[0;34m.\u001b[0m\u001b[0mwith_traceback\u001b[0m\u001b[0;34m(\u001b[0m\u001b[0mfiltered_tb\u001b[0m\u001b[0;34m)\u001b[0m \u001b[0;32mfrom\u001b[0m \u001b[0;32mNone\u001b[0m\u001b[0;34m\u001b[0m\u001b[0;34m\u001b[0m\u001b[0m\n\u001b[0m\u001b[1;32m     68\u001b[0m     \u001b[0;32mfinally\u001b[0m\u001b[0;34m:\u001b[0m\u001b[0;34m\u001b[0m\u001b[0;34m\u001b[0m\u001b[0m\n\u001b[1;32m     69\u001b[0m       \u001b[0;32mdel\u001b[0m \u001b[0mfiltered_tb\u001b[0m\u001b[0;34m\u001b[0m\u001b[0;34m\u001b[0m\u001b[0m\n",
      "\u001b[0;32m~/.pyenv/versions/3.8.13/envs/lewagon/lib/python3.8/site-packages/tensorflow/python/framework/constant_op.py\u001b[0m in \u001b[0;36mconvert_to_eager_tensor\u001b[0;34m(value, ctx, dtype)\u001b[0m\n\u001b[1;32m    100\u001b[0m       \u001b[0mdtype\u001b[0m \u001b[0;34m=\u001b[0m \u001b[0mdtypes\u001b[0m\u001b[0;34m.\u001b[0m\u001b[0mas_dtype\u001b[0m\u001b[0;34m(\u001b[0m\u001b[0mdtype\u001b[0m\u001b[0;34m)\u001b[0m\u001b[0;34m.\u001b[0m\u001b[0mas_datatype_enum\u001b[0m\u001b[0;34m\u001b[0m\u001b[0;34m\u001b[0m\u001b[0m\n\u001b[1;32m    101\u001b[0m   \u001b[0mctx\u001b[0m\u001b[0;34m.\u001b[0m\u001b[0mensure_initialized\u001b[0m\u001b[0;34m(\u001b[0m\u001b[0;34m)\u001b[0m\u001b[0;34m\u001b[0m\u001b[0;34m\u001b[0m\u001b[0m\n\u001b[0;32m--> 102\u001b[0;31m   \u001b[0;32mreturn\u001b[0m \u001b[0mops\u001b[0m\u001b[0;34m.\u001b[0m\u001b[0mEagerTensor\u001b[0m\u001b[0;34m(\u001b[0m\u001b[0mvalue\u001b[0m\u001b[0;34m,\u001b[0m \u001b[0mctx\u001b[0m\u001b[0;34m.\u001b[0m\u001b[0mdevice_name\u001b[0m\u001b[0;34m,\u001b[0m \u001b[0mdtype\u001b[0m\u001b[0;34m)\u001b[0m\u001b[0;34m\u001b[0m\u001b[0;34m\u001b[0m\u001b[0m\n\u001b[0m\u001b[1;32m    103\u001b[0m \u001b[0;34m\u001b[0m\u001b[0m\n\u001b[1;32m    104\u001b[0m \u001b[0;34m\u001b[0m\u001b[0m\n",
      "\u001b[0;31mValueError\u001b[0m: Failed to convert a NumPy array to a Tensor (Unsupported object type numpy.ndarray)."
     ]
    }
   ],
   "source": [
    "\n",
    "model = initialize_model()\n",
    "\n",
    "history = model.fit(X1, y_train,\n",
    "                    validation_split = 0.3,\n",
    "                    epochs = 5,\n",
    "                    batch_size = 16, \n",
    "                    verbose = 1)"
   ]
  },
  {
   "cell_type": "code",
   "execution_count": null,
   "id": "2fc156bc",
   "metadata": {
    "id": "2fc156bc"
   },
   "outputs": [],
   "source": []
  }
 ],
 "metadata": {
  "colab": {
   "name": "AntoineMoreno_test_v2.ipynb",
   "provenance": []
  },
  "kernelspec": {
   "display_name": "Python 3 (ipykernel)",
   "language": "python",
   "name": "python3"
  },
  "language_info": {
   "codemirror_mode": {
    "name": "ipython",
    "version": 3
   },
   "file_extension": ".py",
   "mimetype": "text/x-python",
   "name": "python",
   "nbconvert_exporter": "python",
   "pygments_lexer": "ipython3",
   "version": "3.8.13"
  },
  "toc": {
   "base_numbering": 1,
   "nav_menu": {},
   "number_sections": true,
   "sideBar": true,
   "skip_h1_title": false,
   "title_cell": "Table of Contents",
   "title_sidebar": "Contents",
   "toc_cell": false,
   "toc_position": {},
   "toc_section_display": true,
   "toc_window_display": false
  }
 },
 "nbformat": 4,
 "nbformat_minor": 5
}
