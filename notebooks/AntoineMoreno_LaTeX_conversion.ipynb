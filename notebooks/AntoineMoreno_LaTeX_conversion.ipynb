{
 "cells": [
  {
   "cell_type": "code",
   "execution_count": 24,
   "id": "1f084cc8",
   "metadata": {},
   "outputs": [],
   "source": [
    "import numpy as np\n",
    "import tensorflow as tf\n",
    "import numpy as np\n",
    "import os"
   ]
  },
  {
   "cell_type": "code",
   "execution_count": 25,
   "id": "143d9d56",
   "metadata": {},
   "outputs": [],
   "source": [
    "import pathlib\n",
    "data_dir = pathlib.Path(\"../raw_data/data\")\n"
   ]
  },
  {
   "cell_type": "code",
   "execution_count": 26,
   "id": "d20a1e0a",
   "metadata": {},
   "outputs": [
    {
     "name": "stdout",
     "output_type": "stream",
     "text": [
      "375974\n"
     ]
    }
   ],
   "source": [
    "image_count = len(list(data_dir.glob('*/*.jpg')))\n",
    "print(image_count)"
   ]
  },
  {
   "cell_type": "code",
   "execution_count": 27,
   "id": "2a909873",
   "metadata": {},
   "outputs": [
    {
     "data": {
      "image/png": "[encoded data removed]",
      "text/plain": [
       "<PIL.JpegImagePlugin.JpegImageFile image mode=L size=45x45 at 0x12F9DE340>"
      ]
     },
     "execution_count": 27,
     "metadata": {},
     "output_type": "execute_result"
    }
   ],
   "source": [
    "import PIL\n",
    "import PIL.Image\n",
    "\n",
    "equal_sign = list(data_dir.glob('=/*'))\n",
    "PIL.Image.open(str(equal_sign[10]))"
   ]
  },
  {
   "cell_type": "code",
   "execution_count": 28,
   "id": "0cc92633",
   "metadata": {},
   "outputs": [],
   "source": [
    "batch_size = 32\n",
    "img_height = 45\n",
    "img_width = 45"
   ]
  },
  {
   "cell_type": "code",
   "execution_count": 29,
   "id": "8eff8b7f",
   "metadata": {},
   "outputs": [
    {
     "name": "stdout",
     "output_type": "stream",
     "text": [
      "Found 375974 files belonging to 82 classes.\n",
      "Using 300780 files for training.\n"
     ]
    }
   ],
   "source": [
    "train_ds = tf.keras.utils.image_dataset_from_directory(\n",
    "  data_dir,\n",
    "  validation_split=0.2,\n",
    "  subset=\"training\",\n",
    "  seed=123,\n",
    "  image_size=(img_height, img_width),\n",
    "  batch_size=batch_size)"
   ]
  },
  {
   "cell_type": "code",
   "execution_count": 30,
   "id": "910699da",
   "metadata": {},
   "outputs": [
    {
     "name": "stdout",
     "output_type": "stream",
     "text": [
      "Found 375974 files belonging to 82 classes.\n",
      "Using 75194 files for validation.\n"
     ]
    }
   ],
   "source": [
    "val_ds = tf.keras.utils.image_dataset_from_directory(\n",
    "  data_dir,\n",
    "  validation_split=0.2,\n",
    "  subset=\"validation\",\n",
    "  seed=123,\n",
    "  image_size=(img_height, img_width),\n",
    "  batch_size=batch_size)"
   ]
  },
  {
   "cell_type": "code",
   "execution_count": 31,
   "id": "35d6a10d",
   "metadata": {
    "scrolled": true
   },
   "outputs": [
    {
     "data": {
      "text/plain": [
       "['!',\n",
       " '(',\n",
       " ')',\n",
       " '+',\n",
       " ',',\n",
       " '-',\n",
       " '0',\n",
       " '1',\n",
       " '2',\n",
       " '3',\n",
       " '4',\n",
       " '5',\n",
       " '6',\n",
       " '7',\n",
       " '8',\n",
       " '9',\n",
       " '=',\n",
       " 'A',\n",
       " 'C',\n",
       " 'Delta',\n",
       " 'G',\n",
       " 'H',\n",
       " 'M',\n",
       " 'N',\n",
       " 'R',\n",
       " 'S',\n",
       " 'T',\n",
       " 'X',\n",
       " '[',\n",
       " ']',\n",
       " 'alpha',\n",
       " 'ascii_124',\n",
       " 'b',\n",
       " 'beta',\n",
       " 'cos',\n",
       " 'd',\n",
       " 'div',\n",
       " 'e',\n",
       " 'exists',\n",
       " 'f',\n",
       " 'forall',\n",
       " 'forward_slash',\n",
       " 'gamma',\n",
       " 'geq',\n",
       " 'gt',\n",
       " 'i',\n",
       " 'in',\n",
       " 'infty',\n",
       " 'int',\n",
       " 'j',\n",
       " 'k',\n",
       " 'l',\n",
       " 'lambda',\n",
       " 'ldots',\n",
       " 'leq',\n",
       " 'lim',\n",
       " 'log',\n",
       " 'lt',\n",
       " 'mu',\n",
       " 'neq',\n",
       " 'o',\n",
       " 'p',\n",
       " 'phi',\n",
       " 'pi',\n",
       " 'pm',\n",
       " 'prime',\n",
       " 'q',\n",
       " 'rightarrow',\n",
       " 'sigma',\n",
       " 'sin',\n",
       " 'sqrt',\n",
       " 'sum',\n",
       " 'tan',\n",
       " 'theta',\n",
       " 'times',\n",
       " 'u',\n",
       " 'v',\n",
       " 'w',\n",
       " 'y',\n",
       " 'z',\n",
       " '{',\n",
       " '}']"
      ]
     },
     "execution_count": 31,
     "metadata": {},
     "output_type": "execute_result"
    }
   ],
   "source": [
    "names=train_ds.class_names\n",
    "names"
   ]
  },
  {
   "cell_type": "code",
   "execution_count": 32,
   "id": "a3cda8b1",
   "metadata": {},
   "outputs": [],
   "source": [
    "dct={\"Delta\" : \"\\\\Delta\", \"alpha\" : \"\\\\alpha\", \"ascii_124\" : \"|\", \"beta\":\"\\\\beta\", \"cos\":\"\\\\cos\",\n",
    "     \"exists\":\"\\\\exists\",\"forall\":\"\\\\forall\", \"forward_slash\":\"/\", \"gamma\":\"\\\\gamma\", \"geq\" :\"\\\\geq\",\n",
    "     \"gt\":\">\", \"in\":\"\\in\",\"infty\":\"\\infty\",\"lambda\":\"\\\\lambda\", \"ldots\":\"\\\\lodts\", \"leq\":\"\\\\leq\",\n",
    "     \"lim\" : \"\\\\lim\", \"log\":\"\\log\",\"It\":\"<\",\"mu\":\"\\\\mu\", \"neq\":\"\\\\neq\", \"phi\":\"\\\\phi\",\"pi\":\"\\\\pi\",\n",
    "     \"pm\":\"\\\\pm\",\"rightarrow\":\"\\\\rightarrow\", \"sigma\": \"\\\\sigma\", \"sin\":\"\\\\sin\", \"sqrt\":\"\\\\sqrt\",\n",
    "     \"sum\": \"\\\\sum\", \"tan\":\"\\\\tan\", \"theta\":\"\\\\theta\", \"times\": \"\\\\cdot\"}"
   ]
  },
  {
   "cell_type": "code",
   "execution_count": 33,
   "id": "022d9f73",
   "metadata": {},
   "outputs": [],
   "source": [
    "for i in range(len(names)):\n",
    "    for key, value in dct.items():\n",
    "        names[i] = names[i].replace(key, value)"
   ]
  },
  {
   "cell_type": "code",
   "execution_count": 36,
   "id": "ff39a3ea",
   "metadata": {},
   "outputs": [
    {
     "name": "stdout",
     "output_type": "stream",
     "text": [
      "\\Delta\n"
     ]
    }
   ],
   "source": [
    "print(names[19])"
   ]
  },
  {
   "cell_type": "code",
   "execution_count": null,
   "id": "794f77f0",
   "metadata": {},
   "outputs": [],
   "source": []
  }
 ],
 "metadata": {
  "kernelspec": {
   "display_name": "Python 3 (ipykernel)",
   "language": "python",
   "name": "python3"
  },
  "language_info": {
   "codemirror_mode": {
    "name": "ipython",
    "version": 3
   },
   "file_extension": ".py",
   "mimetype": "text/x-python",
   "name": "python",
   "nbconvert_exporter": "python",
   "pygments_lexer": "ipython3",
   "version": "3.8.13"
  },
  "toc": {
   "base_numbering": 1,
   "nav_menu": {},
   "number_sections": true,
   "sideBar": true,
   "skip_h1_title": false,
   "title_cell": "Table of Contents",
   "title_sidebar": "Contents",
   "toc_cell": false,
   "toc_position": {},
   "toc_section_display": true,
   "toc_window_display": false
  }
 },
 "nbformat": 4,
 "nbformat_minor": 5
}
