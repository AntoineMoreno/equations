{
 "cells": [
  {
   "cell_type": "code",
   "execution_count": 1,
   "id": "b70c1cdd",
   "metadata": {},
   "outputs": [],
   "source": [
    "import pandas as pd\n",
    "import os "
   ]
  },
  {
   "cell_type": "code",
   "execution_count": 2,
   "id": "0e62f7a7",
   "metadata": {},
   "outputs": [
    {
     "data": {
      "text/plain": [
       "<matplotlib.image.AxesImage at 0x11dbb19a0>"
      ]
     },
     "execution_count": 2,
     "metadata": {},
     "output_type": "execute_result"
    },
    {
     "data": {
      "image/png": "[encoded data removed]",
      "text/plain": [
       "<Figure size 432x288 with 1 Axes>"
      ]
     },
     "metadata": {
      "needs_background": "light"
     },
     "output_type": "display_data"
    }
   ],
   "source": [
    "from matplotlib import image\n",
    "import matplotlib.pyplot as plt\n",
    "\n",
    "image1 = image.imread('../raw_data/data/-/-_66.jpg') \n",
    "plt.imshow(image1, cmap='gray')\n",
    "\n"
   ]
  },
  {
   "cell_type": "code",
   "execution_count": 3,
   "id": "a991b7d6",
   "metadata": {},
   "outputs": [
    {
     "data": {
      "text/plain": [
       "82"
      ]
     },
     "execution_count": 3,
     "metadata": {},
     "output_type": "execute_result"
    }
   ],
   "source": [
    "path_to_folders = \"../raw_data/data/\"    \n",
    "list_of_folders = os.listdir(path_to_folders)\n",
    "list_of_folders.remove('.DS_Store')\n",
    "len(list_of_folders)"
   ]
  },
  {
   "cell_type": "code",
   "execution_count": 4,
   "id": "791ef7bb",
   "metadata": {},
   "outputs": [
    {
     "name": "stdout",
     "output_type": "stream",
     "text": [
      "../raw_data/data/beta/\n",
      "../raw_data/data/pm/\n",
      "../raw_data/data/Delta/\n",
      "../raw_data/data/gamma/\n",
      "../raw_data/data/infty/\n",
      "../raw_data/data/rightarrow/\n",
      "../raw_data/data/div/\n",
      "../raw_data/data/gt/\n",
      "../raw_data/data/forward_slash/\n",
      "../raw_data/data/leq/\n",
      "../raw_data/data/mu/\n",
      "../raw_data/data/exists/\n",
      "../raw_data/data/in/\n",
      "../raw_data/data/times/\n",
      "../raw_data/data/sin/\n",
      "../raw_data/data/R/\n",
      "../raw_data/data/u/\n",
      "../raw_data/data/9/\n",
      "../raw_data/data/0/\n",
      "../raw_data/data/{/\n",
      "../raw_data/data/7/\n",
      "../raw_data/data/i/\n",
      "../raw_data/data/N/\n",
      "../raw_data/data/G/\n",
      "../raw_data/data/+/\n",
      "../raw_data/data/,/\n",
      "../raw_data/data/6/\n",
      "../raw_data/data/z/\n",
      "../raw_data/data/}/\n",
      "../raw_data/data/1/\n",
      "../raw_data/data/8/\n",
      "../raw_data/data/T/\n",
      "../raw_data/data/S/\n",
      "../raw_data/data/cos/\n",
      "../raw_data/data/A/\n",
      "../raw_data/data/-/\n",
      "../raw_data/data/f/\n",
      "../raw_data/data/o/\n",
      "../raw_data/data/H/\n",
      "../raw_data/data/sigma/\n",
      "../raw_data/data/sqrt/\n",
      "../raw_data/data/pi/\n",
      "../raw_data/data/int/\n",
      "../raw_data/data/sum/\n",
      "../raw_data/data/lim/\n",
      "../raw_data/data/lambda/\n",
      "../raw_data/data/neq/\n",
      "../raw_data/data/log/\n",
      "../raw_data/data/ldots/\n",
      "../raw_data/data/forall/\n",
      "../raw_data/data/lt/\n",
      "../raw_data/data/theta/\n",
      "../raw_data/data/ascii_124/\n",
      "../raw_data/data/M/\n",
      "../raw_data/data/!/\n",
      "../raw_data/data/alpha/\n",
      "../raw_data/data/j/\n",
      "../raw_data/data/C/\n",
      "../raw_data/data/]/\n",
      "../raw_data/data/(/\n",
      "../raw_data/data/d/\n",
      "../raw_data/data/v/\n",
      "../raw_data/data/prime/\n",
      "../raw_data/data/q/\n",
      "../raw_data/data/=/\n",
      "../raw_data/data/4/\n",
      "../raw_data/data/X/\n",
      "../raw_data/data/phi/\n",
      "../raw_data/data/3/\n",
      "../raw_data/data/tan/\n",
      "../raw_data/data/e/\n",
      "../raw_data/data/)/\n",
      "../raw_data/data/[/\n",
      "../raw_data/data/b/\n",
      "../raw_data/data/k/\n",
      "../raw_data/data/l/\n",
      "../raw_data/data/geq/\n",
      "../raw_data/data/2/\n",
      "../raw_data/data/y/\n",
      "../raw_data/data/5/\n",
      "../raw_data/data/p/\n",
      "../raw_data/data/w/\n"
     ]
    }
   ],
   "source": [
    "from PIL import Image\n",
    "import os\n",
    "import numpy as np\n",
    "\n",
    "path_to_folders = \"../raw_data/data/\"    \n",
    "vectorized_images = []\n",
    "what_folder = []\n",
    "for folder in list_of_folders:\n",
    "    path_to_files = path_to_folders +f\"{folder}/\"\n",
    "    print(path_to_files)\n",
    "    for _, file in enumerate(os.listdir(path_to_files)):\n",
    "        image = Image.open(path_to_files + file)\n",
    "        image_array = np.array(image)\n",
    "        vectorized_images.append(image_array) \n",
    "        what_folder.append(folder)"
   ]
  },
  {
   "cell_type": "code",
   "execution_count": 5,
   "id": "43d553b8",
   "metadata": {},
   "outputs": [],
   "source": [
    "array = np.array(vectorized_images)"
   ]
  },
  {
   "cell_type": "code",
   "execution_count": 6,
   "id": "e054ba89",
   "metadata": {},
   "outputs": [
    {
     "name": "stdout",
     "output_type": "stream",
     "text": [
      "375974 375974\n"
     ]
    }
   ],
   "source": [
    "print(len(array), len(what_folder))"
   ]
  },
  {
   "cell_type": "code",
   "execution_count": 7,
   "id": "15551dfa",
   "metadata": {},
   "outputs": [
    {
     "data": {
      "text/plain": [
       "(375974, 45, 45)"
      ]
     },
     "execution_count": 7,
     "metadata": {},
     "output_type": "execute_result"
    }
   ],
   "source": [
    "array.shape"
   ]
  },
  {
   "cell_type": "code",
   "execution_count": 8,
   "id": "da070581",
   "metadata": {},
   "outputs": [],
   "source": [
    "df = pd.DataFrame()\n"
   ]
  },
  {
   "cell_type": "code",
   "execution_count": 9,
   "id": "57dd7e5e",
   "metadata": {},
   "outputs": [],
   "source": [
    "df['image']=vectorized_images\n",
    "df['target']=what_folder"
   ]
  },
  {
   "cell_type": "code",
   "execution_count": 10,
   "id": "04421ea9",
   "metadata": {},
   "outputs": [
    {
     "data": {
      "text/plain": [
       "(45, 45)"
      ]
     },
     "execution_count": 10,
     "metadata": {},
     "output_type": "execute_result"
    }
   ],
   "source": [
    "df['image'][0].shape"
   ]
  },
  {
   "cell_type": "code",
   "execution_count": 11,
   "id": "d88ecfba",
   "metadata": {},
   "outputs": [
    {
     "data": {
      "text/plain": [
       "'beta'"
      ]
     },
     "execution_count": 11,
     "metadata": {},
     "output_type": "execute_result"
    }
   ],
   "source": [
    "df['target'][50]"
   ]
  },
  {
   "cell_type": "code",
   "execution_count": 12,
   "id": "456693cb",
   "metadata": {},
   "outputs": [
    {
     "name": "stdout",
     "output_type": "stream",
     "text": [
      "<class 'pandas.core.frame.DataFrame'>\n",
      "RangeIndex: 375974 entries, 0 to 375973\n",
      "Data columns (total 2 columns):\n",
      " #   Column  Non-Null Count   Dtype \n",
      "---  ------  --------------   ----- \n",
      " 0   image   375974 non-null  object\n",
      " 1   target  375974 non-null  object\n",
      "dtypes: object(2)\n",
      "memory usage: 5.7+ MB\n"
     ]
    }
   ],
   "source": [
    "df.info()"
   ]
  },
  {
   "cell_type": "code",
   "execution_count": 13,
   "id": "6963f977",
   "metadata": {},
   "outputs": [
    {
     "data": {
      "text/plain": [
       "{'!',\n",
       " '(',\n",
       " ')',\n",
       " '+',\n",
       " ',',\n",
       " '-',\n",
       " '0',\n",
       " '1',\n",
       " '2',\n",
       " '3',\n",
       " '4',\n",
       " '5',\n",
       " '6',\n",
       " '7',\n",
       " '8',\n",
       " '9',\n",
       " '=',\n",
       " 'A',\n",
       " 'C',\n",
       " 'Delta',\n",
       " 'G',\n",
       " 'H',\n",
       " 'M',\n",
       " 'N',\n",
       " 'R',\n",
       " 'S',\n",
       " 'T',\n",
       " 'X',\n",
       " '[',\n",
       " ']',\n",
       " 'alpha',\n",
       " 'ascii_124',\n",
       " 'b',\n",
       " 'beta',\n",
       " 'cos',\n",
       " 'd',\n",
       " 'div',\n",
       " 'e',\n",
       " 'exists',\n",
       " 'f',\n",
       " 'forall',\n",
       " 'forward_slash',\n",
       " 'gamma',\n",
       " 'geq',\n",
       " 'gt',\n",
       " 'i',\n",
       " 'in',\n",
       " 'infty',\n",
       " 'int',\n",
       " 'j',\n",
       " 'k',\n",
       " 'l',\n",
       " 'lambda',\n",
       " 'ldots',\n",
       " 'leq',\n",
       " 'lim',\n",
       " 'log',\n",
       " 'lt',\n",
       " 'mu',\n",
       " 'neq',\n",
       " 'o',\n",
       " 'p',\n",
       " 'phi',\n",
       " 'pi',\n",
       " 'pm',\n",
       " 'prime',\n",
       " 'q',\n",
       " 'rightarrow',\n",
       " 'sigma',\n",
       " 'sin',\n",
       " 'sqrt',\n",
       " 'sum',\n",
       " 'tan',\n",
       " 'theta',\n",
       " 'times',\n",
       " 'u',\n",
       " 'v',\n",
       " 'w',\n",
       " 'y',\n",
       " 'z',\n",
       " '{',\n",
       " '}'}"
      ]
     },
     "execution_count": 13,
     "metadata": {},
     "output_type": "execute_result"
    }
   ],
   "source": [
    "set(df['target'])"
   ]
  },
  {
   "cell_type": "code",
   "execution_count": 14,
   "id": "f94f7162",
   "metadata": {},
   "outputs": [],
   "source": [
    "dct={\"Delta\" : \"\\\\Delta\", \"alpha\" : \"\\\\alpha\", \"ascii_124\" : \"|\", \"beta\":\"\\\\beta\", \"cos\":\"\\\\cos\", \\\n",
    "     \"exists\":\"\\\\exists\",\"forall\":\"\\\\forall\", \"forward_slash\":\"/\", \"gamma\":\"\\\\gamma\", \"geq\" :\"\\\\geq\",\\\n",
    "     \"gt\":\">\", \"in\":\"\\in\",\"infty\":\"\\infty\",\"lambda\":\"\\\\lambda\", \"ldots\":\"\\\\lodts\", \"leq\":\"\\\\leq\",\\\n",
    "     \"lim\" : \"\\\\lim\", \"log\":\"\\log\",\"It\":\"<\",\"mu\":\"\\\\mu\", \"neq\":\"\\\\neq\", \"phi\":\"\\\\phi\",\"pi\":\"\\\\pi\",\\\n",
    "     \"pm\":\"\\\\pm\",\"rightarrow\":\"\\\\rightarrow\", \"sigma\": \"\\\\sigma\", \"sin\":\"\\\\sin\", \"sqrt\":\"\\\\sqrt\",\\\n",
    "     \"sum\": \"\\\\sum\", \"tan\":\"\\\\tan\", \"theta\":\"\\\\theta\", \"times\": \"\\\\cdot\"}"
   ]
  },
  {
   "cell_type": "code",
   "execution_count": 15,
   "id": "53b67386",
   "metadata": {},
   "outputs": [
    {
     "data": {
      "text/plain": [
       "{'!',\n",
       " '(',\n",
       " ')',\n",
       " '+',\n",
       " ',',\n",
       " '-',\n",
       " '/',\n",
       " '0',\n",
       " '1',\n",
       " '2',\n",
       " '3',\n",
       " '4',\n",
       " '5',\n",
       " '6',\n",
       " '7',\n",
       " '8',\n",
       " '9',\n",
       " '=',\n",
       " '>',\n",
       " 'A',\n",
       " 'C',\n",
       " 'G',\n",
       " 'H',\n",
       " 'M',\n",
       " 'N',\n",
       " 'R',\n",
       " 'S',\n",
       " 'T',\n",
       " 'X',\n",
       " '[',\n",
       " '\\\\Delta',\n",
       " '\\\\alpha',\n",
       " '\\\\beta',\n",
       " '\\\\cdot',\n",
       " '\\\\cos',\n",
       " '\\\\exists',\n",
       " '\\\\forall',\n",
       " '\\\\gamma',\n",
       " '\\\\geq',\n",
       " '\\\\in',\n",
       " '\\\\infty',\n",
       " '\\\\lambda',\n",
       " '\\\\leq',\n",
       " '\\\\lim',\n",
       " '\\\\lodts',\n",
       " '\\\\log',\n",
       " '\\\\mu',\n",
       " '\\\\neq',\n",
       " '\\\\phi',\n",
       " '\\\\pi',\n",
       " '\\\\pm',\n",
       " '\\\\rightarrow',\n",
       " '\\\\sigma',\n",
       " '\\\\sin',\n",
       " '\\\\sqrt',\n",
       " '\\\\sum',\n",
       " '\\\\tan',\n",
       " '\\\\theta',\n",
       " ']',\n",
       " 'b',\n",
       " 'd',\n",
       " 'div',\n",
       " 'e',\n",
       " 'f',\n",
       " 'i',\n",
       " 'int',\n",
       " 'j',\n",
       " 'k',\n",
       " 'l',\n",
       " 'lt',\n",
       " 'o',\n",
       " 'p',\n",
       " 'prime',\n",
       " 'q',\n",
       " 'u',\n",
       " 'v',\n",
       " 'w',\n",
       " 'y',\n",
       " 'z',\n",
       " '{',\n",
       " '|',\n",
       " '}'}"
      ]
     },
     "execution_count": 15,
     "metadata": {},
     "output_type": "execute_result"
    }
   ],
   "source": [
    "set(df['target'].replace(dct)) #problem"
   ]
  },
  {
   "cell_type": "code",
   "execution_count": 16,
   "id": "226a8d70",
   "metadata": {},
   "outputs": [],
   "source": [
    "y=df['target'].astype(dtype=\"string\")\n",
    "X=df.drop('target', axis=1)"
   ]
  },
  {
   "cell_type": "code",
   "execution_count": 17,
   "id": "c82e70c4",
   "metadata": {},
   "outputs": [
    {
     "data": {
      "text/html": [
       "<div>\n",
       "<style scoped>\n",
       "    .dataframe tbody tr th:only-of-type {\n",
       "        vertical-align: middle;\n",
       "    }\n",
       "\n",
       "    .dataframe tbody tr th {\n",
       "        vertical-align: top;\n",
       "    }\n",
       "\n",
       "    .dataframe thead th {\n",
       "        text-align: right;\n",
       "    }\n",
       "</style>\n",
       "<table border=\"1\" class=\"dataframe\">\n",
       "  <thead>\n",
       "    <tr style=\"text-align: right;\">\n",
       "      <th></th>\n",
       "      <th>image</th>\n",
       "    </tr>\n",
       "  </thead>\n",
       "  <tbody>\n",
       "    <tr>\n",
       "      <th>0</th>\n",
       "      <td>[[255, 255, 255, 255, 255, 255, 255, 255, 255,...</td>\n",
       "    </tr>\n",
       "    <tr>\n",
       "      <th>1</th>\n",
       "      <td>[[255, 255, 255, 255, 255, 255, 255, 255, 255,...</td>\n",
       "    </tr>\n",
       "    <tr>\n",
       "      <th>2</th>\n",
       "      <td>[[255, 255, 255, 255, 255, 255, 255, 255, 255,...</td>\n",
       "    </tr>\n",
       "    <tr>\n",
       "      <th>3</th>\n",
       "      <td>[[255, 255, 255, 255, 255, 255, 255, 255, 255,...</td>\n",
       "    </tr>\n",
       "    <tr>\n",
       "      <th>4</th>\n",
       "      <td>[[255, 255, 255, 255, 255, 255, 255, 255, 255,...</td>\n",
       "    </tr>\n",
       "    <tr>\n",
       "      <th>...</th>\n",
       "      <td>...</td>\n",
       "    </tr>\n",
       "    <tr>\n",
       "      <th>375969</th>\n",
       "      <td>[[255, 255, 255, 255, 255, 255, 255, 255, 255,...</td>\n",
       "    </tr>\n",
       "    <tr>\n",
       "      <th>375970</th>\n",
       "      <td>[[255, 254, 255, 254, 255, 255, 254, 255, 255,...</td>\n",
       "    </tr>\n",
       "    <tr>\n",
       "      <th>375971</th>\n",
       "      <td>[[255, 255, 255, 255, 255, 255, 255, 255, 255,...</td>\n",
       "    </tr>\n",
       "    <tr>\n",
       "      <th>375972</th>\n",
       "      <td>[[255, 255, 255, 255, 255, 255, 255, 255, 255,...</td>\n",
       "    </tr>\n",
       "    <tr>\n",
       "      <th>375973</th>\n",
       "      <td>[[255, 253, 255, 255, 251, 255, 254, 255, 255,...</td>\n",
       "    </tr>\n",
       "  </tbody>\n",
       "</table>\n",
       "<p>375974 rows × 1 columns</p>\n",
       "</div>"
      ],
      "text/plain": [
       "                                                    image\n",
       "0       [[255, 255, 255, 255, 255, 255, 255, 255, 255,...\n",
       "1       [[255, 255, 255, 255, 255, 255, 255, 255, 255,...\n",
       "2       [[255, 255, 255, 255, 255, 255, 255, 255, 255,...\n",
       "3       [[255, 255, 255, 255, 255, 255, 255, 255, 255,...\n",
       "4       [[255, 255, 255, 255, 255, 255, 255, 255, 255,...\n",
       "...                                                   ...\n",
       "375969  [[255, 255, 255, 255, 255, 255, 255, 255, 255,...\n",
       "375970  [[255, 254, 255, 254, 255, 255, 254, 255, 255,...\n",
       "375971  [[255, 255, 255, 255, 255, 255, 255, 255, 255,...\n",
       "375972  [[255, 255, 255, 255, 255, 255, 255, 255, 255,...\n",
       "375973  [[255, 253, 255, 255, 251, 255, 254, 255, 255,...\n",
       "\n",
       "[375974 rows x 1 columns]"
      ]
     },
     "execution_count": 17,
     "metadata": {},
     "output_type": "execute_result"
    }
   ],
   "source": [
    "X"
   ]
  },
  {
   "cell_type": "code",
   "execution_count": 18,
   "id": "f8279e77",
   "metadata": {},
   "outputs": [],
   "source": [
    "#X = np.asarray(X).astype(np.float32)"
   ]
  },
  {
   "cell_type": "code",
   "execution_count": 19,
   "id": "ad23350c",
   "metadata": {},
   "outputs": [
    {
     "data": {
      "text/plain": [
       "{'!',\n",
       " '(',\n",
       " ')',\n",
       " '+',\n",
       " ',',\n",
       " '-',\n",
       " '0',\n",
       " '1',\n",
       " '2',\n",
       " '3',\n",
       " '4',\n",
       " '5',\n",
       " '6',\n",
       " '7',\n",
       " '8',\n",
       " '9',\n",
       " '=',\n",
       " 'A',\n",
       " 'C',\n",
       " 'Delta',\n",
       " 'G',\n",
       " 'H',\n",
       " 'M',\n",
       " 'N',\n",
       " 'R',\n",
       " 'S',\n",
       " 'T',\n",
       " 'X',\n",
       " '[',\n",
       " ']',\n",
       " 'alpha',\n",
       " 'ascii_124',\n",
       " 'b',\n",
       " 'beta',\n",
       " 'cos',\n",
       " 'd',\n",
       " 'div',\n",
       " 'e',\n",
       " 'exists',\n",
       " 'f',\n",
       " 'forall',\n",
       " 'forward_slash',\n",
       " 'gamma',\n",
       " 'geq',\n",
       " 'gt',\n",
       " 'i',\n",
       " 'in',\n",
       " 'infty',\n",
       " 'int',\n",
       " 'j',\n",
       " 'k',\n",
       " 'l',\n",
       " 'lambda',\n",
       " 'ldots',\n",
       " 'leq',\n",
       " 'lim',\n",
       " 'log',\n",
       " 'lt',\n",
       " 'mu',\n",
       " 'neq',\n",
       " 'o',\n",
       " 'p',\n",
       " 'phi',\n",
       " 'pi',\n",
       " 'pm',\n",
       " 'prime',\n",
       " 'q',\n",
       " 'rightarrow',\n",
       " 'sigma',\n",
       " 'sin',\n",
       " 'sqrt',\n",
       " 'sum',\n",
       " 'tan',\n",
       " 'theta',\n",
       " 'times',\n",
       " 'u',\n",
       " 'v',\n",
       " 'w',\n",
       " 'y',\n",
       " 'z',\n",
       " '{',\n",
       " '}'}"
      ]
     },
     "execution_count": 19,
     "metadata": {},
     "output_type": "execute_result"
    }
   ],
   "source": [
    "set(df['target']) #probleme de formattage\""
   ]
  },
  {
   "cell_type": "code",
   "execution_count": 20,
   "id": "5f858109",
   "metadata": {},
   "outputs": [],
   "source": [
    "from sklearn.model_selection import train_test_split \n",
    "X_train, X_test, y_train, y_test = train_test_split(X, y, test_size=0.3,stratify=y) "
   ]
  },
  {
   "cell_type": "code",
   "execution_count": 21,
   "id": "2156b136",
   "metadata": {},
   "outputs": [
    {
     "ename": "KeyError",
     "evalue": "0",
     "output_type": "error",
     "traceback": [
      "\u001b[0;31m---------------------------------------------------------------------------\u001b[0m",
      "\u001b[0;31mKeyError\u001b[0m                                  Traceback (most recent call last)",
      "\u001b[0;32m~/.pyenv/versions/3.8.13/envs/lewagon/lib/python3.8/site-packages/pandas/core/indexes/base.py\u001b[0m in \u001b[0;36mget_loc\u001b[0;34m(self, key, method, tolerance)\u001b[0m\n\u001b[1;32m   3360\u001b[0m             \u001b[0;32mtry\u001b[0m\u001b[0;34m:\u001b[0m\u001b[0;34m\u001b[0m\u001b[0;34m\u001b[0m\u001b[0m\n\u001b[0;32m-> 3361\u001b[0;31m                 \u001b[0;32mreturn\u001b[0m \u001b[0mself\u001b[0m\u001b[0;34m.\u001b[0m\u001b[0m_engine\u001b[0m\u001b[0;34m.\u001b[0m\u001b[0mget_loc\u001b[0m\u001b[0;34m(\u001b[0m\u001b[0mcasted_key\u001b[0m\u001b[0;34m)\u001b[0m\u001b[0;34m\u001b[0m\u001b[0;34m\u001b[0m\u001b[0m\n\u001b[0m\u001b[1;32m   3362\u001b[0m             \u001b[0;32mexcept\u001b[0m \u001b[0mKeyError\u001b[0m \u001b[0;32mas\u001b[0m \u001b[0merr\u001b[0m\u001b[0;34m:\u001b[0m\u001b[0;34m\u001b[0m\u001b[0;34m\u001b[0m\u001b[0m\n",
      "\u001b[0;32m~/.pyenv/versions/3.8.13/envs/lewagon/lib/python3.8/site-packages/pandas/_libs/index.pyx\u001b[0m in \u001b[0;36mpandas._libs.index.IndexEngine.get_loc\u001b[0;34m()\u001b[0m\n",
      "\u001b[0;32m~/.pyenv/versions/3.8.13/envs/lewagon/lib/python3.8/site-packages/pandas/_libs/index.pyx\u001b[0m in \u001b[0;36mpandas._libs.index.IndexEngine.get_loc\u001b[0;34m()\u001b[0m\n",
      "\u001b[0;32mpandas/_libs/hashtable_class_helper.pxi\u001b[0m in \u001b[0;36mpandas._libs.hashtable.Int64HashTable.get_item\u001b[0;34m()\u001b[0m\n",
      "\u001b[0;32mpandas/_libs/hashtable_class_helper.pxi\u001b[0m in \u001b[0;36mpandas._libs.hashtable.Int64HashTable.get_item\u001b[0;34m()\u001b[0m\n",
      "\u001b[0;31mKeyError\u001b[0m: 0",
      "\nThe above exception was the direct cause of the following exception:\n",
      "\u001b[0;31mKeyError\u001b[0m                                  Traceback (most recent call last)",
      "\u001b[0;32m/var/folders/7z/lyzbs3rs7cqfcd1z043vxh9h0000gn/T/ipykernel_32673/2036700646.py\u001b[0m in \u001b[0;36m<module>\u001b[0;34m\u001b[0m\n\u001b[0;32m----> 1\u001b[0;31m \u001b[0mtype\u001b[0m\u001b[0;34m(\u001b[0m\u001b[0mX_train\u001b[0m\u001b[0;34m[\u001b[0m\u001b[0;34m'image'\u001b[0m\u001b[0;34m]\u001b[0m\u001b[0;34m[\u001b[0m\u001b[0;36m0\u001b[0m\u001b[0;34m]\u001b[0m\u001b[0;34m)\u001b[0m\u001b[0;34m\u001b[0m\u001b[0;34m\u001b[0m\u001b[0m\n\u001b[0m",
      "\u001b[0;32m~/.pyenv/versions/3.8.13/envs/lewagon/lib/python3.8/site-packages/pandas/core/series.py\u001b[0m in \u001b[0;36m__getitem__\u001b[0;34m(self, key)\u001b[0m\n\u001b[1;32m    940\u001b[0m \u001b[0;34m\u001b[0m\u001b[0m\n\u001b[1;32m    941\u001b[0m         \u001b[0;32melif\u001b[0m \u001b[0mkey_is_scalar\u001b[0m\u001b[0;34m:\u001b[0m\u001b[0;34m\u001b[0m\u001b[0;34m\u001b[0m\u001b[0m\n\u001b[0;32m--> 942\u001b[0;31m             \u001b[0;32mreturn\u001b[0m \u001b[0mself\u001b[0m\u001b[0;34m.\u001b[0m\u001b[0m_get_value\u001b[0m\u001b[0;34m(\u001b[0m\u001b[0mkey\u001b[0m\u001b[0;34m)\u001b[0m\u001b[0;34m\u001b[0m\u001b[0;34m\u001b[0m\u001b[0m\n\u001b[0m\u001b[1;32m    943\u001b[0m \u001b[0;34m\u001b[0m\u001b[0m\n\u001b[1;32m    944\u001b[0m         \u001b[0;32mif\u001b[0m \u001b[0mis_hashable\u001b[0m\u001b[0;34m(\u001b[0m\u001b[0mkey\u001b[0m\u001b[0;34m)\u001b[0m\u001b[0;34m:\u001b[0m\u001b[0;34m\u001b[0m\u001b[0;34m\u001b[0m\u001b[0m\n",
      "\u001b[0;32m~/.pyenv/versions/3.8.13/envs/lewagon/lib/python3.8/site-packages/pandas/core/series.py\u001b[0m in \u001b[0;36m_get_value\u001b[0;34m(self, label, takeable)\u001b[0m\n\u001b[1;32m   1049\u001b[0m \u001b[0;34m\u001b[0m\u001b[0m\n\u001b[1;32m   1050\u001b[0m         \u001b[0;31m# Similar to Index.get_value, but we do not fall back to positional\u001b[0m\u001b[0;34m\u001b[0m\u001b[0;34m\u001b[0m\u001b[0;34m\u001b[0m\u001b[0m\n\u001b[0;32m-> 1051\u001b[0;31m         \u001b[0mloc\u001b[0m \u001b[0;34m=\u001b[0m \u001b[0mself\u001b[0m\u001b[0;34m.\u001b[0m\u001b[0mindex\u001b[0m\u001b[0;34m.\u001b[0m\u001b[0mget_loc\u001b[0m\u001b[0;34m(\u001b[0m\u001b[0mlabel\u001b[0m\u001b[0;34m)\u001b[0m\u001b[0;34m\u001b[0m\u001b[0;34m\u001b[0m\u001b[0m\n\u001b[0m\u001b[1;32m   1052\u001b[0m         \u001b[0;32mreturn\u001b[0m \u001b[0mself\u001b[0m\u001b[0;34m.\u001b[0m\u001b[0mindex\u001b[0m\u001b[0;34m.\u001b[0m\u001b[0m_get_values_for_loc\u001b[0m\u001b[0;34m(\u001b[0m\u001b[0mself\u001b[0m\u001b[0;34m,\u001b[0m \u001b[0mloc\u001b[0m\u001b[0;34m,\u001b[0m \u001b[0mlabel\u001b[0m\u001b[0;34m)\u001b[0m\u001b[0;34m\u001b[0m\u001b[0;34m\u001b[0m\u001b[0m\n\u001b[1;32m   1053\u001b[0m \u001b[0;34m\u001b[0m\u001b[0m\n",
      "\u001b[0;32m~/.pyenv/versions/3.8.13/envs/lewagon/lib/python3.8/site-packages/pandas/core/indexes/base.py\u001b[0m in \u001b[0;36mget_loc\u001b[0;34m(self, key, method, tolerance)\u001b[0m\n\u001b[1;32m   3361\u001b[0m                 \u001b[0;32mreturn\u001b[0m \u001b[0mself\u001b[0m\u001b[0;34m.\u001b[0m\u001b[0m_engine\u001b[0m\u001b[0;34m.\u001b[0m\u001b[0mget_loc\u001b[0m\u001b[0;34m(\u001b[0m\u001b[0mcasted_key\u001b[0m\u001b[0;34m)\u001b[0m\u001b[0;34m\u001b[0m\u001b[0;34m\u001b[0m\u001b[0m\n\u001b[1;32m   3362\u001b[0m             \u001b[0;32mexcept\u001b[0m \u001b[0mKeyError\u001b[0m \u001b[0;32mas\u001b[0m \u001b[0merr\u001b[0m\u001b[0;34m:\u001b[0m\u001b[0;34m\u001b[0m\u001b[0;34m\u001b[0m\u001b[0m\n\u001b[0;32m-> 3363\u001b[0;31m                 \u001b[0;32mraise\u001b[0m \u001b[0mKeyError\u001b[0m\u001b[0;34m(\u001b[0m\u001b[0mkey\u001b[0m\u001b[0;34m)\u001b[0m \u001b[0;32mfrom\u001b[0m \u001b[0merr\u001b[0m\u001b[0;34m\u001b[0m\u001b[0;34m\u001b[0m\u001b[0m\n\u001b[0m\u001b[1;32m   3364\u001b[0m \u001b[0;34m\u001b[0m\u001b[0m\n\u001b[1;32m   3365\u001b[0m         \u001b[0;32mif\u001b[0m \u001b[0mis_scalar\u001b[0m\u001b[0;34m(\u001b[0m\u001b[0mkey\u001b[0m\u001b[0;34m)\u001b[0m \u001b[0;32mand\u001b[0m \u001b[0misna\u001b[0m\u001b[0;34m(\u001b[0m\u001b[0mkey\u001b[0m\u001b[0;34m)\u001b[0m \u001b[0;32mand\u001b[0m \u001b[0;32mnot\u001b[0m \u001b[0mself\u001b[0m\u001b[0;34m.\u001b[0m\u001b[0mhasnans\u001b[0m\u001b[0;34m:\u001b[0m\u001b[0;34m\u001b[0m\u001b[0;34m\u001b[0m\u001b[0m\n",
      "\u001b[0;31mKeyError\u001b[0m: 0"
     ]
    }
   ],
   "source": [
    "type(X_train['image'][0])"
   ]
  },
  {
   "cell_type": "code",
   "execution_count": null,
   "id": "df56f656",
   "metadata": {},
   "outputs": [],
   "source": [
    "X1=X_train['image']\n",
    "X1"
   ]
  },
  {
   "cell_type": "code",
   "execution_count": null,
   "id": "4080e9a3",
   "metadata": {},
   "outputs": [],
   "source": [
    "from tensorflow.keras import layers\n",
    "from tensorflow.keras import models"
   ]
  },
  {
   "cell_type": "code",
   "execution_count": null,
   "id": "ce69a5ac",
   "metadata": {},
   "outputs": [],
   "source": [
    "def initialize_model():\n",
    "\n",
    "    model = models.Sequential()\n",
    "\n",
    "    ### First Convolution & MaxPooling\n",
    "    model.add(layers.Conv2D(8, (4,4), input_shape=(45,45,1), padding='same', activation=\"relu\"))\n",
    "    model.add(layers.MaxPool2D(pool_size=(2,2)))\n",
    "    \n",
    "    ### Second Convolution & MaxPooling\n",
    "    model.add(layers.Conv2D(16, (3,3), activation=\"relu\"))\n",
    "    model.add(layers.MaxPool2D(pool_size=(2,2))) \n",
    "    \n",
    "    ### Flattening\n",
    "    model.add(layers.Flatten())\n",
    "    \n",
    "    \n",
    "    ### One Fully Connected layer - \"Fully Connected\" is equivalent to saying \"Dense\"\n",
    "    model.add(layers.Dense(10, activation='relu'))\n",
    "\n",
    "    \n",
    "    ### Last layer - Classification Layer with 10 outputs corresponding to 10 digits\n",
    "    model.add(layers.Dense(10, activation='softmax'))\n",
    "    \n",
    "    ### Model compilation\n",
    "    model.compile(loss='categorical_crossentropy', # different from binary_crossentropy because we have multiple classes\n",
    "                  optimizer='adam', \n",
    "                  metrics=['accuracy']) \n",
    "    \n",
    "    return model"
   ]
  },
  {
   "cell_type": "code",
   "execution_count": null,
   "id": "fe86c2c8",
   "metadata": {},
   "outputs": [],
   "source": [
    "model=initialize_model()\n",
    "\n",
    "model.summary()"
   ]
  },
  {
   "cell_type": "code",
   "execution_count": null,
   "id": "0bd7b58c",
   "metadata": {},
   "outputs": [],
   "source": []
  },
  {
   "cell_type": "code",
   "execution_count": null,
   "id": "258302b0",
   "metadata": {},
   "outputs": [],
   "source": [
    "\n",
    "model = initialize_model()\n",
    "\n",
    "history = model.fit(X1, y_train,\n",
    "                    validation_split = 0.3,\n",
    "                    epochs = 5,\n",
    "                    batch_size = 16, \n",
    "                    verbose = 1)"
   ]
  },
  {
   "cell_type": "code",
   "execution_count": null,
   "id": "eb755232",
   "metadata": {},
   "outputs": [],
   "source": []
  }
 ],
 "metadata": {
  "kernelspec": {
   "display_name": "Python 3 (ipykernel)",
   "language": "python",
   "name": "python3"
  },
  "language_info": {
   "codemirror_mode": {
    "name": "ipython",
    "version": 3
   },
   "file_extension": ".py",
   "mimetype": "text/x-python",
   "name": "python",
   "nbconvert_exporter": "python",
   "pygments_lexer": "ipython3",
   "version": "3.8.13"
  },
  "toc": {
   "base_numbering": 1,
   "nav_menu": {},
   "number_sections": true,
   "sideBar": true,
   "skip_h1_title": false,
   "title_cell": "Table of Contents",
   "title_sidebar": "Contents",
   "toc_cell": false,
   "toc_position": {},
   "toc_section_display": true,
   "toc_window_display": false
  }
 },
 "nbformat": 4,
 "nbformat_minor": 5
}
