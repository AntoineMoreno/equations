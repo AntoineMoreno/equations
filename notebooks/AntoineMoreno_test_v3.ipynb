{
 "cells": [
  {
   "cell_type": "code",
   "execution_count": 4,
   "id": "eXBkmUyIpOX1",
   "metadata": {
    "colab": {
     "base_uri": "https://localhost:8080/"
    },
    "id": "eXBkmUyIpOX1",
    "outputId": "ad081e28-5be5-4960-c4d2-08e986fe73d8"
   },
   "outputs": [],
   "source": [
    "#from google.colab import drive\n",
    "#drive.mount('/content/drive')"
   ]
  },
  {
   "cell_type": "code",
   "execution_count": 5,
   "id": "a93pnhV4fUxq",
   "metadata": {
    "colab": {
     "base_uri": "https://localhost:8080/"
    },
    "id": "a93pnhV4fUxq",
    "outputId": "b3422a97-f521-4e6c-ebb8-25822efafa85"
   },
   "outputs": [],
   "source": [
    "#!unrar x /content/drive/MyDrive/data.rar"
   ]
  },
  {
   "cell_type": "code",
   "execution_count": 6,
   "id": "68EE8bQuxSTL",
   "metadata": {
    "id": "68EE8bQuxSTL"
   },
   "outputs": [],
   "source": [
    "import numpy as np\n",
    "import tensorflow as tf\n",
    "import numpy as np\n",
    "import os"
   ]
  },
  {
   "cell_type": "code",
   "execution_count": 7,
   "id": "vXm2-o-QrGXz",
   "metadata": {
    "id": "vXm2-o-QrGXz"
   },
   "outputs": [],
   "source": [
    "import pathlib\n",
    "data_dir = pathlib.Path(\"../raw_data/data\")"
   ]
  },
  {
   "cell_type": "code",
   "execution_count": 8,
   "id": "Ys7vbtSPrEIy",
   "metadata": {
    "colab": {
     "base_uri": "https://localhost:8080/"
    },
    "id": "Ys7vbtSPrEIy",
    "outputId": "67210a99-562c-4ab4-943c-77812cbfb5c9"
   },
   "outputs": [
    {
     "name": "stdout",
     "output_type": "stream",
     "text": [
      "375974\n"
     ]
    }
   ],
   "source": [
    "image_count = len(list(data_dir.glob('*/*.jpg')))\n",
    "print(image_count)"
   ]
  },
  {
   "cell_type": "code",
   "execution_count": 9,
   "id": "pf8CusxCrdtN",
   "metadata": {
    "colab": {
     "base_uri": "https://localhost:8080/",
     "height": 62
    },
    "id": "pf8CusxCrdtN",
    "outputId": "002bcaa2-48a7-4111-e130-28be913463a9"
   },
   "outputs": [
    {
     "data": {
      "image/png": "[encoded data removed]",
      "text/plain": [
       "<PIL.JpegImagePlugin.JpegImageFile image mode=L size=45x45>"
      ]
     },
     "execution_count": 9,
     "metadata": {},
     "output_type": "execute_result"
    }
   ],
   "source": [
    "import PIL\n",
    "import PIL.Image\n",
    "\n",
    "equal_sign = list(data_dir.glob('=/*'))\n",
    "PIL.Image.open(str(equal_sign[10]))"
   ]
  },
  {
   "cell_type": "code",
   "execution_count": 10,
   "id": "hqEuo3qysLuv",
   "metadata": {
    "id": "hqEuo3qysLuv"
   },
   "outputs": [],
   "source": [
    "batch_size = 32\n",
    "img_height = 45\n",
    "img_width = 45"
   ]
  },
  {
   "cell_type": "code",
   "execution_count": 11,
   "id": "s3106yEVsNvZ",
   "metadata": {
    "colab": {
     "base_uri": "https://localhost:8080/"
    },
    "id": "s3106yEVsNvZ",
    "outputId": "30c0adc0-b545-4565-89a0-542cabeacb41"
   },
   "outputs": [
    {
     "name": "stdout",
     "output_type": "stream",
     "text": [
      "Found 375974 files belonging to 82 classes.\n",
      "Using 300780 files for training.\n"
     ]
    },
    {
     "name": "stderr",
     "output_type": "stream",
     "text": [
      "2022-06-03 12:22:07.580558: I tensorflow/core/platform/cpu_feature_guard.cc:193] This TensorFlow binary is optimized with oneAPI Deep Neural Network Library (oneDNN) to use the following CPU instructions in performance-critical operations:  AVX2 FMA\n",
      "To enable them in other operations, rebuild TensorFlow with the appropriate compiler flags.\n"
     ]
    }
   ],
   "source": [
    "train_ds = tf.keras.utils.image_dataset_from_directory(\n",
    "  data_dir,\n",
    "  validation_split=0.2,\n",
    "  subset=\"training\",\n",
    "  seed=123,\n",
    "  image_size=(img_height, img_width),\n",
    "  batch_size=batch_size)"
   ]
  },
  {
   "cell_type": "code",
   "execution_count": 12,
   "id": "GVlm6IoNsaYk",
   "metadata": {
    "colab": {
     "base_uri": "https://localhost:8080/"
    },
    "id": "GVlm6IoNsaYk",
    "outputId": "57520f85-0b6c-4cd8-f4a9-48ec80c94360"
   },
   "outputs": [
    {
     "name": "stdout",
     "output_type": "stream",
     "text": [
      "Found 375974 files belonging to 82 classes.\n",
      "Using 75194 files for validation.\n"
     ]
    }
   ],
   "source": [
    "val_ds = tf.keras.utils.image_dataset_from_directory(\n",
    "  data_dir,\n",
    "  validation_split=0.2,\n",
    "  subset=\"validation\",\n",
    "  seed=123,\n",
    "  image_size=(img_height, img_width),\n",
    "  batch_size=batch_size)"
   ]
  },
  {
   "cell_type": "code",
   "execution_count": 13,
   "id": "0ccfa848",
   "metadata": {},
   "outputs": [
    {
     "data": {
      "text/plain": [
       "['!',\n",
       " '(',\n",
       " ')',\n",
       " '+',\n",
       " ',',\n",
       " '-',\n",
       " '0',\n",
       " '1',\n",
       " '2',\n",
       " '3',\n",
       " '4',\n",
       " '5',\n",
       " '6',\n",
       " '7',\n",
       " '8',\n",
       " '9',\n",
       " '=',\n",
       " 'A',\n",
       " 'C',\n",
       " 'Delta',\n",
       " 'G',\n",
       " 'H',\n",
       " 'M',\n",
       " 'N',\n",
       " 'R',\n",
       " 'S',\n",
       " 'T',\n",
       " 'X',\n",
       " '[',\n",
       " ']',\n",
       " 'alpha',\n",
       " 'ascii_124',\n",
       " 'b',\n",
       " 'beta',\n",
       " 'cos',\n",
       " 'd',\n",
       " 'div',\n",
       " 'e',\n",
       " 'exists',\n",
       " 'f',\n",
       " 'forall',\n",
       " 'forward_slash',\n",
       " 'gamma',\n",
       " 'geq',\n",
       " 'gt',\n",
       " 'i',\n",
       " 'in',\n",
       " 'infty',\n",
       " 'int',\n",
       " 'j',\n",
       " 'k',\n",
       " 'l',\n",
       " 'lambda',\n",
       " 'ldots',\n",
       " 'leq',\n",
       " 'lim',\n",
       " 'log',\n",
       " 'lt',\n",
       " 'mu',\n",
       " 'neq',\n",
       " 'o',\n",
       " 'p',\n",
       " 'phi',\n",
       " 'pi',\n",
       " 'pm',\n",
       " 'prime',\n",
       " 'q',\n",
       " 'rightarrow',\n",
       " 'sigma',\n",
       " 'sin',\n",
       " 'sqrt',\n",
       " 'sum',\n",
       " 'tan',\n",
       " 'theta',\n",
       " 'times',\n",
       " 'u',\n",
       " 'v',\n",
       " 'w',\n",
       " 'y',\n",
       " 'z',\n",
       " '{',\n",
       " '}']"
      ]
     },
     "execution_count": 13,
     "metadata": {},
     "output_type": "execute_result"
    }
   ],
   "source": [
    "train_ds.class_names"
   ]
  },
  {
   "cell_type": "code",
   "execution_count": 14,
   "id": "da070581",
   "metadata": {
    "colab": {
     "base_uri": "https://localhost:8080/"
    },
    "id": "da070581",
    "outputId": "ec593a4c-1250-4853-86dc-f96efe65234f"
   },
   "outputs": [
    {
     "name": "stdout",
     "output_type": "stream",
     "text": [
      "('!', '(', ')', '+', ',', '-', '0', '1', '2', '3', '4', '5', '6', '7', '8', '9', '=', 'A', 'C', 'Delta', 'G', 'H', 'M', 'N', 'R', 'S', 'T', 'X', '[', ']', 'alpha', 'ascii_124', 'b', 'beta', 'cos', 'd', 'div', 'e', 'exists', 'f', 'forall', 'forward_slash', 'gamma', 'geq', 'gt', 'i', 'in', 'infty', 'int', 'j', 'k', 'l', 'lambda', 'ldots', 'leq', 'lim', 'log', 'lt', 'mu', 'neq', 'o', 'p', 'phi', 'pi', 'pm', 'prime', 'q', 'rightarrow', 'sigma', 'sin', 'sqrt', 'sum', 'tan', 'theta', 'times', 'u', 'v', 'w', 'y', 'z', '{', '}')\n"
     ]
    }
   ],
   "source": [
    "class_names = tuple(train_ds.class_names)\n",
    "print(class_names)"
   ]
  },
  {
   "cell_type": "code",
   "execution_count": 15,
   "id": "7EvDDchPwp4q",
   "metadata": {
    "colab": {
     "base_uri": "https://localhost:8080/",
     "height": 591
    },
    "id": "7EvDDchPwp4q",
    "outputId": "8c276deb-feff-4ed0-fcf2-bf9a1040c1c3"
   },
   "outputs": [
    {
     "data": {
      "image/png": "[encoded data removed]",
      "text/plain": [
       "<Figure size 720x720 with 9 Axes>"
      ]
     },
     "metadata": {
      "needs_background": "light"
     },
     "output_type": "display_data"
    }
   ],
   "source": [
    "import matplotlib.pyplot as plt\n",
    "\n",
    "plt.figure(figsize=(10, 10))\n",
    "for images, labels in train_ds.take(1):\n",
    "  for i in range(9):\n",
    "    ax = plt.subplot(3, 3, i + 1)\n",
    "    plt.imshow(images[i].numpy().astype(\"uint8\"))\n",
    "    plt.title(class_names[labels[i]])\n",
    "    plt.axis(\"off\")"
   ]
  },
  {
   "cell_type": "code",
   "execution_count": 16,
   "id": "r4bhfE9xxG9V",
   "metadata": {
    "id": "r4bhfE9xxG9V"
   },
   "outputs": [],
   "source": [
    "normalization_layer = tf.keras.layers.Rescaling(1./255)"
   ]
  },
  {
   "cell_type": "code",
   "execution_count": 17,
   "id": "CoZw8bASxMNV",
   "metadata": {
    "colab": {
     "base_uri": "https://localhost:8080/"
    },
    "id": "CoZw8bASxMNV",
    "outputId": "e5eb097f-deb4-4c74-d32b-f0846d6b1e07"
   },
   "outputs": [
    {
     "name": "stdout",
     "output_type": "stream",
     "text": [
      "0.0 1.0\n"
     ]
    }
   ],
   "source": [
    "normalized_ds = train_ds.map(lambda x, y: (normalization_layer(x), y))\n",
    "image_batch, labels_batch = next(iter(normalized_ds))\n",
    "first_image = image_batch[0]\n",
    "# Notice the pixel values are now in `[0,1]`.\n",
    "print(np.min(first_image), np.max(first_image))"
   ]
  },
  {
   "cell_type": "code",
   "execution_count": 18,
   "id": "X48Z9Vh7w8On",
   "metadata": {
    "colab": {
     "base_uri": "https://localhost:8080/"
    },
    "id": "X48Z9Vh7w8On",
    "outputId": "bdf222c3-ddcb-421c-a216-10bf2363ca88"
   },
   "outputs": [
    {
     "name": "stdout",
     "output_type": "stream",
     "text": [
      "(32, 45, 45, 3)\n",
      "(32,)\n"
     ]
    }
   ],
   "source": [
    "for image_batch, labels_batch in train_ds:\n",
    "  print(image_batch.shape)\n",
    "  print(labels_batch.shape)\n",
    "  break"
   ]
  },
  {
   "cell_type": "code",
   "execution_count": 19,
   "id": "fN8Zu2rnxcxi",
   "metadata": {
    "colab": {
     "base_uri": "https://localhost:8080/"
    },
    "id": "fN8Zu2rnxcxi",
    "outputId": "5bde38e9-9c56-4e6f-82e0-8c460f142741"
   },
   "outputs": [
    {
     "name": "stdout",
     "output_type": "stream",
     "text": [
      "0.0 1.0\n"
     ]
    }
   ],
   "source": [
    "normalized_ds = train_ds.map(lambda x, y: (normalization_layer(x), y))\n",
    "image_batch, labels_batch = next(iter(normalized_ds))\n",
    "first_image = image_batch[0]\n",
    "# Notice the pixel values are now in `[0,1]`.\n",
    "print(np.min(first_image), np.max(first_image))"
   ]
  },
  {
   "cell_type": "code",
   "execution_count": 20,
   "id": "UVyKAKm0xsWU",
   "metadata": {
    "id": "UVyKAKm0xsWU"
   },
   "outputs": [],
   "source": [
    "AUTOTUNE = tf.data.AUTOTUNE\n",
    "\n",
    "train_ds = train_ds.cache().prefetch(buffer_size=AUTOTUNE)\n",
    "val_ds = val_ds.cache().prefetch(buffer_size=AUTOTUNE)"
   ]
  },
  {
   "cell_type": "code",
   "execution_count": 21,
   "id": "npJfR0-exs2h",
   "metadata": {
    "id": "npJfR0-exs2h"
   },
   "outputs": [],
   "source": [
    "num_classes = 82\n",
    "\n",
    "model = tf.keras.Sequential([\n",
    "  tf.keras.layers.Rescaling(1./255),\n",
    "  tf.keras.layers.Conv2D(32, 3, activation='relu'),\n",
    "  tf.keras.layers.MaxPooling2D(),\n",
    "  tf.keras.layers.Conv2D(32, 3, activation='relu'),\n",
    "  tf.keras.layers.MaxPooling2D(),\n",
    "  tf.keras.layers.Conv2D(32, 3, activation='relu'),\n",
    "  tf.keras.layers.MaxPooling2D(),\n",
    "  tf.keras.layers.Flatten(),\n",
    "  tf.keras.layers.Dense(128, activation='relu'),\n",
    "  tf.keras.layers.Dense(num_classes)\n",
    "])"
   ]
  },
  {
   "cell_type": "code",
   "execution_count": 22,
   "id": "RD-RUn4cxx1t",
   "metadata": {
    "id": "RD-RUn4cxx1t"
   },
   "outputs": [],
   "source": [
    "model.compile(\n",
    "  optimizer='adam',\n",
    "  loss=tf.losses.SparseCategoricalCrossentropy(from_logits=True),\n",
    "  metrics=['accuracy'])"
   ]
  },
  {
   "cell_type": "code",
   "execution_count": null,
   "id": "PqSMhlVXx2CC",
   "metadata": {
    "colab": {
     "base_uri": "https://localhost:8080/"
    },
    "id": "PqSMhlVXx2CC",
    "outputId": "39396e4a-9cac-4b37-9186-11d688ec91c6"
   },
   "outputs": [
    {
     "name": "stdout",
     "output_type": "stream",
     "text": [
      "Epoch 1/3\n",
      "9400/9400 [==============================] - 564s 60ms/step - loss: 0.5908 - accuracy: 0.8359 - val_loss: 0.3655 - val_accuracy: 0.8939\n",
      "Epoch 2/3\n",
      "9037/9400 [===========================>..] - ETA: 17s - loss: 0.3107 - accuracy: 0.9047"
     ]
    }
   ],
   "source": [
    "%%time\n",
    "hist = model.fit(\n",
    "  train_ds,\n",
    "  validation_data=val_ds,\n",
    "  epochs=3\n",
    ").history"
   ]
  },
  {
   "cell_type": "code",
   "execution_count": null,
   "id": "8dKeUFdRd7V8",
   "metadata": {
    "colab": {
     "base_uri": "https://localhost:8080/",
     "height": 566
    },
    "id": "8dKeUFdRd7V8",
    "outputId": "867f42a4-0e39-4c4d-cdb6-574154dca7ae"
   },
   "outputs": [],
   "source": [
    "plt.figure()\n",
    "plt.ylabel(\"Loss (training and validation)\")\n",
    "plt.xlabel(\"Training Steps\")\n",
    "plt.ylim([0,2])\n",
    "plt.plot(hist[\"loss\"])\n",
    "plt.plot(hist[\"val_loss\"])\n",
    "\n",
    "plt.figure()\n",
    "plt.ylabel(\"Accuracy (training and validation)\")\n",
    "plt.xlabel(\"Training Steps\")\n",
    "plt.ylim([0,1])\n",
    "plt.plot(hist[\"accuracy\"])\n",
    "plt.plot(hist[\"val_accuracy\"])"
   ]
  },
  {
   "cell_type": "code",
   "execution_count": null,
   "id": "8d1b1342",
   "metadata": {},
   "outputs": [],
   "source": [
    "model.summary()"
   ]
  },
  {
   "cell_type": "code",
   "execution_count": null,
   "id": "HVFJ40eqTtvh",
   "metadata": {
    "colab": {
     "base_uri": "https://localhost:8080/",
     "height": 265
    },
    "id": "HVFJ40eqTtvh",
    "outputId": "48ee9517-450a-433e-aa60-5f3793a701c7"
   },
   "outputs": [],
   "source": [
    "x, y = next(iter(val_ds))\n",
    "image = x[0, :, :, :]\n",
    "true_index = np.argmax(y[0])\n",
    "plt.imshow(image)\n",
    "plt.axis('off')\n",
    "plt.show()"
   ]
  },
  {
   "cell_type": "code",
   "execution_count": null,
   "id": "ZsbFTJP_cAuE",
   "metadata": {
    "colab": {
     "base_uri": "https://localhost:8080/"
    },
    "id": "ZsbFTJP_cAuE",
    "outputId": "fd05712f-793f-4556-f4ab-8422855145bc"
   },
   "outputs": [],
   "source": [
    "prediction_scores = model.predict(np.expand_dims(image, axis=0))\n",
    "predicted_index = np.argmax(prediction_scores)\n",
    "print(\"True label: \" + class_names[true_index])\n",
    "print(\"Predicted label: \" + class_names[predicted_index])"
   ]
  },
  {
   "cell_type": "code",
   "execution_count": null,
   "id": "0cryE-AQgYoS",
   "metadata": {
    "colab": {
     "base_uri": "https://localhost:8080/"
    },
    "id": "0cryE-AQgYoS",
    "outputId": "fbaf4299-acd7-42f9-da31-a2787e5bd4cc"
   },
   "outputs": [],
   "source": [
    "print(prediction_scores)"
   ]
  },
  {
   "cell_type": "code",
   "execution_count": null,
   "id": "46f7dc8d",
   "metadata": {},
   "outputs": [],
   "source": []
  },
  {
   "cell_type": "code",
   "execution_count": null,
   "id": "8451eb6e",
   "metadata": {},
   "outputs": [],
   "source": []
  },
  {
   "cell_type": "code",
   "execution_count": null,
   "id": "6aa13da0",
   "metadata": {},
   "outputs": [],
   "source": []
  },
  {
   "cell_type": "code",
   "execution_count": null,
   "id": "5445bcfe",
   "metadata": {},
   "outputs": [],
   "source": [
    "!pip install opencv-python"
   ]
  },
  {
   "cell_type": "code",
   "execution_count": null,
   "id": "b976ed43",
   "metadata": {},
   "outputs": [],
   "source": [
    "%load_ext autoreload\n",
    "%autoreload 2\n",
    "from get_test_data import test_data\n",
    "import cv2"
   ]
  },
  {
   "cell_type": "code",
   "execution_count": null,
   "id": "64fd2f84",
   "metadata": {},
   "outputs": [],
   "source": []
  },
  {
   "cell_type": "code",
   "execution_count": null,
   "id": "ddab3121",
   "metadata": {},
   "outputs": [],
   "source": [
    "num=test_data(\"IMG_5023 copy 2.jpeg\")[1]"
   ]
  },
  {
   "cell_type": "code",
   "execution_count": 141,
   "id": "cfc6bd94",
   "metadata": {},
   "outputs": [
    {
     "data": {
      "text/plain": [
       "TensorShape([45, 45, 3])"
      ]
     },
     "execution_count": 141,
     "metadata": {},
     "output_type": "execute_result"
    }
   ],
   "source": [
    "num2 = tf.image.rgb_to_grayscale(num)\n",
    "num2= tf.image.grayscale_to_rgb(num2)\n",
    "num2.shape"
   ]
  },
  {
   "cell_type": "code",
   "execution_count": 142,
   "id": "c4248579",
   "metadata": {},
   "outputs": [
    {
     "name": "stdout",
     "output_type": "stream",
     "text": [
      "1/1 [==============================] - 0s 27ms/step\n",
      "Predicted label: +\n"
     ]
    }
   ],
   "source": [
    "prediction_scores= model.predict(np.expand_dims(num2, axis=0))\n",
    "predicted_index = np.argmax(prediction_scores)\n",
    "print(\"Predicted label: \" + class_names[predicted_index])"
   ]
  },
  {
   "cell_type": "code",
   "execution_count": 70,
   "id": "XpOK3Akgx9Rz",
   "metadata": {
    "id": "XpOK3Akgx9Rz"
   },
   "outputs": [],
   "source": [
    "# https://www.tensorflow.org/tutorials/load_data/images"
   ]
  },
  {
   "cell_type": "code",
   "execution_count": null,
   "id": "d7d13cdb",
   "metadata": {},
   "outputs": [],
   "source": []
  }
 ],
 "metadata": {
  "accelerator": "GPU",
  "colab": {
   "collapsed_sections": [],
   "name": "AntoineMoreno_test_v3.ipynb",
   "provenance": []
  },
  "kernelspec": {
   "display_name": "Python 3 (ipykernel)",
   "language": "python",
   "name": "python3"
  },
  "language_info": {
   "codemirror_mode": {
    "name": "ipython",
    "version": 3
   },
   "file_extension": ".py",
   "mimetype": "text/x-python",
   "name": "python",
   "nbconvert_exporter": "python",
   "pygments_lexer": "ipython3",
   "version": "3.8.13"
  },
  "toc": {
   "base_numbering": 1,
   "nav_menu": {},
   "number_sections": true,
   "sideBar": true,
   "skip_h1_title": false,
   "title_cell": "Table of Contents",
   "title_sidebar": "Contents",
   "toc_cell": false,
   "toc_position": {},
   "toc_section_display": true,
   "toc_window_display": false
  }
 },
 "nbformat": 4,
 "nbformat_minor": 5
}
