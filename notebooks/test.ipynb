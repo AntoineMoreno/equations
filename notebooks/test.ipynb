{
 "cells": [
  {
   "cell_type": "code",
   "execution_count": 56,
   "id": "b70c1cdd",
   "metadata": {},
   "outputs": [],
   "source": [
    "import pandas as pd"
   ]
  },
  {
   "cell_type": "code",
   "execution_count": 41,
   "id": "0e62f7a7",
   "metadata": {},
   "outputs": [],
   "source": [
    "from IPython.display import Image\n",
    "image = Image(filename='../raw_data/data/-/-_66.jpg') \n",
    "\n",
    "import matplotlib.pyplot as plt\n"
   ]
  },
  {
   "cell_type": "code",
   "execution_count": 51,
   "id": "a991b7d6",
   "metadata": {},
   "outputs": [
    {
     "data": {
      "text/plain": [
       "82"
      ]
     },
     "execution_count": 51,
     "metadata": {},
     "output_type": "execute_result"
    }
   ],
   "source": [
    "path_to_folders = \"../raw_data/data/\"    \n",
    "list_of_folders = os.listdir(path_to_folders)\n",
    "list_of_folders.remove('.DS_Store')\n",
    "len(list_of_folders)"
   ]
  },
  {
   "cell_type": "code",
   "execution_count": 63,
   "id": "791ef7bb",
   "metadata": {},
   "outputs": [
    {
     "name": "stdout",
     "output_type": "stream",
     "text": [
      "../raw_data/data/beta/\n",
      "../raw_data/data/pm/\n",
      "../raw_data/data/Delta/\n",
      "../raw_data/data/gamma/\n",
      "../raw_data/data/infty/\n",
      "../raw_data/data/rightarrow/\n",
      "../raw_data/data/div/\n",
      "../raw_data/data/gt/\n",
      "../raw_data/data/forward_slash/\n",
      "../raw_data/data/leq/\n",
      "../raw_data/data/mu/\n",
      "../raw_data/data/exists/\n",
      "../raw_data/data/in/\n",
      "../raw_data/data/times/\n",
      "../raw_data/data/sin/\n",
      "../raw_data/data/R/\n",
      "../raw_data/data/u/\n",
      "../raw_data/data/9/\n",
      "../raw_data/data/0/\n",
      "../raw_data/data/{/\n",
      "../raw_data/data/7/\n",
      "../raw_data/data/i/\n",
      "../raw_data/data/N/\n",
      "../raw_data/data/G/\n",
      "../raw_data/data/+/\n",
      "../raw_data/data/,/\n",
      "../raw_data/data/6/\n",
      "../raw_data/data/z/\n",
      "../raw_data/data/}/\n",
      "../raw_data/data/1/\n",
      "../raw_data/data/8/\n",
      "../raw_data/data/T/\n",
      "../raw_data/data/S/\n",
      "../raw_data/data/cos/\n",
      "../raw_data/data/A/\n",
      "../raw_data/data/-/\n",
      "../raw_data/data/f/\n",
      "../raw_data/data/o/\n",
      "../raw_data/data/H/\n",
      "../raw_data/data/sigma/\n",
      "../raw_data/data/sqrt/\n",
      "../raw_data/data/pi/\n",
      "../raw_data/data/int/\n",
      "../raw_data/data/sum/\n",
      "../raw_data/data/lim/\n",
      "../raw_data/data/lambda/\n",
      "../raw_data/data/neq/\n",
      "../raw_data/data/log/\n",
      "../raw_data/data/ldots/\n",
      "../raw_data/data/forall/\n",
      "../raw_data/data/lt/\n",
      "../raw_data/data/theta/\n",
      "../raw_data/data/ascii_124/\n",
      "../raw_data/data/M/\n",
      "../raw_data/data/!/\n",
      "../raw_data/data/alpha/\n",
      "../raw_data/data/j/\n",
      "../raw_data/data/C/\n",
      "../raw_data/data/]/\n",
      "../raw_data/data/(/\n",
      "../raw_data/data/d/\n",
      "../raw_data/data/v/\n",
      "../raw_data/data/prime/\n",
      "../raw_data/data/q/\n",
      "../raw_data/data/=/\n",
      "../raw_data/data/4/\n",
      "../raw_data/data/X/\n",
      "../raw_data/data/phi/\n",
      "../raw_data/data/3/\n",
      "../raw_data/data/tan/\n",
      "../raw_data/data/e/\n",
      "../raw_data/data/)/\n",
      "../raw_data/data/[/\n",
      "../raw_data/data/b/\n",
      "../raw_data/data/k/\n",
      "../raw_data/data/l/\n",
      "../raw_data/data/geq/\n",
      "../raw_data/data/2/\n",
      "../raw_data/data/y/\n",
      "../raw_data/data/5/\n",
      "../raw_data/data/p/\n",
      "../raw_data/data/w/\n"
     ]
    }
   ],
   "source": [
    "from PIL import Image\n",
    "import os\n",
    "import numpy as np\n",
    "\n",
    "path_to_folders = \"../raw_data/data/\"    \n",
    "vectorized_images = []\n",
    "what_folder = []\n",
    "for folder in list_of_folders:\n",
    "    path_to_files = path_to_folders +f\"{folder}/\"\n",
    "    print(path_to_files)\n",
    "    for _, file in enumerate(os.listdir(path_to_files)):\n",
    "        image = Image.open(path_to_files + file)\n",
    "        image_array = np.array(image)\n",
    "        vectorized_images.append(image_array) \n",
    "        what_folder.append(folder)"
   ]
  },
  {
   "cell_type": "code",
   "execution_count": 54,
   "id": "71129d5a",
   "metadata": {},
   "outputs": [
    {
     "data": {
      "text/plain": [
       "2827"
      ]
     },
     "execution_count": 54,
     "metadata": {},
     "output_type": "execute_result"
    }
   ],
   "source": []
  },
  {
   "cell_type": "code",
   "execution_count": 37,
   "id": "43d553b8",
   "metadata": {},
   "outputs": [],
   "source": [
    "array = np.array(vectorized_images)"
   ]
  },
  {
   "cell_type": "code",
   "execution_count": 55,
   "id": "e054ba89",
   "metadata": {},
   "outputs": [
    {
     "name": "stdout",
     "output_type": "stream",
     "text": [
      "2827 2827\n"
     ]
    }
   ],
   "source": [
    "print(len(array), len(what_folder))"
   ]
  },
  {
   "cell_type": "code",
   "execution_count": 39,
   "id": "15551dfa",
   "metadata": {},
   "outputs": [
    {
     "data": {
      "text/plain": [
       "(2827, 45, 45)"
      ]
     },
     "execution_count": 39,
     "metadata": {},
     "output_type": "execute_result"
    }
   ],
   "source": [
    "array.shape"
   ]
  },
  {
   "cell_type": "code",
   "execution_count": 64,
   "id": "da070581",
   "metadata": {},
   "outputs": [],
   "source": [
    "df = pd.DataFrame()"
   ]
  },
  {
   "cell_type": "code",
   "execution_count": 65,
   "id": "57dd7e5e",
   "metadata": {},
   "outputs": [],
   "source": [
    "df['image']=vectorized_images\n",
    "df['target']=what_folder"
   ]
  },
  {
   "cell_type": "code",
   "execution_count": 66,
   "id": "04421ea9",
   "metadata": {},
   "outputs": [
    {
     "data": {
      "text/plain": [
       "array([[255, 255, 255, ..., 255, 255, 253],\n",
       "       [255, 255, 255, ..., 254, 255, 254],\n",
       "       [255, 255, 255, ..., 255, 252, 255],\n",
       "       ...,\n",
       "       [255, 252, 254, ..., 255, 255, 255],\n",
       "       [255, 255, 254, ..., 255, 255, 255],\n",
       "       [254, 255, 255, ..., 255, 255, 255]], dtype=uint8)"
      ]
     },
     "execution_count": 66,
     "metadata": {},
     "output_type": "execute_result"
    }
   ],
   "source": [
    "df['image'][0]"
   ]
  },
  {
   "cell_type": "code",
   "execution_count": 67,
   "id": "d88ecfba",
   "metadata": {},
   "outputs": [
    {
     "data": {
      "text/html": [
       "<div>\n",
       "<style scoped>\n",
       "    .dataframe tbody tr th:only-of-type {\n",
       "        vertical-align: middle;\n",
       "    }\n",
       "\n",
       "    .dataframe tbody tr th {\n",
       "        vertical-align: top;\n",
       "    }\n",
       "\n",
       "    .dataframe thead th {\n",
       "        text-align: right;\n",
       "    }\n",
       "</style>\n",
       "<table border=\"1\" class=\"dataframe\">\n",
       "  <thead>\n",
       "    <tr style=\"text-align: right;\">\n",
       "      <th></th>\n",
       "      <th>image</th>\n",
       "      <th>target</th>\n",
       "    </tr>\n",
       "  </thead>\n",
       "  <tbody>\n",
       "    <tr>\n",
       "      <th>0</th>\n",
       "      <td>[[255, 255, 255, 255, 255, 255, 255, 255, 255,...</td>\n",
       "      <td>beta</td>\n",
       "    </tr>\n",
       "    <tr>\n",
       "      <th>1</th>\n",
       "      <td>[[255, 255, 255, 255, 255, 255, 255, 255, 255,...</td>\n",
       "      <td>beta</td>\n",
       "    </tr>\n",
       "    <tr>\n",
       "      <th>2</th>\n",
       "      <td>[[255, 255, 255, 255, 255, 255, 255, 255, 255,...</td>\n",
       "      <td>beta</td>\n",
       "    </tr>\n",
       "    <tr>\n",
       "      <th>3</th>\n",
       "      <td>[[255, 255, 255, 255, 255, 255, 255, 255, 255,...</td>\n",
       "      <td>beta</td>\n",
       "    </tr>\n",
       "    <tr>\n",
       "      <th>4</th>\n",
       "      <td>[[255, 255, 255, 255, 255, 255, 255, 255, 255,...</td>\n",
       "      <td>beta</td>\n",
       "    </tr>\n",
       "    <tr>\n",
       "      <th>...</th>\n",
       "      <td>...</td>\n",
       "      <td>...</td>\n",
       "    </tr>\n",
       "    <tr>\n",
       "      <th>375969</th>\n",
       "      <td>[[255, 255, 255, 255, 255, 255, 255, 255, 255,...</td>\n",
       "      <td>w</td>\n",
       "    </tr>\n",
       "    <tr>\n",
       "      <th>375970</th>\n",
       "      <td>[[255, 254, 255, 254, 255, 255, 254, 255, 255,...</td>\n",
       "      <td>w</td>\n",
       "    </tr>\n",
       "    <tr>\n",
       "      <th>375971</th>\n",
       "      <td>[[255, 255, 255, 255, 255, 255, 255, 255, 255,...</td>\n",
       "      <td>w</td>\n",
       "    </tr>\n",
       "    <tr>\n",
       "      <th>375972</th>\n",
       "      <td>[[255, 255, 255, 255, 255, 255, 255, 255, 255,...</td>\n",
       "      <td>w</td>\n",
       "    </tr>\n",
       "    <tr>\n",
       "      <th>375973</th>\n",
       "      <td>[[255, 253, 255, 255, 251, 255, 254, 255, 255,...</td>\n",
       "      <td>w</td>\n",
       "    </tr>\n",
       "  </tbody>\n",
       "</table>\n",
       "<p>375974 rows × 2 columns</p>\n",
       "</div>"
      ],
      "text/plain": [
       "                                                    image target\n",
       "0       [[255, 255, 255, 255, 255, 255, 255, 255, 255,...   beta\n",
       "1       [[255, 255, 255, 255, 255, 255, 255, 255, 255,...   beta\n",
       "2       [[255, 255, 255, 255, 255, 255, 255, 255, 255,...   beta\n",
       "3       [[255, 255, 255, 255, 255, 255, 255, 255, 255,...   beta\n",
       "4       [[255, 255, 255, 255, 255, 255, 255, 255, 255,...   beta\n",
       "...                                                   ...    ...\n",
       "375969  [[255, 255, 255, 255, 255, 255, 255, 255, 255,...      w\n",
       "375970  [[255, 254, 255, 254, 255, 255, 254, 255, 255,...      w\n",
       "375971  [[255, 255, 255, 255, 255, 255, 255, 255, 255,...      w\n",
       "375972  [[255, 255, 255, 255, 255, 255, 255, 255, 255,...      w\n",
       "375973  [[255, 253, 255, 255, 251, 255, 254, 255, 255,...      w\n",
       "\n",
       "[375974 rows x 2 columns]"
      ]
     },
     "execution_count": 67,
     "metadata": {},
     "output_type": "execute_result"
    }
   ],
   "source": [
    "df"
   ]
  },
  {
   "cell_type": "code",
   "execution_count": null,
   "id": "6963f977",
   "metadata": {},
   "outputs": [],
   "source": []
  }
 ],
 "metadata": {
  "kernelspec": {
   "display_name": "Python 3 (ipykernel)",
   "language": "python",
   "name": "python3"
  },
  "language_info": {
   "codemirror_mode": {
    "name": "ipython",
    "version": 3
   },
   "file_extension": ".py",
   "mimetype": "text/x-python",
   "name": "python",
   "nbconvert_exporter": "python",
   "pygments_lexer": "ipython3",
   "version": "3.8.13"
  },
  "toc": {
   "base_numbering": 1,
   "nav_menu": {},
   "number_sections": true,
   "sideBar": true,
   "skip_h1_title": false,
   "title_cell": "Table of Contents",
   "title_sidebar": "Contents",
   "toc_cell": false,
   "toc_position": {},
   "toc_section_display": true,
   "toc_window_display": false
  }
 },
 "nbformat": 4,
 "nbformat_minor": 5
}
