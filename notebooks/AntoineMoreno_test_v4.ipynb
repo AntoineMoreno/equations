{
  "cells": [
    {
      "cell_type": "code",
      "execution_count": 3,
      "id": "eXBkmUyIpOX1",
      "metadata": {
        "id": "eXBkmUyIpOX1"
      },
      "outputs": [],
      "source": [
        "#from google.colab import drive\n",
        "#drive.mount('/content/drive')"
      ]
    },
    {
      "cell_type": "code",
      "source": [
        "from google.colab import drive\n",
        "drive.mount('/content/drive')"
      ],
      "metadata": {
        "colab": {
          "base_uri": "https://localhost:8080/"
        },
        "id": "CjoV-RNVziTb",
        "outputId": "44f82b9c-fd8a-43b9-aae8-507e2326a5d5"
      },
      "id": "CjoV-RNVziTb",
      "execution_count": 1,
      "outputs": [
        {
          "output_type": "stream",
          "name": "stdout",
          "text": [
            "Drive already mounted at /content/drive; to attempt to forcibly remount, call drive.mount(\"/content/drive\", force_remount=True).\n"
          ]
        }
      ]
    },
    {
      "cell_type": "code",
      "execution_count": 2,
      "id": "a93pnhV4fUxq",
      "metadata": {
        "colab": {
          "base_uri": "https://localhost:8080/"
        },
        "id": "a93pnhV4fUxq",
        "outputId": "fd72e9a1-9b75-4f07-8f4f-7b9dbd2c6a8a"
      },
      "outputs": [
        {
          "output_type": "stream",
          "name": "stdout",
          "text": [
            "\n",
            "UNRAR 5.50 freeware      Copyright (c) 1993-2017 Alexander Roshal\n",
            "\n",
            "\n",
            "Extracting from /content/drive/MyDrive/data.rar\n",
            "\n",
            "\n",
            "Would you like to replace the existing file extracted_images/!/!_100071.jpg\n",
            "   544 bytes, modified on 2017-01-15 16:31\n",
            "with a new one\n",
            "   544 bytes, modified on 2017-01-15 16:31\n",
            "\n",
            "[Y]es, [N]o, [A]ll, n[E]ver, [R]ename, [Q]uit Q\n",
            "\n",
            "Program aborted\n"
          ]
        }
      ],
      "source": [
        "!unrar x /content/drive/MyDrive/data.rar"
      ]
    },
    {
      "cell_type": "code",
      "execution_count": 2,
      "id": "68EE8bQuxSTL",
      "metadata": {
        "id": "68EE8bQuxSTL"
      },
      "outputs": [],
      "source": [
        "import numpy as np\n",
        "import tensorflow as tf\n",
        "import numpy as np\n",
        "import os"
      ]
    },
    {
      "cell_type": "code",
      "execution_count": 3,
      "id": "vXm2-o-QrGXz",
      "metadata": {
        "id": "vXm2-o-QrGXz"
      },
      "outputs": [],
      "source": [
        "import pathlib\n",
        "data_dir = pathlib.Path(\"/content/extracted_images\")"
      ]
    },
    {
      "cell_type": "code",
      "execution_count": 4,
      "id": "Ys7vbtSPrEIy",
      "metadata": {
        "colab": {
          "base_uri": "https://localhost:8080/"
        },
        "id": "Ys7vbtSPrEIy",
        "outputId": "2c52eede-8ad2-4fbe-e9e6-92531466210c"
      },
      "outputs": [
        {
          "output_type": "stream",
          "name": "stdout",
          "text": [
            "375974\n"
          ]
        }
      ],
      "source": [
        "image_count = len(list(data_dir.glob('*/*.jpg')))\n",
        "print(image_count)"
      ]
    },
    {
      "cell_type": "code",
      "execution_count": 6,
      "id": "pf8CusxCrdtN",
      "metadata": {
        "colab": {
          "base_uri": "https://localhost:8080/",
          "height": 62
        },
        "id": "pf8CusxCrdtN",
        "outputId": "45d94300-de4a-4ca2-a72d-84409bcde825"
      },
      "outputs": [
        {
          "output_type": "execute_result",
          "data": {
            "text/plain": [
              "<PIL.JpegImagePlugin.JpegImageFile image mode=L size=45x45 at 0x7F897CF79390>"
            ],
            "image/png": "[encoded data removed]"
          },
          "metadata": {},
          "execution_count": 6
        }
      ],
      "source": [
        "import PIL\n",
        "import PIL.Image\n",
        "\n",
        "equal_sign = list(data_dir.glob('=/*'))\n",
        "PIL.Image.open(str(equal_sign[10]))"
      ]
    },
    {
      "cell_type": "code",
      "execution_count": 5,
      "id": "hqEuo3qysLuv",
      "metadata": {
        "id": "hqEuo3qysLuv"
      },
      "outputs": [],
      "source": [
        "batch_size = 32\n",
        "img_height = 45\n",
        "img_width = 45"
      ]
    },
    {
      "cell_type": "code",
      "execution_count": 6,
      "id": "s3106yEVsNvZ",
      "metadata": {
        "colab": {
          "base_uri": "https://localhost:8080/"
        },
        "id": "s3106yEVsNvZ",
        "outputId": "f3032a5c-2a4f-469b-be6b-9ca7b6f0ec50"
      },
      "outputs": [
        {
          "output_type": "stream",
          "name": "stdout",
          "text": [
            "Found 375974 files belonging to 82 classes.\n",
            "Using 300780 files for training.\n"
          ]
        }
      ],
      "source": [
        "train_ds = tf.keras.utils.image_dataset_from_directory(\n",
        "  data_dir,\n",
        "  validation_split=0.2,\n",
        "  subset=\"training\",\n",
        "  seed=123,\n",
        "  image_size=(img_height, img_width),\n",
        "  batch_size=batch_size)"
      ]
    },
    {
      "cell_type": "code",
      "execution_count": 7,
      "id": "GVlm6IoNsaYk",
      "metadata": {
        "colab": {
          "base_uri": "https://localhost:8080/"
        },
        "id": "GVlm6IoNsaYk",
        "outputId": "c807da38-8997-4cdc-f8c1-ac36647a9a56"
      },
      "outputs": [
        {
          "output_type": "stream",
          "name": "stdout",
          "text": [
            "Found 375974 files belonging to 82 classes.\n",
            "Using 75194 files for validation.\n"
          ]
        }
      ],
      "source": [
        "val_ds = tf.keras.utils.image_dataset_from_directory(\n",
        "  data_dir,\n",
        "  validation_split=0.2,\n",
        "  subset=\"validation\",\n",
        "  seed=123,\n",
        "  image_size=(img_height, img_width),\n",
        "  batch_size=batch_size)"
      ]
    },
    {
      "cell_type": "code",
      "execution_count": 8,
      "id": "0ccfa848",
      "metadata": {
        "id": "0ccfa848",
        "outputId": "303c1195-25e3-455c-efa8-9e3b9e567cf0",
        "colab": {
          "base_uri": "https://localhost:8080/"
        }
      },
      "outputs": [
        {
          "output_type": "execute_result",
          "data": {
            "text/plain": [
              "['!',\n",
              " '(',\n",
              " ')',\n",
              " '+',\n",
              " ',',\n",
              " '-',\n",
              " '0',\n",
              " '1',\n",
              " '2',\n",
              " '3',\n",
              " '4',\n",
              " '5',\n",
              " '6',\n",
              " '7',\n",
              " '8',\n",
              " '9',\n",
              " '=',\n",
              " 'A',\n",
              " 'C',\n",
              " 'Delta',\n",
              " 'G',\n",
              " 'H',\n",
              " 'M',\n",
              " 'N',\n",
              " 'R',\n",
              " 'S',\n",
              " 'T',\n",
              " 'X',\n",
              " '[',\n",
              " ']',\n",
              " 'alpha',\n",
              " 'ascii_124',\n",
              " 'b',\n",
              " 'beta',\n",
              " 'cos',\n",
              " 'd',\n",
              " 'div',\n",
              " 'e',\n",
              " 'exists',\n",
              " 'f',\n",
              " 'forall',\n",
              " 'forward_slash',\n",
              " 'gamma',\n",
              " 'geq',\n",
              " 'gt',\n",
              " 'i',\n",
              " 'in',\n",
              " 'infty',\n",
              " 'int',\n",
              " 'j',\n",
              " 'k',\n",
              " 'l',\n",
              " 'lambda',\n",
              " 'ldots',\n",
              " 'leq',\n",
              " 'lim',\n",
              " 'log',\n",
              " 'lt',\n",
              " 'mu',\n",
              " 'neq',\n",
              " 'o',\n",
              " 'p',\n",
              " 'phi',\n",
              " 'pi',\n",
              " 'pm',\n",
              " 'prime',\n",
              " 'q',\n",
              " 'rightarrow',\n",
              " 'sigma',\n",
              " 'sin',\n",
              " 'sqrt',\n",
              " 'sum',\n",
              " 'tan',\n",
              " 'theta',\n",
              " 'times',\n",
              " 'u',\n",
              " 'v',\n",
              " 'w',\n",
              " 'y',\n",
              " 'z',\n",
              " '{',\n",
              " '}']"
            ]
          },
          "metadata": {},
          "execution_count": 8
        }
      ],
      "source": [
        "train_ds.class_names"
      ]
    },
    {
      "cell_type": "code",
      "execution_count": 9,
      "id": "da070581",
      "metadata": {
        "colab": {
          "base_uri": "https://localhost:8080/"
        },
        "id": "da070581",
        "outputId": "53575259-3b47-4f42-951a-2cb8bbd15667"
      },
      "outputs": [
        {
          "output_type": "stream",
          "name": "stdout",
          "text": [
            "('!', '(', ')', '+', ',', '-', '0', '1', '2', '3', '4', '5', '6', '7', '8', '9', '=', 'A', 'C', 'Delta', 'G', 'H', 'M', 'N', 'R', 'S', 'T', 'X', '[', ']', 'alpha', 'ascii_124', 'b', 'beta', 'cos', 'd', 'div', 'e', 'exists', 'f', 'forall', 'forward_slash', 'gamma', 'geq', 'gt', 'i', 'in', 'infty', 'int', 'j', 'k', 'l', 'lambda', 'ldots', 'leq', 'lim', 'log', 'lt', 'mu', 'neq', 'o', 'p', 'phi', 'pi', 'pm', 'prime', 'q', 'rightarrow', 'sigma', 'sin', 'sqrt', 'sum', 'tan', 'theta', 'times', 'u', 'v', 'w', 'y', 'z', '{', '}')\n"
          ]
        }
      ],
      "source": [
        "class_names = tuple(train_ds.class_names)\n",
        "print(class_names)"
      ]
    },
    {
      "cell_type": "code",
      "execution_count": 12,
      "id": "7EvDDchPwp4q",
      "metadata": {
        "colab": {
          "base_uri": "https://localhost:8080/",
          "height": 591
        },
        "id": "7EvDDchPwp4q",
        "outputId": "f5981424-ea26-45af-f15b-6918740ae912"
      },
      "outputs": [
        {
          "output_type": "display_data",
          "data": {
            "text/plain": [
              "<Figure size 720x720 with 9 Axes>"
            ],
            "image/png": "[encoded data removed]"
          },
          "metadata": {
            "needs_background": "light"
          }
        }
      ],
      "source": [
        "import matplotlib.pyplot as plt\n",
        "\n",
        "plt.figure(figsize=(10, 10))\n",
        "for images, labels in train_ds.take(1):\n",
        "  for i in range(9):\n",
        "    ax = plt.subplot(3, 3, i + 1)\n",
        "    plt.imshow(images[i].numpy().astype(\"uint8\"))\n",
        "    plt.title(class_names[labels[i]])\n",
        "    plt.axis(\"off\")"
      ]
    },
    {
      "cell_type": "code",
      "execution_count": 10,
      "id": "r4bhfE9xxG9V",
      "metadata": {
        "id": "r4bhfE9xxG9V"
      },
      "outputs": [],
      "source": [
        "normalization_layer = tf.keras.layers.Rescaling(1./255)"
      ]
    },
    {
      "cell_type": "code",
      "execution_count": 11,
      "id": "CoZw8bASxMNV",
      "metadata": {
        "colab": {
          "base_uri": "https://localhost:8080/"
        },
        "id": "CoZw8bASxMNV",
        "outputId": "72dc5a8d-9b2e-4cdb-db12-d08dc78e2c3a"
      },
      "outputs": [
        {
          "output_type": "stream",
          "name": "stdout",
          "text": [
            "0.0 1.0\n"
          ]
        }
      ],
      "source": [
        "normalized_ds = train_ds.map(lambda x, y: (normalization_layer(x), y))\n",
        "image_batch, labels_batch = next(iter(normalized_ds))\n",
        "first_image = image_batch[0]\n",
        "# Notice the pixel values are now in `[0,1]`.\n",
        "print(np.min(first_image), np.max(first_image))"
      ]
    },
    {
      "cell_type": "code",
      "execution_count": 12,
      "id": "X48Z9Vh7w8On",
      "metadata": {
        "colab": {
          "base_uri": "https://localhost:8080/"
        },
        "id": "X48Z9Vh7w8On",
        "outputId": "c1f458b6-d1da-4c0d-df35-99d4dd553b93"
      },
      "outputs": [
        {
          "output_type": "stream",
          "name": "stdout",
          "text": [
            "(32, 45, 45, 3)\n",
            "(32,)\n"
          ]
        }
      ],
      "source": [
        "for image_batch, labels_batch in train_ds:\n",
        "  print(image_batch.shape)\n",
        "  print(labels_batch.shape)\n",
        "  break"
      ]
    },
    {
      "cell_type": "code",
      "execution_count": 13,
      "id": "fN8Zu2rnxcxi",
      "metadata": {
        "colab": {
          "base_uri": "https://localhost:8080/"
        },
        "id": "fN8Zu2rnxcxi",
        "outputId": "eff50066-d638-4361-ff77-4e61fb364166"
      },
      "outputs": [
        {
          "output_type": "stream",
          "name": "stdout",
          "text": [
            "0.0 1.0\n"
          ]
        }
      ],
      "source": [
        "normalized_ds = train_ds.map(lambda x, y: (normalization_layer(x), y))\n",
        "image_batch, labels_batch = next(iter(normalized_ds))\n",
        "first_image = image_batch[0]\n",
        "# Notice the pixel values are now in `[0,1]`.\n",
        "print(np.min(first_image), np.max(first_image))"
      ]
    },
    {
      "cell_type": "code",
      "execution_count": 14,
      "id": "UVyKAKm0xsWU",
      "metadata": {
        "id": "UVyKAKm0xsWU"
      },
      "outputs": [],
      "source": [
        "AUTOTUNE = tf.data.AUTOTUNE\n",
        "\n",
        "train_ds = train_ds.cache().prefetch(buffer_size=AUTOTUNE)\n",
        "val_ds = val_ds.cache().prefetch(buffer_size=AUTOTUNE)"
      ]
    },
    {
      "cell_type": "code",
      "execution_count": 36,
      "id": "npJfR0-exs2h",
      "metadata": {
        "id": "npJfR0-exs2h"
      },
      "outputs": [],
      "source": [
        "num_classes = 82\n",
        "\n",
        "model = tf.keras.Sequential([\n",
        "  tf.keras.layers.Rescaling(1./255),\n",
        "  tf.keras.layers.Conv2D(32, kernel_size=(3, 3), activation=\"relu\"),\n",
        "  tf.keras.layers.MaxPooling2D(pool_size=(2, 2)),\n",
        "  tf.keras.layers.Conv2D(64, kernel_size=(3, 3), activation=\"relu\"),\n",
        "  tf.keras.layers.MaxPooling2D(pool_size=(2, 2)),\n",
        "  tf.keras.layers.Flatten(),\n",
        "  tf.keras.layers.Dropout(0.5),\n",
        "  tf.keras.layers.Dense(num_classes)\n",
        "])"
      ]
    },
    {
      "cell_type": "code",
      "execution_count": 37,
      "id": "RD-RUn4cxx1t",
      "metadata": {
        "id": "RD-RUn4cxx1t"
      },
      "outputs": [],
      "source": [
        "from tensorflow.keras.callbacks import EarlyStopping\n",
        "\n",
        "es=EarlyStopping(patience=5)\n",
        "\n",
        "model.compile(\n",
        "    optimizer='adam',\n",
        "    loss=tf.losses.SparseCategoricalCrossentropy(from_logits=True),\n",
        "    metrics=['accuracy'])"
      ]
    },
    {
      "cell_type": "code",
      "execution_count": 38,
      "id": "PqSMhlVXx2CC",
      "metadata": {
        "colab": {
          "base_uri": "https://localhost:8080/"
        },
        "id": "PqSMhlVXx2CC",
        "outputId": "bda91421-77cd-489c-b7da-fce0a14fec58"
      },
      "outputs": [
        {
          "output_type": "stream",
          "name": "stdout",
          "text": [
            "Epoch 1/40\n",
            "9400/9400 [==============================] - 239s 25ms/step - loss: 0.5371 - accuracy: 0.8535 - val_loss: 0.2711 - val_accuracy: 0.9223\n",
            "Epoch 2/40\n",
            "9400/9400 [==============================] - 42s 4ms/step - loss: 0.3089 - accuracy: 0.9079 - val_loss: 0.2091 - val_accuracy: 0.9405\n",
            "Epoch 3/40\n",
            "9400/9400 [==============================] - 42s 4ms/step - loss: 0.2547 - accuracy: 0.9226 - val_loss: 0.1769 - val_accuracy: 0.9489\n",
            "Epoch 4/40\n",
            "9400/9400 [==============================] - 42s 4ms/step - loss: 0.2200 - accuracy: 0.9319 - val_loss: 0.1492 - val_accuracy: 0.9572\n",
            "Epoch 5/40\n",
            "9400/9400 [==============================] - 43s 5ms/step - loss: 0.1978 - accuracy: 0.9374 - val_loss: 0.1316 - val_accuracy: 0.9626\n",
            "Epoch 6/40\n",
            "9400/9400 [==============================] - 42s 4ms/step - loss: 0.1801 - accuracy: 0.9425 - val_loss: 0.1228 - val_accuracy: 0.9651\n",
            "Epoch 7/40\n",
            "9400/9400 [==============================] - 42s 4ms/step - loss: 0.1697 - accuracy: 0.9451 - val_loss: 0.1121 - val_accuracy: 0.9682\n",
            "Epoch 8/40\n",
            "9400/9400 [==============================] - 42s 4ms/step - loss: 0.1589 - accuracy: 0.9489 - val_loss: 0.1071 - val_accuracy: 0.9689\n",
            "Epoch 9/40\n",
            "9400/9400 [==============================] - 42s 4ms/step - loss: 0.1537 - accuracy: 0.9503 - val_loss: 0.0975 - val_accuracy: 0.9717\n",
            "Epoch 10/40\n",
            "9400/9400 [==============================] - 42s 4ms/step - loss: 0.1463 - accuracy: 0.9524 - val_loss: 0.0939 - val_accuracy: 0.9726\n",
            "Epoch 11/40\n",
            "9400/9400 [==============================] - 41s 4ms/step - loss: 0.1429 - accuracy: 0.9535 - val_loss: 0.0927 - val_accuracy: 0.9736\n",
            "Epoch 12/40\n",
            "9400/9400 [==============================] - 41s 4ms/step - loss: 0.1405 - accuracy: 0.9538 - val_loss: 0.0920 - val_accuracy: 0.9736\n",
            "Epoch 13/40\n",
            "9400/9400 [==============================] - 41s 4ms/step - loss: 0.1356 - accuracy: 0.9556 - val_loss: 0.0862 - val_accuracy: 0.9750\n",
            "Epoch 14/40\n",
            "9400/9400 [==============================] - 41s 4ms/step - loss: 0.1325 - accuracy: 0.9566 - val_loss: 0.0846 - val_accuracy: 0.9757\n",
            "Epoch 15/40\n",
            "9400/9400 [==============================] - 42s 4ms/step - loss: 0.1304 - accuracy: 0.9574 - val_loss: 0.0846 - val_accuracy: 0.9762\n",
            "Epoch 16/40\n",
            "9400/9400 [==============================] - 41s 4ms/step - loss: 0.1278 - accuracy: 0.9580 - val_loss: 0.0807 - val_accuracy: 0.9775\n",
            "Epoch 17/40\n",
            "9400/9400 [==============================] - 41s 4ms/step - loss: 0.1266 - accuracy: 0.9583 - val_loss: 0.0801 - val_accuracy: 0.9772\n",
            "Epoch 18/40\n",
            "9400/9400 [==============================] - 41s 4ms/step - loss: 0.1261 - accuracy: 0.9585 - val_loss: 0.0801 - val_accuracy: 0.9768\n",
            "Epoch 19/40\n",
            "9400/9400 [==============================] - 42s 4ms/step - loss: 0.1235 - accuracy: 0.9592 - val_loss: 0.0772 - val_accuracy: 0.9780\n",
            "Epoch 20/40\n",
            "9400/9400 [==============================] - 42s 4ms/step - loss: 0.1222 - accuracy: 0.9594 - val_loss: 0.0790 - val_accuracy: 0.9787\n",
            "Epoch 21/40\n",
            "9400/9400 [==============================] - 41s 4ms/step - loss: 0.1215 - accuracy: 0.9598 - val_loss: 0.0800 - val_accuracy: 0.9779\n",
            "Epoch 22/40\n",
            "9400/9400 [==============================] - 41s 4ms/step - loss: 0.1192 - accuracy: 0.9606 - val_loss: 0.0753 - val_accuracy: 0.9798\n",
            "Epoch 23/40\n",
            "9400/9400 [==============================] - 42s 4ms/step - loss: 0.1198 - accuracy: 0.9607 - val_loss: 0.0757 - val_accuracy: 0.9793\n",
            "Epoch 24/40\n",
            "9400/9400 [==============================] - 41s 4ms/step - loss: 0.1181 - accuracy: 0.9611 - val_loss: 0.0769 - val_accuracy: 0.9790\n",
            "Epoch 25/40\n",
            "9400/9400 [==============================] - 42s 4ms/step - loss: 0.1168 - accuracy: 0.9612 - val_loss: 0.0741 - val_accuracy: 0.9792\n",
            "Epoch 26/40\n",
            "9400/9400 [==============================] - 41s 4ms/step - loss: 0.1161 - accuracy: 0.9612 - val_loss: 0.0797 - val_accuracy: 0.9787\n",
            "Epoch 27/40\n",
            "9400/9400 [==============================] - 42s 4ms/step - loss: 0.1153 - accuracy: 0.9620 - val_loss: 0.0731 - val_accuracy: 0.9791\n",
            "Epoch 28/40\n",
            "9400/9400 [==============================] - 46s 5ms/step - loss: 0.1146 - accuracy: 0.9622 - val_loss: 0.0748 - val_accuracy: 0.9795\n",
            "Epoch 29/40\n",
            "9400/9400 [==============================] - 42s 4ms/step - loss: 0.1139 - accuracy: 0.9622 - val_loss: 0.0726 - val_accuracy: 0.9801\n",
            "Epoch 30/40\n",
            "9400/9400 [==============================] - 42s 4ms/step - loss: 0.1138 - accuracy: 0.9628 - val_loss: 0.0714 - val_accuracy: 0.9804\n",
            "Epoch 31/40\n",
            "9400/9400 [==============================] - 42s 4ms/step - loss: 0.1136 - accuracy: 0.9623 - val_loss: 0.0700 - val_accuracy: 0.9810\n",
            "Epoch 32/40\n",
            "9400/9400 [==============================] - 42s 4ms/step - loss: 0.1130 - accuracy: 0.9630 - val_loss: 0.0727 - val_accuracy: 0.9803\n",
            "Epoch 33/40\n",
            "9400/9400 [==============================] - 42s 4ms/step - loss: 0.1119 - accuracy: 0.9629 - val_loss: 0.0693 - val_accuracy: 0.9810\n",
            "Epoch 34/40\n",
            "9400/9400 [==============================] - 42s 4ms/step - loss: 0.1114 - accuracy: 0.9631 - val_loss: 0.0643 - val_accuracy: 0.9824\n",
            "Epoch 35/40\n",
            "9400/9400 [==============================] - 42s 4ms/step - loss: 0.1109 - accuracy: 0.9635 - val_loss: 0.0700 - val_accuracy: 0.9809\n",
            "Epoch 36/40\n",
            "9400/9400 [==============================] - 42s 4ms/step - loss: 0.1101 - accuracy: 0.9637 - val_loss: 0.0636 - val_accuracy: 0.9824\n",
            "Epoch 37/40\n",
            "9400/9400 [==============================] - 41s 4ms/step - loss: 0.1088 - accuracy: 0.9638 - val_loss: 0.0701 - val_accuracy: 0.9811\n",
            "Epoch 38/40\n",
            "9400/9400 [==============================] - 42s 4ms/step - loss: 0.1092 - accuracy: 0.9638 - val_loss: 0.0706 - val_accuracy: 0.9802\n",
            "Epoch 39/40\n",
            "9400/9400 [==============================] - 42s 4ms/step - loss: 0.1082 - accuracy: 0.9642 - val_loss: 0.0649 - val_accuracy: 0.9821\n",
            "Epoch 40/40\n",
            "9400/9400 [==============================] - 42s 4ms/step - loss: 0.1092 - accuracy: 0.9641 - val_loss: 0.0658 - val_accuracy: 0.9817\n",
            "CPU times: user 30min 43s, sys: 3min 15s, total: 33min 58s\n",
            "Wall time: 44min 33s\n"
          ]
        }
      ],
      "source": [
        "%%time\n",
        "\n",
        "\n",
        "hist = model.fit(\n",
        "  train_ds,\n",
        "  validation_data=val_ds,\n",
        "  epochs=40,\n",
        "  callbacks=[es]\n",
        ").history"
      ]
    },
    {
      "cell_type": "code",
      "source": [
        "model.save(\"/content/drive/MyDrive/modelDL2\")"
      ],
      "metadata": {
        "colab": {
          "base_uri": "https://localhost:8080/"
        },
        "id": "quMTwQpPM7ry",
        "outputId": "db1151b5-49ae-490c-9b98-93f8dc468c2b"
      },
      "id": "quMTwQpPM7ry",
      "execution_count": 40,
      "outputs": [
        {
          "output_type": "stream",
          "name": "stdout",
          "text": [
            "INFO:tensorflow:Assets written to: /content/drive/MyDrive/modelDL2/assets\n"
          ]
        }
      ]
    },
    {
      "cell_type": "code",
      "source": [
        "import keras\n",
        "model = keras.models.load_model(\"/content/drive/MyDrive/modelDL2\")"
      ],
      "metadata": {
        "id": "325efuEi5xbW"
      },
      "id": "325efuEi5xbW",
      "execution_count": 38,
      "outputs": []
    },
    {
      "cell_type": "code",
      "source": [
        "plt.figure()\n",
        "plt.ylabel(\"Loss (training and validation)\")\n",
        "plt.xlabel(\"Training Steps\")\n",
        "plt.ylim([0,2])\n",
        "plt.plot(hist[\"loss\"])\n",
        "plt.plot(hist[\"val_loss\"])\n",
        "\n",
        "plt.figure()\n",
        "plt.ylabel(\"Accuracy (training and validation)\")\n",
        "plt.xlabel(\"Training Steps\")\n",
        "plt.ylim([0,1])\n",
        "plt.plot(hist[\"accuracy\"])\n",
        "plt.plot(hist[\"val_accuracy\"])"
      ],
      "metadata": {
        "colab": {
          "base_uri": "https://localhost:8080/",
          "height": 506
        },
        "id": "q1G7ZuJ6E2Mn",
        "outputId": "e5a99f82-f6f8-43a0-858d-2c43a9249f45"
      },
      "id": "q1G7ZuJ6E2Mn",
      "execution_count": 34,
      "outputs": [
        {
          "output_type": "error",
          "ename": "NameError",
          "evalue": "ignored",
          "traceback": [
            "\u001b[0;31m---------------------------------------------------------------------------\u001b[0m",
            "\u001b[0;31mNameError\u001b[0m                                 Traceback (most recent call last)",
            "\u001b[0;32m<ipython-input-34-ff120fd86ebe>\u001b[0m in \u001b[0;36m<module>\u001b[0;34m()\u001b[0m\n\u001b[1;32m      3\u001b[0m \u001b[0mplt\u001b[0m\u001b[0;34m.\u001b[0m\u001b[0mxlabel\u001b[0m\u001b[0;34m(\u001b[0m\u001b[0;34m\"Training Steps\"\u001b[0m\u001b[0;34m)\u001b[0m\u001b[0;34m\u001b[0m\u001b[0;34m\u001b[0m\u001b[0m\n\u001b[1;32m      4\u001b[0m \u001b[0mplt\u001b[0m\u001b[0;34m.\u001b[0m\u001b[0mylim\u001b[0m\u001b[0;34m(\u001b[0m\u001b[0;34m[\u001b[0m\u001b[0;36m0\u001b[0m\u001b[0;34m,\u001b[0m\u001b[0;36m2\u001b[0m\u001b[0;34m]\u001b[0m\u001b[0;34m)\u001b[0m\u001b[0;34m\u001b[0m\u001b[0;34m\u001b[0m\u001b[0m\n\u001b[0;32m----> 5\u001b[0;31m \u001b[0mplt\u001b[0m\u001b[0;34m.\u001b[0m\u001b[0mplot\u001b[0m\u001b[0;34m(\u001b[0m\u001b[0mhist\u001b[0m\u001b[0;34m[\u001b[0m\u001b[0;34m\"loss\"\u001b[0m\u001b[0;34m]\u001b[0m\u001b[0;34m)\u001b[0m\u001b[0;34m\u001b[0m\u001b[0;34m\u001b[0m\u001b[0m\n\u001b[0m\u001b[1;32m      6\u001b[0m \u001b[0mplt\u001b[0m\u001b[0;34m.\u001b[0m\u001b[0mplot\u001b[0m\u001b[0;34m(\u001b[0m\u001b[0mhist\u001b[0m\u001b[0;34m[\u001b[0m\u001b[0;34m\"val_loss\"\u001b[0m\u001b[0;34m]\u001b[0m\u001b[0;34m)\u001b[0m\u001b[0;34m\u001b[0m\u001b[0;34m\u001b[0m\u001b[0m\n\u001b[1;32m      7\u001b[0m \u001b[0;34m\u001b[0m\u001b[0m\n",
            "\u001b[0;31mNameError\u001b[0m: name 'hist' is not defined"
          ]
        },
        {
          "output_type": "display_data",
          "data": {
            "text/plain": [
              "<Figure size 432x288 with 1 Axes>"
            ],
            "image/png": "[encoded data removed]"
          },
          "metadata": {
            "needs_background": "light"
          }
        }
      ]
    },
    {
      "cell_type": "code",
      "source": [
        "class"
      ],
      "metadata": {
        "id": "-6gUZhbzLoEg"
      },
      "id": "-6gUZhbzLoEg",
      "execution_count": null,
      "outputs": []
    },
    {
      "cell_type": "code",
      "execution_count": 26,
      "id": "46f7dc8d",
      "metadata": {
        "id": "46f7dc8d"
      },
      "outputs": [],
      "source": [
        "from get_test_data import test_data"
      ]
    },
    {
      "cell_type": "code",
      "execution_count": 42,
      "id": "8451eb6e",
      "metadata": {
        "id": "8451eb6e",
        "colab": {
          "base_uri": "https://localhost:8080/",
          "height": 285
        },
        "outputId": "f885e8b0-b75e-42af-8ca7-18caf56fe58c"
      },
      "outputs": [
        {
          "output_type": "execute_result",
          "data": {
            "text/plain": [
              "<matplotlib.image.AxesImage at 0x7f5a0fc9e250>"
            ]
          },
          "metadata": {},
          "execution_count": 42
        },
        {
          "output_type": "display_data",
          "data": {
            "text/plain": [
              "<Figure size 432x288 with 1 Axes>"
            ],
            "image/png": "[encoded data removed]"
          },
          "metadata": {
            "needs_background": "light"
          }
        }
      ],
      "source": [
        "import matplotlib.pyplot as plt\n",
        "lst=test_data(\"IMG_5023 copy 2.jpeg\")\n",
        "plt.imshow(lst[2])\n"
      ]
    },
    {
      "cell_type": "code",
      "source": [
        "from PIL import Image\n",
        "im = Image.fromarray(lst[0])\n",
        "im.save(\"/content/drive/MyDrive/three.jpeg\")"
      ],
      "metadata": {
        "id": "kssQlsr1vLR9"
      },
      "id": "kssQlsr1vLR9",
      "execution_count": null,
      "outputs": []
    },
    {
      "cell_type": "code",
      "execution_count": 43,
      "id": "6aa13da0",
      "metadata": {
        "id": "6aa13da0",
        "colab": {
          "base_uri": "https://localhost:8080/"
        },
        "outputId": "76bb1a53-f8a8-48ae-ba02-9b0f67ca271b"
      },
      "outputs": [
        {
          "output_type": "stream",
          "name": "stdout",
          "text": [
            "Predicted label: =\n"
          ]
        }
      ],
      "source": [
        "prediction_scores= model.predict(np.expand_dims(lst[2], axis=0))\n",
        "predicted_index = np.argmax(prediction_scores)\n",
        "print(\"Predicted label: \" + class_names[predicted_index])"
      ]
    },
    {
      "cell_type": "code",
      "source": [
        "print(len(class_names))"
      ],
      "metadata": {
        "colab": {
          "base_uri": "https://localhost:8080/"
        },
        "id": "eFHE8HUwDnQC",
        "outputId": "b6c93fd9-dd7e-4705-f97b-b30b96cf8e06"
      },
      "id": "eFHE8HUwDnQC",
      "execution_count": 60,
      "outputs": [
        {
          "output_type": "stream",
          "name": "stdout",
          "text": [
            "82\n"
          ]
        }
      ]
    },
    {
      "cell_type": "code",
      "source": [
        "for i in range(len(class_names)):\n",
        "  print(f'{i} {prediction_scores[0][i]} : {class_names[i]}')\n"
      ],
      "metadata": {
        "colab": {
          "base_uri": "https://localhost:8080/"
        },
        "id": "QVfUB6TDCoXR",
        "outputId": "90c9b794-b72d-4dc2-bf50-9503c0d51833"
      },
      "id": "QVfUB6TDCoXR",
      "execution_count": 28,
      "outputs": [
        {
          "output_type": "stream",
          "name": "stdout",
          "text": [
            "0 -11.43178939819336 : !\n",
            "1 -18.55394744873047 : (\n",
            "2 -22.035585403442383 : )\n",
            "3 -8.716032028198242 : +\n",
            "4 -24.342073440551758 : ,\n",
            "5 -14.08948802947998 : -\n",
            "6 -14.945181846618652 : 0\n",
            "7 -15.262343406677246 : 1\n",
            "8 -14.331865310668945 : 2\n",
            "9 -20.248836517333984 : 3\n",
            "10 -25.290851593017578 : 4\n",
            "11 -16.91898536682129 : 5\n",
            "12 -23.58489418029785 : 6\n",
            "13 -22.341405868530273 : 7\n",
            "14 -54.33998489379883 : 8\n",
            "15 -30.47015953063965 : 9\n",
            "16 -14.468137741088867 : =\n",
            "17 -20.65869140625 : A\n",
            "18 -22.003313064575195 : C\n",
            "19 -31.208581924438477 : Delta\n",
            "20 -23.397531509399414 : G\n",
            "21 -31.192262649536133 : H\n",
            "22 -38.87498474121094 : M\n",
            "23 -29.469255447387695 : N\n",
            "24 -37.34000015258789 : R\n",
            "25 -19.51143455505371 : S\n",
            "26 -18.420501708984375 : T\n",
            "27 -26.180463790893555 : X\n",
            "28 -48.671607971191406 : [\n",
            "29 -40.387611389160156 : ]\n",
            "30 -37.78852081298828 : alpha\n",
            "31 -51.69279479980469 : ascii_124\n",
            "32 -25.96767234802246 : b\n",
            "33 -30.651691436767578 : beta\n",
            "34 -29.181123733520508 : cos\n",
            "35 -27.818471908569336 : d\n",
            "36 -16.211671829223633 : div\n",
            "37 -32.539737701416016 : e\n",
            "38 -23.594179153442383 : exists\n",
            "39 -16.921306610107422 : f\n",
            "40 -41.22522735595703 : forall\n",
            "41 -64.05703735351562 : forward_slash\n",
            "42 -61.95835876464844 : gamma\n",
            "43 -34.43058395385742 : geq\n",
            "44 -38.78384017944336 : gt\n",
            "45 -15.502280235290527 : i\n",
            "46 -40.95813751220703 : in\n",
            "47 -38.088069915771484 : infty\n",
            "48 -47.03657531738281 : int\n",
            "49 -15.885430335998535 : j\n",
            "50 -42.07442855834961 : k\n",
            "51 -15.974419593811035 : l\n",
            "52 -68.09918975830078 : lambda\n",
            "53 -5.111187934875488 : ldots\n",
            "54 -31.99166488647461 : leq\n",
            "55 -33.7613639831543 : lim\n",
            "56 -31.56294059753418 : log\n",
            "57 -42.87788009643555 : lt\n",
            "58 -21.775936126708984 : mu\n",
            "59 -12.389163970947266 : neq\n",
            "60 -37.65028762817383 : o\n",
            "61 -31.344390869140625 : p\n",
            "62 -58.19120788574219 : phi\n",
            "63 -49.42424774169922 : pi\n",
            "64 -26.47578239440918 : pm\n",
            "65 -30.252634048461914 : prime\n",
            "66 -43.48187255859375 : q\n",
            "67 -13.669012069702148 : rightarrow\n",
            "68 -58.86862564086914 : sigma\n",
            "69 -36.790794372558594 : sin\n",
            "70 -26.769271850585938 : sqrt\n",
            "71 -57.324275970458984 : sum\n",
            "72 -49.687156677246094 : tan\n",
            "73 -29.646183013916016 : theta\n",
            "74 -50.726924896240234 : times\n",
            "75 -19.643110275268555 : u\n",
            "76 -37.832130432128906 : v\n",
            "77 -40.339881896972656 : w\n",
            "78 -22.648244857788086 : y\n",
            "79 -28.663028717041016 : z\n",
            "80 -55.417232513427734 : {\n",
            "81 -37.16057586669922 : }\n"
          ]
        }
      ]
    },
    {
      "cell_type": "code",
      "source": [
        "import joblib\n",
        "joblib.dump(model, 'model.joblib')\n"
      ],
      "metadata": {
        "colab": {
          "base_uri": "https://localhost:8080/"
        },
        "id": "4w89ZMp1_ugv",
        "outputId": "0c377a2b-3a66-4b95-9282-5867cfdf27c8"
      },
      "id": "4w89ZMp1_ugv",
      "execution_count": 36,
      "outputs": [
        {
          "output_type": "stream",
          "name": "stdout",
          "text": [
            "INFO:tensorflow:Assets written to: ram://33ec8f03-c89f-4523-bc5e-b69395e6bd54/assets\n"
          ]
        },
        {
          "output_type": "execute_result",
          "data": {
            "text/plain": [
              "['model.joblib']"
            ]
          },
          "metadata": {},
          "execution_count": 36
        }
      ]
    },
    {
      "cell_type": "code",
      "execution_count": null,
      "id": "5445bcfe",
      "metadata": {
        "id": "5445bcfe",
        "outputId": "51682d6f-f5f0-41ec-c646-1d14b1da711d"
      },
      "outputs": [
        {
          "name": "stdout",
          "output_type": "stream",
          "text": [
            "Collecting opencv-python\n",
            "  Using cached opencv_python-4.5.5.64-cp36-abi3-macosx_10_15_x86_64.whl (46.3 MB)\n",
            "Requirement already satisfied: numpy>=1.14.5 in /Users/antoinemoreno/.pyenv/versions/3.8.13/envs/lewagon/lib/python3.8/site-packages (from opencv-python) (1.22.4)\n",
            "Installing collected packages: opencv-python\n",
            "Successfully installed opencv-python-4.5.5.64\n"
          ]
        }
      ],
      "source": [
        "!pip install opencv-python"
      ]
    },
    {
      "cell_type": "code",
      "execution_count": null,
      "id": "b976ed43",
      "metadata": {
        "id": "b976ed43",
        "outputId": "c1702783-b666-4497-f548-616d32757bf9"
      },
      "outputs": [
        {
          "name": "stdout",
          "output_type": "stream",
          "text": [
            "The autoreload extension is already loaded. To reload it, use:\n",
            "  %reload_ext autoreload\n"
          ]
        }
      ],
      "source": [
        "%load_ext autoreload\n",
        "%autoreload 2\n",
        "from get_test_data import test_data\n",
        "import cv2"
      ]
    },
    {
      "cell_type": "code",
      "execution_count": null,
      "id": "64fd2f84",
      "metadata": {
        "id": "64fd2f84"
      },
      "outputs": [],
      "source": [
        ""
      ]
    },
    {
      "cell_type": "code",
      "execution_count": null,
      "id": "ddab3121",
      "metadata": {
        "id": "ddab3121"
      },
      "outputs": [],
      "source": [
        "num=test_data(\"IMG_5023 copy 2.jpeg\")[1]"
      ]
    },
    {
      "cell_type": "code",
      "execution_count": null,
      "id": "cfc6bd94",
      "metadata": {
        "id": "cfc6bd94",
        "outputId": "e66a9a3a-5785-4fc9-a109-5b3382bc5ad1"
      },
      "outputs": [
        {
          "data": {
            "text/plain": [
              "TensorShape([45, 45, 3])"
            ]
          },
          "execution_count": 141,
          "metadata": {},
          "output_type": "execute_result"
        }
      ],
      "source": [
        "num2 = tf.image.rgb_to_grayscale(num)\n",
        "num2= tf.image.grayscale_to_rgb(num2)\n",
        "num2.shape"
      ]
    },
    {
      "cell_type": "code",
      "execution_count": null,
      "id": "c4248579",
      "metadata": {
        "id": "c4248579",
        "outputId": "2ff5fdd5-0bb2-4a41-da8f-4a159560738c"
      },
      "outputs": [
        {
          "name": "stdout",
          "output_type": "stream",
          "text": [
            "1/1 [==============================] - 0s 27ms/step\n",
            "Predicted label: +\n"
          ]
        }
      ],
      "source": [
        "prediction_scores= model.predict(np.expand_dims(num2, axis=0))\n",
        "predicted_index = np.argmax(prediction_scores)\n",
        "print(\"Predicted label: \" + class_names[predicted_index])"
      ]
    },
    {
      "cell_type": "code",
      "execution_count": null,
      "id": "XpOK3Akgx9Rz",
      "metadata": {
        "id": "XpOK3Akgx9Rz"
      },
      "outputs": [],
      "source": [
        "# https://www.tensorflow.org/tutorials/load_data/images"
      ]
    },
    {
      "cell_type": "code",
      "execution_count": null,
      "id": "d7d13cdb",
      "metadata": {
        "id": "d7d13cdb"
      },
      "outputs": [],
      "source": [
        ""
      ]
    }
  ],
  "metadata": {
    "accelerator": "GPU",
    "colab": {
      "collapsed_sections": [],
      "name": "AntoineMoreno_test_v3.ipynb",
      "provenance": []
    },
    "kernelspec": {
      "display_name": "Python 3 (ipykernel)",
      "language": "python",
      "name": "python3"
    },
    "language_info": {
      "codemirror_mode": {
        "name": "ipython",
        "version": 3
      },
      "file_extension": ".py",
      "mimetype": "text/x-python",
      "name": "python",
      "nbconvert_exporter": "python",
      "pygments_lexer": "ipython3",
      "version": "3.8.13"
    },
    "toc": {
      "base_numbering": 1,
      "nav_menu": {},
      "number_sections": true,
      "sideBar": true,
      "skip_h1_title": false,
      "title_cell": "Table of Contents",
      "title_sidebar": "Contents",
      "toc_cell": false,
      "toc_position": {},
      "toc_section_display": true,
      "toc_window_display": false
    }
  },
  "nbformat": 4,
  "nbformat_minor": 5
}