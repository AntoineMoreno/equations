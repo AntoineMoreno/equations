{
 "cells": [
  {
   "cell_type": "code",
   "execution_count": 1,
   "id": "f66f40e4",
   "metadata": {},
   "outputs": [],
   "source": [
    "#!pip install unrar"
   ]
  },
  {
   "cell_type": "code",
   "execution_count": 22,
   "id": "a93pnhV4fUxq",
   "metadata": {
    "colab": {
     "base_uri": "https://localhost:8080/"
    },
    "id": "a93pnhV4fUxq",
    "outputId": "8ffa7156-e515-460e-c62a-f0b841a2032e"
   },
   "outputs": [],
   "source": [
    "#!unrar x data.rar"
   ]
  },
  {
   "cell_type": "code",
   "execution_count": 37,
   "id": "b70c1cdd",
   "metadata": {
    "id": "b70c1cdd"
   },
   "outputs": [],
   "source": [
    "import pandas as pd\n",
    "import os "
   ]
  },
  {
   "cell_type": "code",
   "execution_count": 60,
   "id": "98045999",
   "metadata": {},
   "outputs": [],
   "source": [
    "import numpy as np\n",
    "import os\n",
    "import PIL\n",
    "import PIL.Image\n",
    "import tensorflow as tf\n",
    "import tensorflow_datasets as tfds"
   ]
  },
  {
   "cell_type": "code",
   "execution_count": 61,
   "id": "52ad2f65",
   "metadata": {
    "colab": {
     "base_uri": "https://localhost:8080/",
     "height": 284
    },
    "id": "0e62f7a7",
    "outputId": "fd2ded87-931e-4258-90b0-6f324d333a01"
   },
   "outputs": [],
   "source": [
    "from matplotlib import image\n",
    "import matplotlib.pyplot as plt"
   ]
  },
  {
   "cell_type": "code",
   "execution_count": 62,
   "id": "0f43a477",
   "metadata": {},
   "outputs": [],
   "source": [
    "path_to_folders = \"../raw_data/data\"    "
   ]
  },
  {
   "cell_type": "code",
   "execution_count": 63,
   "id": "0e62f7a7",
   "metadata": {
    "colab": {
     "base_uri": "https://localhost:8080/",
     "height": 284
    },
    "id": "0e62f7a7",
    "outputId": "fd2ded87-931e-4258-90b0-6f324d333a01"
   },
   "outputs": [
    {
     "data": {
      "text/plain": [
       "<matplotlib.image.AxesImage at 0x134aee910>"
      ]
     },
     "execution_count": 63,
     "metadata": {},
     "output_type": "execute_result"
    },
    {
     "data": {
      "image/png": "[encoded data removed]",
      "text/plain": [
       "<Figure size 432x288 with 1 Axes>"
      ]
     },
     "metadata": {
      "needs_background": "light"
     },
     "output_type": "display_data"
    }
   ],
   "source": [
    "image1 = image.imread(f'{path_to_folders}/-/-_66.jpg') \n",
    "plt.imshow(image1, cmap='gray')"
   ]
  },
  {
   "cell_type": "code",
   "execution_count": 82,
   "id": "a991b7d6",
   "metadata": {
    "colab": {
     "base_uri": "https://localhost:8080/"
    },
    "id": "a991b7d6",
    "outputId": "eef87db1-6c6e-464f-aa63-fd9b24d65dc6"
   },
   "outputs": [
    {
     "data": {
      "text/plain": [
       "82"
      ]
     },
     "execution_count": 82,
     "metadata": {},
     "output_type": "execute_result"
    }
   ],
   "source": [
    "#path_to_folders = \"extracted_images/\"    \n",
    "list_of_folders = os.listdir(path_to_folders)\n",
    "# list_of_folders.remove('.DS_Store')\n",
    "len(list_of_folders)"
   ]
  },
  {
   "cell_type": "code",
   "execution_count": 43,
   "id": "43d553b8",
   "metadata": {
    "id": "43d553b8"
   },
   "outputs": [],
   "source": [
    "array = np.array(vectorized_images)"
   ]
  },
  {
   "cell_type": "code",
   "execution_count": 69,
   "id": "4cb92d93",
   "metadata": {
    "collapsed": true
   },
   "outputs": [
    {
     "data": {
      "text/plain": [
       "['beta',\n",
       " 'pm',\n",
       " 'Delta',\n",
       " 'gamma',\n",
       " 'infty',\n",
       " 'rightarrow',\n",
       " '.DS_Store',\n",
       " 'div',\n",
       " 'gt',\n",
       " 'forward_slash',\n",
       " 'leq',\n",
       " 'mu',\n",
       " 'exists',\n",
       " 'in',\n",
       " 'times',\n",
       " 'sin',\n",
       " 'R',\n",
       " 'u',\n",
       " '9',\n",
       " '0',\n",
       " '{',\n",
       " '7',\n",
       " 'i',\n",
       " 'N',\n",
       " 'G',\n",
       " '+',\n",
       " ',',\n",
       " '6',\n",
       " 'z',\n",
       " '}',\n",
       " '1',\n",
       " '8',\n",
       " 'T',\n",
       " 'S',\n",
       " 'cos',\n",
       " 'A',\n",
       " '-',\n",
       " 'f',\n",
       " 'o',\n",
       " 'H',\n",
       " 'sigma',\n",
       " 'sqrt',\n",
       " 'pi',\n",
       " 'int',\n",
       " 'sum',\n",
       " 'lim',\n",
       " 'lambda',\n",
       " 'neq',\n",
       " 'log',\n",
       " 'ldots',\n",
       " 'forall',\n",
       " 'lt',\n",
       " 'theta',\n",
       " 'ascii_124',\n",
       " 'M',\n",
       " '!',\n",
       " 'alpha',\n",
       " 'j',\n",
       " 'C',\n",
       " ']',\n",
       " '(',\n",
       " 'd',\n",
       " 'v',\n",
       " 'prime',\n",
       " 'q',\n",
       " '=',\n",
       " '4',\n",
       " 'X',\n",
       " 'phi',\n",
       " '3',\n",
       " 'tan',\n",
       " 'e',\n",
       " ')',\n",
       " '[',\n",
       " 'b',\n",
       " 'k',\n",
       " 'l',\n",
       " 'geq',\n",
       " '2',\n",
       " 'y',\n",
       " '5',\n",
       " 'p',\n",
       " 'w']"
      ]
     },
     "execution_count": 69,
     "metadata": {},
     "output_type": "execute_result"
    }
   ],
   "source": [
    "list_of_folders_folders"
   ]
  },
  {
   "cell_type": "code",
   "execution_count": 44,
   "id": "e054ba89",
   "metadata": {
    "colab": {
     "base_uri": "https://localhost:8080/"
    },
    "id": "e054ba89",
    "outputId": "a143ef16-78d8-411a-b9fa-6b073ca02a09"
   },
   "outputs": [
    {
     "name": "stdout",
     "output_type": "stream",
     "text": [
      "0 0\n"
     ]
    }
   ],
   "source": [
    "print(len(array), len(what_folder))"
   ]
  },
  {
   "cell_type": "code",
   "execution_count": 45,
   "id": "15551dfa",
   "metadata": {
    "colab": {
     "base_uri": "https://localhost:8080/"
    },
    "collapsed": true,
    "id": "15551dfa",
    "outputId": "9ab7dbfb-9d65-44ca-ae8d-146247ef4ae0"
   },
   "outputs": [
    {
     "data": {
      "text/plain": [
       "(0,)"
      ]
     },
     "execution_count": 45,
     "metadata": {},
     "output_type": "execute_result"
    }
   ],
   "source": [
    "array.shape"
   ]
  },
  {
   "cell_type": "code",
   "execution_count": 46,
   "id": "vXm2-o-QrGXz",
   "metadata": {
    "id": "vXm2-o-QrGXz"
   },
   "outputs": [],
   "source": [
    "import pathlib\n",
    "data_dir = pathlib.Path(path_to_folders)"
   ]
  },
  {
   "cell_type": "code",
   "execution_count": 47,
   "id": "Ys7vbtSPrEIy",
   "metadata": {
    "colab": {
     "base_uri": "https://localhost:8080/"
    },
    "id": "Ys7vbtSPrEIy",
    "outputId": "1e042e79-7866-4c68-a7b1-f0f4512e8148"
   },
   "outputs": [
    {
     "name": "stdout",
     "output_type": "stream",
     "text": [
      "375974\n"
     ]
    }
   ],
   "source": [
    "image_count = len(list(data_dir.glob('*/*.jpg')))\n",
    "print(image_count)"
   ]
  },
  {
   "cell_type": "code",
   "execution_count": 48,
   "id": "pf8CusxCrdtN",
   "metadata": {
    "colab": {
     "base_uri": "https://localhost:8080/",
     "height": 62
    },
    "id": "pf8CusxCrdtN",
    "outputId": "10eb8612-8889-4231-e4fb-fe8cc063a3bd"
   },
   "outputs": [
    {
     "data": {
      "image/png": "[encoded data removed]",
      "text/plain": [
       "<PIL.JpegImagePlugin.JpegImageFile image mode=L size=45x45 at 0x132C9D310>"
      ]
     },
     "execution_count": 48,
     "metadata": {},
     "output_type": "execute_result"
    }
   ],
   "source": [
    "import PIL\n",
    "import PIL.Image\n",
    "\n",
    "equal_sign = list(data_dir.glob('=/*'))\n",
    "PIL.Image.open(str(equal_sign[10]))"
   ]
  },
  {
   "cell_type": "code",
   "execution_count": 49,
   "id": "hqEuo3qysLuv",
   "metadata": {
    "id": "hqEuo3qysLuv"
   },
   "outputs": [],
   "source": [
    "batch_size = 32\n",
    "img_height = 45\n",
    "img_width = 45"
   ]
  },
  {
   "cell_type": "code",
   "execution_count": 50,
   "id": "s3106yEVsNvZ",
   "metadata": {
    "colab": {
     "base_uri": "https://localhost:8080/"
    },
    "id": "s3106yEVsNvZ",
    "outputId": "3b0fbe2e-6b36-4e4c-9819-0f6fd3f7c54f"
   },
   "outputs": [
    {
     "name": "stdout",
     "output_type": "stream",
     "text": [
      "Found 375974 files belonging to 82 classes.\n",
      "Using 300780 files for training.\n"
     ]
    }
   ],
   "source": [
    "train_ds = tf.keras.utils.image_dataset_from_directory(\n",
    "  data_dir,\n",
    "  validation_split=0.2,\n",
    "  subset=\"training\",\n",
    "  seed=123,\n",
    "  image_size=(img_height, img_width),\n",
    "  batch_size=batch_size)"
   ]
  },
  {
   "cell_type": "code",
   "execution_count": 81,
   "id": "e643f06c",
   "metadata": {},
   "outputs": [
    {
     "data": {
      "text/plain": [
       "<BatchDataset element_spec=(TensorSpec(shape=(None, 45, 45, 3), dtype=tf.float32, name=None), TensorSpec(shape=(None,), dtype=tf.int32, name=None))>"
      ]
     },
     "execution_count": 81,
     "metadata": {},
     "output_type": "execute_result"
    }
   ],
   "source": [
    "train_ds"
   ]
  },
  {
   "cell_type": "code",
   "execution_count": 52,
   "id": "GVlm6IoNsaYk",
   "metadata": {
    "colab": {
     "base_uri": "https://localhost:8080/"
    },
    "id": "GVlm6IoNsaYk",
    "outputId": "58c8324b-89b1-41cb-d509-87232c6da5cc"
   },
   "outputs": [
    {
     "name": "stdout",
     "output_type": "stream",
     "text": [
      "Found 375974 files belonging to 82 classes.\n",
      "Using 75194 files for validation.\n"
     ]
    }
   ],
   "source": [
    "val_ds = tf.keras.utils.image_dataset_from_directory(\n",
    "  data_dir,\n",
    "  validation_split=0.2,\n",
    "  subset=\"validation\",\n",
    "  seed=123,\n",
    "  image_size=(img_height, img_width),\n",
    "  batch_size=batch_size)"
   ]
  },
  {
   "cell_type": "code",
   "execution_count": 53,
   "id": "da070581",
   "metadata": {
    "id": "da070581"
   },
   "outputs": [],
   "source": [
    "# la suite ici ;-) https://www.tensorflow.org/tutorials/load_data/images"
   ]
  },
  {
   "cell_type": "code",
   "execution_count": null,
   "id": "f94f7162",
   "metadata": {
    "id": "f94f7162"
   },
   "outputs": [],
   "source": [
    "#dct={'Delta' : '\\Delta', 'alpha' : '\\alpha', 'ascii_124' : '|', 'beta':'\\beta', 'cos':'\\cos', \\\n",
    "#     'exists':'\\exists','forall':'\\forall', 'forward_slash':'/', 'gamma':'\\gamma', 'geq' :'\\geq',\\\n",
    "#     'gt':'>', 'in':'\\in','infty':'\\infty','lambda':'\\lambda', 'ldots':'\\lodts', 'leq':'\\leq',\\\n",
    "#     'lim' : '\\lim', 'log':'\\log','It':'<','mu':'\\mu', 'neq':'\\neq', 'phi':'\\phi','pi':'\\pi',\\\n",
    "#     'pm':'\\pm','rightarrow':'\\rightarrow', 'sigma': '\\sigma','sin':'\\sin', 'sqrt':'\\sqrt',\\\n",
    "#     'sum': '\\sum', 'tan':'\\tan', 'theta':'\\theta', 'times': '\\cdot'} #attention div et int et lim et prime et sum"
   ]
  },
  {
   "cell_type": "code",
   "execution_count": null,
   "id": "53b67386",
   "metadata": {
    "id": "53b67386",
    "outputId": "76345685-c648-4aa4-e47d-79f8119fb681"
   },
   "outputs": [],
   "source": [
    "#set(df['target'].replace(dct))"
   ]
  },
  {
   "cell_type": "code",
   "execution_count": null,
   "id": "cffc480c",
   "metadata": {
    "id": "cffc480c"
   },
   "outputs": [],
   "source": [
    "import tensorflow as tf\n",
    "\n",
    "from tensorflow.keras import layers\n",
    "from tensorflow.keras import models"
   ]
  },
  {
   "cell_type": "code",
   "execution_count": 127,
   "id": "e064482d",
   "metadata": {},
   "outputs": [],
   "source": [
    "num_classes = 82 # (on avait 83 dossiers dans l'une des premieres cellules)\n",
    "\n",
    "model = tf.keras.Sequential([\n",
    "  tf.keras.layers.Rescaling(1./255),\n",
    "  tf.keras.layers.Conv2D(32, 3, activation='relu', input_shape=(45,45,1)),\n",
    "  tf.keras.layers.MaxPooling2D(),\n",
    "  tf.keras.layers.Conv2D(32, 3, activation='relu'),\n",
    "  tf.keras.layers.MaxPooling2D(),\n",
    "  tf.keras.layers.Conv2D(32, 3, activation='relu'),\n",
    "  tf.keras.layers.MaxPooling2D(),\n",
    "  tf.keras.layers.Flatten(),\n",
    "  tf.keras.layers.Dense(128, activation='relu'),\n",
    "  tf.keras.layers.Dense(1, activation='softmax')\n",
    "])"
   ]
  },
  {
   "cell_type": "code",
   "execution_count": 128,
   "id": "cbcec3c7",
   "metadata": {
    "id": "cbcec3c7",
    "outputId": "8870aea4-aa2c-45dd-f542-46cf4571c2ff"
   },
   "outputs": [],
   "source": [
    "model.compile(\n",
    "  optimizer='adam',\n",
    "  loss='categorical_crossentropy',\n",
    "  metrics=['accuracy'])"
   ]
  },
  {
   "cell_type": "code",
   "execution_count": null,
   "id": "6e5b1add",
   "metadata": {
    "id": "6e5b1add",
    "outputId": "40d1b33a-6c53-4592-f475-1a0da77a1ef9"
   },
   "outputs": [
    {
     "name": "stdout",
     "output_type": "stream",
     "text": [
      "Epoch 1/3\n",
      "9400/9400 [==============================] - 484s 51ms/step - loss: 0.0000e+00 - accuracy: 0.0384 - val_loss: 0.0000e+00 - val_accuracy: 0.0363\n",
      "Epoch 2/3\n",
      "9400/9400 [==============================] - 474s 50ms/step - loss: 0.0000e+00 - accuracy: 0.0384 - val_loss: 0.0000e+00 - val_accuracy: 0.0363\n",
      "Epoch 3/3\n",
      "4718/9400 [==============>...............] - ETA: 4:49 - loss: 0.0000e+00 - accuracy: 0.0384"
     ]
    }
   ],
   "source": [
    "model.fit(\n",
    "  train_ds,\n",
    "  validation_data=val_ds,\n",
    "  epochs=3\n",
    ")"
   ]
  },
  {
   "cell_type": "code",
   "execution_count": 90,
   "id": "094c9978",
   "metadata": {},
   "outputs": [
    {
     "name": "stdout",
     "output_type": "stream",
     "text": [
      "2350/2350 [==============================] - 31s 13ms/step - loss: 0.2613 - accuracy: 0.9198\n"
     ]
    },
    {
     "data": {
      "text/plain": [
       "[0.26130610704421997, 0.9197941422462463]"
      ]
     },
     "execution_count": 90,
     "metadata": {},
     "output_type": "execute_result"
    }
   ],
   "source": [
    "model.evaluate(val_ds)"
   ]
  },
  {
   "cell_type": "code",
   "execution_count": 85,
   "id": "e885a43d",
   "metadata": {
    "id": "2fc156bc"
   },
   "outputs": [
    {
     "data": {
      "image/png": "[encoded data removed]",
      "text/plain": [
       "<PIL.Image.Image image mode=RGB size=45x45 at 0x1393E04C0>"
      ]
     },
     "execution_count": 85,
     "metadata": {},
     "output_type": "execute_result"
    }
   ],
   "source": [
    "img = tf.keras.utils.load_img(\n",
    "    \"/Users/antoinemoreno/code/AntoineMoreno/equations/raw_data/data/alpha/exp8716.jpg\", target_size=(img_height, img_width)\n",
    ")\n",
    "img"
   ]
  },
  {
   "cell_type": "code",
   "execution_count": 110,
   "id": "2fc156bc",
   "metadata": {
    "id": "2fc156bc"
   },
   "outputs": [
    {
     "name": "stderr",
     "output_type": "stream",
     "text": [
      "2022-06-01 15:12:40.758705: W tensorflow/core/framework/op_kernel.cc:1745] OP_REQUIRES failed at conv_ops_fused_impl.h:680 : INVALID_ARGUMENT: input depth must be evenly divisible by filter depth: 1 vs 3\n"
     ]
    },
    {
     "ename": "InvalidArgumentError",
     "evalue": "Graph execution error:\n\nDetected at node 'sequential_3/conv2d_9/Relu' defined at (most recent call last):\n    File \"/Users/antoinemoreno/.pyenv/versions/3.8.13/lib/python3.8/runpy.py\", line 194, in _run_module_as_main\n      return _run_code(code, main_globals, None,\n    File \"/Users/antoinemoreno/.pyenv/versions/3.8.13/lib/python3.8/runpy.py\", line 87, in _run_code\n      exec(code, run_globals)\n    File \"/Users/antoinemoreno/.pyenv/versions/3.8.13/envs/lewagon/lib/python3.8/site-packages/ipykernel_launcher.py\", line 16, in <module>\n      app.launch_new_instance()\n    File \"/Users/antoinemoreno/.pyenv/versions/3.8.13/envs/lewagon/lib/python3.8/site-packages/traitlets/config/application.py\", line 846, in launch_instance\n      app.start()\n    File \"/Users/antoinemoreno/.pyenv/versions/3.8.13/envs/lewagon/lib/python3.8/site-packages/ipykernel/kernelapp.py\", line 677, in start\n      self.io_loop.start()\n    File \"/Users/antoinemoreno/.pyenv/versions/3.8.13/envs/lewagon/lib/python3.8/site-packages/tornado/platform/asyncio.py\", line 199, in start\n      self.asyncio_loop.run_forever()\n    File \"/Users/antoinemoreno/.pyenv/versions/3.8.13/lib/python3.8/asyncio/base_events.py\", line 570, in run_forever\n      self._run_once()\n    File \"/Users/antoinemoreno/.pyenv/versions/3.8.13/lib/python3.8/asyncio/base_events.py\", line 1859, in _run_once\n      handle._run()\n    File \"/Users/antoinemoreno/.pyenv/versions/3.8.13/lib/python3.8/asyncio/events.py\", line 81, in _run\n      self._context.run(self._callback, *self._args)\n    File \"/Users/antoinemoreno/.pyenv/versions/3.8.13/envs/lewagon/lib/python3.8/site-packages/ipykernel/kernelbase.py\", line 457, in dispatch_queue\n      await self.process_one()\n    File \"/Users/antoinemoreno/.pyenv/versions/3.8.13/envs/lewagon/lib/python3.8/site-packages/ipykernel/kernelbase.py\", line 446, in process_one\n      await dispatch(*args)\n    File \"/Users/antoinemoreno/.pyenv/versions/3.8.13/envs/lewagon/lib/python3.8/site-packages/ipykernel/kernelbase.py\", line 353, in dispatch_shell\n      await result\n    File \"/Users/antoinemoreno/.pyenv/versions/3.8.13/envs/lewagon/lib/python3.8/site-packages/ipykernel/kernelbase.py\", line 648, in execute_request\n      reply_content = await reply_content\n    File \"/Users/antoinemoreno/.pyenv/versions/3.8.13/envs/lewagon/lib/python3.8/site-packages/ipykernel/ipkernel.py\", line 353, in do_execute\n      res = shell.run_cell(code, store_history=store_history, silent=silent)\n    File \"/Users/antoinemoreno/.pyenv/versions/3.8.13/envs/lewagon/lib/python3.8/site-packages/ipykernel/zmqshell.py\", line 532, in run_cell\n      return super().run_cell(*args, **kwargs)\n    File \"/Users/antoinemoreno/.pyenv/versions/3.8.13/envs/lewagon/lib/python3.8/site-packages/IPython/core/interactiveshell.py\", line 2914, in run_cell\n      result = self._run_cell(\n    File \"/Users/antoinemoreno/.pyenv/versions/3.8.13/envs/lewagon/lib/python3.8/site-packages/IPython/core/interactiveshell.py\", line 2960, in _run_cell\n      return runner(coro)\n    File \"/Users/antoinemoreno/.pyenv/versions/3.8.13/envs/lewagon/lib/python3.8/site-packages/IPython/core/async_helpers.py\", line 78, in _pseudo_sync_runner\n      coro.send(None)\n    File \"/Users/antoinemoreno/.pyenv/versions/3.8.13/envs/lewagon/lib/python3.8/site-packages/IPython/core/interactiveshell.py\", line 3185, in run_cell_async\n      has_raised = await self.run_ast_nodes(code_ast.body, cell_name,\n    File \"/Users/antoinemoreno/.pyenv/versions/3.8.13/envs/lewagon/lib/python3.8/site-packages/IPython/core/interactiveshell.py\", line 3377, in run_ast_nodes\n      if (await self.run_code(code, result,  async_=asy)):\n    File \"/Users/antoinemoreno/.pyenv/versions/3.8.13/envs/lewagon/lib/python3.8/site-packages/IPython/core/interactiveshell.py\", line 3457, in run_code\n      exec(code_obj, self.user_global_ns, self.user_ns)\n    File \"/var/folders/7z/lyzbs3rs7cqfcd1z043vxh9h0000gn/T/ipykernel_29191/3013393343.py\", line 7, in <module>\n      predictions = model.predict(img_array)\n    File \"/Users/antoinemoreno/.pyenv/versions/3.8.13/envs/lewagon/lib/python3.8/site-packages/keras/utils/traceback_utils.py\", line 64, in error_handler\n      return fn(*args, **kwargs)\n    File \"/Users/antoinemoreno/.pyenv/versions/3.8.13/envs/lewagon/lib/python3.8/site-packages/keras/engine/training.py\", line 2033, in predict\n      tmp_batch_outputs = self.predict_function(iterator)\n    File \"/Users/antoinemoreno/.pyenv/versions/3.8.13/envs/lewagon/lib/python3.8/site-packages/keras/engine/training.py\", line 1845, in predict_function\n      return step_function(self, iterator)\n    File \"/Users/antoinemoreno/.pyenv/versions/3.8.13/envs/lewagon/lib/python3.8/site-packages/keras/engine/training.py\", line 1834, in step_function\n      outputs = model.distribute_strategy.run(run_step, args=(data,))\n    File \"/Users/antoinemoreno/.pyenv/versions/3.8.13/envs/lewagon/lib/python3.8/site-packages/keras/engine/training.py\", line 1823, in run_step\n      outputs = model.predict_step(data)\n    File \"/Users/antoinemoreno/.pyenv/versions/3.8.13/envs/lewagon/lib/python3.8/site-packages/keras/engine/training.py\", line 1791, in predict_step\n      return self(x, training=False)\n    File \"/Users/antoinemoreno/.pyenv/versions/3.8.13/envs/lewagon/lib/python3.8/site-packages/keras/utils/traceback_utils.py\", line 64, in error_handler\n      return fn(*args, **kwargs)\n    File \"/Users/antoinemoreno/.pyenv/versions/3.8.13/envs/lewagon/lib/python3.8/site-packages/keras/engine/training.py\", line 490, in __call__\n      return super().__call__(*args, **kwargs)\n    File \"/Users/antoinemoreno/.pyenv/versions/3.8.13/envs/lewagon/lib/python3.8/site-packages/keras/utils/traceback_utils.py\", line 64, in error_handler\n      return fn(*args, **kwargs)\n    File \"/Users/antoinemoreno/.pyenv/versions/3.8.13/envs/lewagon/lib/python3.8/site-packages/keras/engine/base_layer.py\", line 1014, in __call__\n      outputs = call_fn(inputs, *args, **kwargs)\n    File \"/Users/antoinemoreno/.pyenv/versions/3.8.13/envs/lewagon/lib/python3.8/site-packages/keras/utils/traceback_utils.py\", line 92, in error_handler\n      return fn(*args, **kwargs)\n    File \"/Users/antoinemoreno/.pyenv/versions/3.8.13/envs/lewagon/lib/python3.8/site-packages/keras/engine/sequential.py\", line 374, in call\n      return super(Sequential, self).call(inputs, training=training, mask=mask)\n    File \"/Users/antoinemoreno/.pyenv/versions/3.8.13/envs/lewagon/lib/python3.8/site-packages/keras/engine/functional.py\", line 458, in call\n      return self._run_internal_graph(\n    File \"/Users/antoinemoreno/.pyenv/versions/3.8.13/envs/lewagon/lib/python3.8/site-packages/keras/engine/functional.py\", line 596, in _run_internal_graph\n      outputs = node.layer(*args, **kwargs)\n    File \"/Users/antoinemoreno/.pyenv/versions/3.8.13/envs/lewagon/lib/python3.8/site-packages/keras/utils/traceback_utils.py\", line 64, in error_handler\n      return fn(*args, **kwargs)\n    File \"/Users/antoinemoreno/.pyenv/versions/3.8.13/envs/lewagon/lib/python3.8/site-packages/keras/engine/base_layer.py\", line 1014, in __call__\n      outputs = call_fn(inputs, *args, **kwargs)\n    File \"/Users/antoinemoreno/.pyenv/versions/3.8.13/envs/lewagon/lib/python3.8/site-packages/keras/utils/traceback_utils.py\", line 92, in error_handler\n      return fn(*args, **kwargs)\n    File \"/Users/antoinemoreno/.pyenv/versions/3.8.13/envs/lewagon/lib/python3.8/site-packages/keras/layers/convolutional/base_conv.py\", line 278, in call\n      return self.activation(outputs)\n    File \"/Users/antoinemoreno/.pyenv/versions/3.8.13/envs/lewagon/lib/python3.8/site-packages/keras/activations.py\", line 311, in relu\n      return backend.relu(x, alpha=alpha, max_value=max_value, threshold=threshold)\n    File \"/Users/antoinemoreno/.pyenv/versions/3.8.13/envs/lewagon/lib/python3.8/site-packages/keras/backend.py\", line 4992, in relu\n      x = tf.nn.relu(x)\nNode: 'sequential_3/conv2d_9/Relu'\ninput depth must be evenly divisible by filter depth: 1 vs 3\n\t [[{{node sequential_3/conv2d_9/Relu}}]] [Op:__inference_predict_function_286126]",
     "output_type": "error",
     "traceback": [
      "\u001b[0;31m---------------------------------------------------------------------------\u001b[0m",
      "\u001b[0;31mInvalidArgumentError\u001b[0m                      Traceback (most recent call last)",
      "\u001b[0;32m/var/folders/7z/lyzbs3rs7cqfcd1z043vxh9h0000gn/T/ipykernel_29191/1564833832.py\u001b[0m in \u001b[0;36m<module>\u001b[0;34m\u001b[0m\n\u001b[1;32m      2\u001b[0m \u001b[0mimg_array\u001b[0m \u001b[0;34m=\u001b[0m \u001b[0mtf\u001b[0m\u001b[0;34m.\u001b[0m\u001b[0mexpand_dims\u001b[0m\u001b[0;34m(\u001b[0m\u001b[0mimg_array\u001b[0m\u001b[0;34m,\u001b[0m \u001b[0;34m-\u001b[0m\u001b[0;36m1\u001b[0m\u001b[0;34m)\u001b[0m \u001b[0;31m# Create a batch\u001b[0m\u001b[0;34m\u001b[0m\u001b[0;34m\u001b[0m\u001b[0m\n\u001b[1;32m      3\u001b[0m \u001b[0;34m\u001b[0m\u001b[0m\n\u001b[0;32m----> 4\u001b[0;31m \u001b[0mpredictions\u001b[0m \u001b[0;34m=\u001b[0m \u001b[0mmodel\u001b[0m\u001b[0;34m.\u001b[0m\u001b[0mpredict\u001b[0m\u001b[0;34m(\u001b[0m\u001b[0mimg_array\u001b[0m\u001b[0;34m)\u001b[0m\u001b[0;34m\u001b[0m\u001b[0;34m\u001b[0m\u001b[0m\n\u001b[0m",
      "\u001b[0;32m~/.pyenv/versions/3.8.13/envs/lewagon/lib/python3.8/site-packages/keras/utils/traceback_utils.py\u001b[0m in \u001b[0;36merror_handler\u001b[0;34m(*args, **kwargs)\u001b[0m\n\u001b[1;32m     65\u001b[0m     \u001b[0;32mexcept\u001b[0m \u001b[0mException\u001b[0m \u001b[0;32mas\u001b[0m \u001b[0me\u001b[0m\u001b[0;34m:\u001b[0m  \u001b[0;31m# pylint: disable=broad-except\u001b[0m\u001b[0;34m\u001b[0m\u001b[0;34m\u001b[0m\u001b[0m\n\u001b[1;32m     66\u001b[0m       \u001b[0mfiltered_tb\u001b[0m \u001b[0;34m=\u001b[0m \u001b[0m_process_traceback_frames\u001b[0m\u001b[0;34m(\u001b[0m\u001b[0me\u001b[0m\u001b[0;34m.\u001b[0m\u001b[0m__traceback__\u001b[0m\u001b[0;34m)\u001b[0m\u001b[0;34m\u001b[0m\u001b[0;34m\u001b[0m\u001b[0m\n\u001b[0;32m---> 67\u001b[0;31m       \u001b[0;32mraise\u001b[0m \u001b[0me\u001b[0m\u001b[0;34m.\u001b[0m\u001b[0mwith_traceback\u001b[0m\u001b[0;34m(\u001b[0m\u001b[0mfiltered_tb\u001b[0m\u001b[0;34m)\u001b[0m \u001b[0;32mfrom\u001b[0m \u001b[0;32mNone\u001b[0m\u001b[0;34m\u001b[0m\u001b[0;34m\u001b[0m\u001b[0m\n\u001b[0m\u001b[1;32m     68\u001b[0m     \u001b[0;32mfinally\u001b[0m\u001b[0;34m:\u001b[0m\u001b[0;34m\u001b[0m\u001b[0;34m\u001b[0m\u001b[0m\n\u001b[1;32m     69\u001b[0m       \u001b[0;32mdel\u001b[0m \u001b[0mfiltered_tb\u001b[0m\u001b[0;34m\u001b[0m\u001b[0;34m\u001b[0m\u001b[0m\n",
      "\u001b[0;32m~/.pyenv/versions/3.8.13/envs/lewagon/lib/python3.8/site-packages/tensorflow/python/eager/execute.py\u001b[0m in \u001b[0;36mquick_execute\u001b[0;34m(op_name, num_outputs, inputs, attrs, ctx, name)\u001b[0m\n\u001b[1;32m     52\u001b[0m   \u001b[0;32mtry\u001b[0m\u001b[0;34m:\u001b[0m\u001b[0;34m\u001b[0m\u001b[0;34m\u001b[0m\u001b[0m\n\u001b[1;32m     53\u001b[0m     \u001b[0mctx\u001b[0m\u001b[0;34m.\u001b[0m\u001b[0mensure_initialized\u001b[0m\u001b[0;34m(\u001b[0m\u001b[0;34m)\u001b[0m\u001b[0;34m\u001b[0m\u001b[0;34m\u001b[0m\u001b[0m\n\u001b[0;32m---> 54\u001b[0;31m     tensors = pywrap_tfe.TFE_Py_Execute(ctx._handle, device_name, op_name,\n\u001b[0m\u001b[1;32m     55\u001b[0m                                         inputs, attrs, num_outputs)\n\u001b[1;32m     56\u001b[0m   \u001b[0;32mexcept\u001b[0m \u001b[0mcore\u001b[0m\u001b[0;34m.\u001b[0m\u001b[0m_NotOkStatusException\u001b[0m \u001b[0;32mas\u001b[0m \u001b[0me\u001b[0m\u001b[0;34m:\u001b[0m\u001b[0;34m\u001b[0m\u001b[0;34m\u001b[0m\u001b[0m\n",
      "\u001b[0;31mInvalidArgumentError\u001b[0m: Graph execution error:\n\nDetected at node 'sequential_3/conv2d_9/Relu' defined at (most recent call last):\n    File \"/Users/antoinemoreno/.pyenv/versions/3.8.13/lib/python3.8/runpy.py\", line 194, in _run_module_as_main\n      return _run_code(code, main_globals, None,\n    File \"/Users/antoinemoreno/.pyenv/versions/3.8.13/lib/python3.8/runpy.py\", line 87, in _run_code\n      exec(code, run_globals)\n    File \"/Users/antoinemoreno/.pyenv/versions/3.8.13/envs/lewagon/lib/python3.8/site-packages/ipykernel_launcher.py\", line 16, in <module>\n      app.launch_new_instance()\n    File \"/Users/antoinemoreno/.pyenv/versions/3.8.13/envs/lewagon/lib/python3.8/site-packages/traitlets/config/application.py\", line 846, in launch_instance\n      app.start()\n    File \"/Users/antoinemoreno/.pyenv/versions/3.8.13/envs/lewagon/lib/python3.8/site-packages/ipykernel/kernelapp.py\", line 677, in start\n      self.io_loop.start()\n    File \"/Users/antoinemoreno/.pyenv/versions/3.8.13/envs/lewagon/lib/python3.8/site-packages/tornado/platform/asyncio.py\", line 199, in start\n      self.asyncio_loop.run_forever()\n    File \"/Users/antoinemoreno/.pyenv/versions/3.8.13/lib/python3.8/asyncio/base_events.py\", line 570, in run_forever\n      self._run_once()\n    File \"/Users/antoinemoreno/.pyenv/versions/3.8.13/lib/python3.8/asyncio/base_events.py\", line 1859, in _run_once\n      handle._run()\n    File \"/Users/antoinemoreno/.pyenv/versions/3.8.13/lib/python3.8/asyncio/events.py\", line 81, in _run\n      self._context.run(self._callback, *self._args)\n    File \"/Users/antoinemoreno/.pyenv/versions/3.8.13/envs/lewagon/lib/python3.8/site-packages/ipykernel/kernelbase.py\", line 457, in dispatch_queue\n      await self.process_one()\n    File \"/Users/antoinemoreno/.pyenv/versions/3.8.13/envs/lewagon/lib/python3.8/site-packages/ipykernel/kernelbase.py\", line 446, in process_one\n      await dispatch(*args)\n    File \"/Users/antoinemoreno/.pyenv/versions/3.8.13/envs/lewagon/lib/python3.8/site-packages/ipykernel/kernelbase.py\", line 353, in dispatch_shell\n      await result\n    File \"/Users/antoinemoreno/.pyenv/versions/3.8.13/envs/lewagon/lib/python3.8/site-packages/ipykernel/kernelbase.py\", line 648, in execute_request\n      reply_content = await reply_content\n    File \"/Users/antoinemoreno/.pyenv/versions/3.8.13/envs/lewagon/lib/python3.8/site-packages/ipykernel/ipkernel.py\", line 353, in do_execute\n      res = shell.run_cell(code, store_history=store_history, silent=silent)\n    File \"/Users/antoinemoreno/.pyenv/versions/3.8.13/envs/lewagon/lib/python3.8/site-packages/ipykernel/zmqshell.py\", line 532, in run_cell\n      return super().run_cell(*args, **kwargs)\n    File \"/Users/antoinemoreno/.pyenv/versions/3.8.13/envs/lewagon/lib/python3.8/site-packages/IPython/core/interactiveshell.py\", line 2914, in run_cell\n      result = self._run_cell(\n    File \"/Users/antoinemoreno/.pyenv/versions/3.8.13/envs/lewagon/lib/python3.8/site-packages/IPython/core/interactiveshell.py\", line 2960, in _run_cell\n      return runner(coro)\n    File \"/Users/antoinemoreno/.pyenv/versions/3.8.13/envs/lewagon/lib/python3.8/site-packages/IPython/core/async_helpers.py\", line 78, in _pseudo_sync_runner\n      coro.send(None)\n    File \"/Users/antoinemoreno/.pyenv/versions/3.8.13/envs/lewagon/lib/python3.8/site-packages/IPython/core/interactiveshell.py\", line 3185, in run_cell_async\n      has_raised = await self.run_ast_nodes(code_ast.body, cell_name,\n    File \"/Users/antoinemoreno/.pyenv/versions/3.8.13/envs/lewagon/lib/python3.8/site-packages/IPython/core/interactiveshell.py\", line 3377, in run_ast_nodes\n      if (await self.run_code(code, result,  async_=asy)):\n    File \"/Users/antoinemoreno/.pyenv/versions/3.8.13/envs/lewagon/lib/python3.8/site-packages/IPython/core/interactiveshell.py\", line 3457, in run_code\n      exec(code_obj, self.user_global_ns, self.user_ns)\n    File \"/var/folders/7z/lyzbs3rs7cqfcd1z043vxh9h0000gn/T/ipykernel_29191/3013393343.py\", line 7, in <module>\n      predictions = model.predict(img_array)\n    File \"/Users/antoinemoreno/.pyenv/versions/3.8.13/envs/lewagon/lib/python3.8/site-packages/keras/utils/traceback_utils.py\", line 64, in error_handler\n      return fn(*args, **kwargs)\n    File \"/Users/antoinemoreno/.pyenv/versions/3.8.13/envs/lewagon/lib/python3.8/site-packages/keras/engine/training.py\", line 2033, in predict\n      tmp_batch_outputs = self.predict_function(iterator)\n    File \"/Users/antoinemoreno/.pyenv/versions/3.8.13/envs/lewagon/lib/python3.8/site-packages/keras/engine/training.py\", line 1845, in predict_function\n      return step_function(self, iterator)\n    File \"/Users/antoinemoreno/.pyenv/versions/3.8.13/envs/lewagon/lib/python3.8/site-packages/keras/engine/training.py\", line 1834, in step_function\n      outputs = model.distribute_strategy.run(run_step, args=(data,))\n    File \"/Users/antoinemoreno/.pyenv/versions/3.8.13/envs/lewagon/lib/python3.8/site-packages/keras/engine/training.py\", line 1823, in run_step\n      outputs = model.predict_step(data)\n    File \"/Users/antoinemoreno/.pyenv/versions/3.8.13/envs/lewagon/lib/python3.8/site-packages/keras/engine/training.py\", line 1791, in predict_step\n      return self(x, training=False)\n    File \"/Users/antoinemoreno/.pyenv/versions/3.8.13/envs/lewagon/lib/python3.8/site-packages/keras/utils/traceback_utils.py\", line 64, in error_handler\n      return fn(*args, **kwargs)\n    File \"/Users/antoinemoreno/.pyenv/versions/3.8.13/envs/lewagon/lib/python3.8/site-packages/keras/engine/training.py\", line 490, in __call__\n      return super().__call__(*args, **kwargs)\n    File \"/Users/antoinemoreno/.pyenv/versions/3.8.13/envs/lewagon/lib/python3.8/site-packages/keras/utils/traceback_utils.py\", line 64, in error_handler\n      return fn(*args, **kwargs)\n    File \"/Users/antoinemoreno/.pyenv/versions/3.8.13/envs/lewagon/lib/python3.8/site-packages/keras/engine/base_layer.py\", line 1014, in __call__\n      outputs = call_fn(inputs, *args, **kwargs)\n    File \"/Users/antoinemoreno/.pyenv/versions/3.8.13/envs/lewagon/lib/python3.8/site-packages/keras/utils/traceback_utils.py\", line 92, in error_handler\n      return fn(*args, **kwargs)\n    File \"/Users/antoinemoreno/.pyenv/versions/3.8.13/envs/lewagon/lib/python3.8/site-packages/keras/engine/sequential.py\", line 374, in call\n      return super(Sequential, self).call(inputs, training=training, mask=mask)\n    File \"/Users/antoinemoreno/.pyenv/versions/3.8.13/envs/lewagon/lib/python3.8/site-packages/keras/engine/functional.py\", line 458, in call\n      return self._run_internal_graph(\n    File \"/Users/antoinemoreno/.pyenv/versions/3.8.13/envs/lewagon/lib/python3.8/site-packages/keras/engine/functional.py\", line 596, in _run_internal_graph\n      outputs = node.layer(*args, **kwargs)\n    File \"/Users/antoinemoreno/.pyenv/versions/3.8.13/envs/lewagon/lib/python3.8/site-packages/keras/utils/traceback_utils.py\", line 64, in error_handler\n      return fn(*args, **kwargs)\n    File \"/Users/antoinemoreno/.pyenv/versions/3.8.13/envs/lewagon/lib/python3.8/site-packages/keras/engine/base_layer.py\", line 1014, in __call__\n      outputs = call_fn(inputs, *args, **kwargs)\n    File \"/Users/antoinemoreno/.pyenv/versions/3.8.13/envs/lewagon/lib/python3.8/site-packages/keras/utils/traceback_utils.py\", line 92, in error_handler\n      return fn(*args, **kwargs)\n    File \"/Users/antoinemoreno/.pyenv/versions/3.8.13/envs/lewagon/lib/python3.8/site-packages/keras/layers/convolutional/base_conv.py\", line 278, in call\n      return self.activation(outputs)\n    File \"/Users/antoinemoreno/.pyenv/versions/3.8.13/envs/lewagon/lib/python3.8/site-packages/keras/activations.py\", line 311, in relu\n      return backend.relu(x, alpha=alpha, max_value=max_value, threshold=threshold)\n    File \"/Users/antoinemoreno/.pyenv/versions/3.8.13/envs/lewagon/lib/python3.8/site-packages/keras/backend.py\", line 4992, in relu\n      x = tf.nn.relu(x)\nNode: 'sequential_3/conv2d_9/Relu'\ninput depth must be evenly divisible by filter depth: 1 vs 3\n\t [[{{node sequential_3/conv2d_9/Relu}}]] [Op:__inference_predict_function_286126]"
     ]
    }
   ],
   "source": [
    "img_array = tf.keras.utils.img_to_array(img)\n",
    "img_array = tf.expand_dims(img_array, -1) # Create a batch\n",
    "\n",
    "predictions = model.predict(img_array)"
   ]
  },
  {
   "cell_type": "code",
   "execution_count": 114,
   "id": "3827cdbd",
   "metadata": {},
   "outputs": [
    {
     "data": {
      "text/plain": [
       "array([[-18.440474 , -13.763997 , -28.883615 ,  -5.0610905,  -8.105446 ,\n",
       "         -7.681551 ,  -7.6947045, -10.985758 ,  -8.304536 , -14.150326 ,\n",
       "         -5.345291 , -15.609024 , -10.184617 , -10.689733 , -15.658138 ,\n",
       "        -33.207607 , -16.020767 , -11.558451 , -13.3850765, -43.46583  ,\n",
       "        -19.918184 ,  -6.046442 , -12.67287  ,  -6.4512024, -10.486735 ,\n",
       "        -15.864687 ,  -5.368768 ,  -3.4595888, -52.359978 , -44.895306 ,\n",
       "         -1.1352631, -17.295279 ,  -5.82702  , -30.439127 , -17.984655 ,\n",
       "         -9.841648 , -27.273474 , -16.675335 , -47.554314 , -12.649038 ,\n",
       "        -14.387084 , -21.067074 ,  -9.134338 , -32.054764 , -33.93274  ,\n",
       "        -13.809819 , -43.944855 ,  -4.669101 , -23.938913 ,  -9.913799 ,\n",
       "        -15.819715 ,  -9.750871 , -34.52995  , -41.661095 , -12.315814 ,\n",
       "        -21.35783  , -17.412357 , -14.024489 , -18.51036  , -16.865309 ,\n",
       "        -16.667995 , -21.067526 ,  -5.701208 , -13.714584 , -26.344084 ,\n",
       "        -16.466274 , -22.548393 , -30.98359  , -17.39364  , -11.136305 ,\n",
       "        -12.89975  , -37.156788 , -23.556713 , -16.903887 ,  -3.5384865,\n",
       "         -9.653744 ,  -5.5892653, -10.92645  , -10.219889 , -14.300935 ,\n",
       "        -24.372868 , -19.588604 ]], dtype=float32)"
      ]
     },
     "execution_count": 114,
     "metadata": {},
     "output_type": "execute_result"
    }
   ],
   "source": [
    "predictions"
   ]
  },
  {
   "cell_type": "code",
   "execution_count": 107,
   "id": "2a709036",
   "metadata": {},
   "outputs": [
    {
     "data": {
      "text/plain": [
       "['!',\n",
       " '(',\n",
       " ')',\n",
       " '+',\n",
       " ',',\n",
       " '-',\n",
       " '0',\n",
       " '1',\n",
       " '2',\n",
       " '3',\n",
       " '4',\n",
       " '5',\n",
       " '6',\n",
       " '7',\n",
       " '8',\n",
       " '9',\n",
       " '=',\n",
       " 'A',\n",
       " 'C',\n",
       " 'Delta',\n",
       " 'G',\n",
       " 'H',\n",
       " 'M',\n",
       " 'N',\n",
       " 'R',\n",
       " 'S',\n",
       " 'T',\n",
       " 'X',\n",
       " '[',\n",
       " ']',\n",
       " 'alpha',\n",
       " 'ascii_124',\n",
       " 'b',\n",
       " 'beta',\n",
       " 'cos',\n",
       " 'd',\n",
       " 'div',\n",
       " 'e',\n",
       " 'exists',\n",
       " 'f',\n",
       " 'forall',\n",
       " 'forward_slash',\n",
       " 'gamma',\n",
       " 'geq',\n",
       " 'gt',\n",
       " 'i',\n",
       " 'in',\n",
       " 'infty',\n",
       " 'int',\n",
       " 'j',\n",
       " 'k',\n",
       " 'l',\n",
       " 'lambda',\n",
       " 'ldots',\n",
       " 'leq',\n",
       " 'lim',\n",
       " 'log',\n",
       " 'lt',\n",
       " 'mu',\n",
       " 'neq',\n",
       " 'o',\n",
       " 'p',\n",
       " 'phi',\n",
       " 'pi',\n",
       " 'pm',\n",
       " 'prime',\n",
       " 'q',\n",
       " 'rightarrow',\n",
       " 'sigma',\n",
       " 'sin',\n",
       " 'sqrt',\n",
       " 'sum',\n",
       " 'tan',\n",
       " 'theta',\n",
       " 'times',\n",
       " 'u',\n",
       " 'v',\n",
       " 'w',\n",
       " 'y',\n",
       " 'z',\n",
       " '{',\n",
       " '}']"
      ]
     },
     "execution_count": 107,
     "metadata": {},
     "output_type": "execute_result"
    }
   ],
   "source": [
    "class_names = train_ds.class_names\n",
    "class_names"
   ]
  },
  {
   "cell_type": "code",
   "execution_count": 101,
   "id": "b12ab564",
   "metadata": {},
   "outputs": [],
   "source": [
    "def get_label(file_path):\n",
    "  # Convert the path to a list of path components\n",
    "  parts = tf.strings.split(file_path, os.path.sep)\n",
    "  # The second to last is the class-directory\n",
    "  one_hot = parts[-2] == class_names\n",
    "  # Integer encode the label\n",
    "  return tf.argmax(one_hot)"
   ]
  },
  {
   "cell_type": "code",
   "execution_count": 102,
   "id": "8abf498b",
   "metadata": {},
   "outputs": [
    {
     "data": {
      "text/plain": [
       "<tf.Tensor: shape=(), dtype=int64, numpy=0>"
      ]
     },
     "execution_count": 102,
     "metadata": {},
     "output_type": "execute_result"
    }
   ],
   "source": [
    "get_label(path_to_folders)"
   ]
  },
  {
   "cell_type": "code",
   "execution_count": 108,
   "id": "7cfe0e28",
   "metadata": {},
   "outputs": [
    {
     "ename": "NameError",
     "evalue": "name 'file_path' is not defined",
     "output_type": "error",
     "traceback": [
      "\u001b[0;31m---------------------------------------------------------------------------\u001b[0m",
      "\u001b[0;31mNameError\u001b[0m                                 Traceback (most recent call last)",
      "\u001b[0;32m/var/folders/7z/lyzbs3rs7cqfcd1z043vxh9h0000gn/T/ipykernel_29191/131271105.py\u001b[0m in \u001b[0;36m<module>\u001b[0;34m\u001b[0m\n\u001b[0;32m----> 1\u001b[0;31m \u001b[0mparts\u001b[0m \u001b[0;34m=\u001b[0m \u001b[0mtf\u001b[0m\u001b[0;34m.\u001b[0m\u001b[0mstrings\u001b[0m\u001b[0;34m.\u001b[0m\u001b[0msplit\u001b[0m\u001b[0;34m(\u001b[0m\u001b[0mfile_path\u001b[0m\u001b[0;34m,\u001b[0m \u001b[0mos\u001b[0m\u001b[0;34m.\u001b[0m\u001b[0mpath\u001b[0m\u001b[0;34m.\u001b[0m\u001b[0msep\u001b[0m\u001b[0;34m)\u001b[0m\u001b[0;34m\u001b[0m\u001b[0;34m\u001b[0m\u001b[0m\n\u001b[0m",
      "\u001b[0;31mNameError\u001b[0m: name 'file_path' is not defined"
     ]
    }
   ],
   "source": [
    "parts = tf.strings.split(file_path, os.path.sep)"
   ]
  },
  {
   "cell_type": "code",
   "execution_count": 109,
   "id": "ab06006f",
   "metadata": {},
   "outputs": [
    {
     "ename": "NameError",
     "evalue": "name 'list_of_folders_folders' is not defined",
     "output_type": "error",
     "traceback": [
      "\u001b[0;31m---------------------------------------------------------------------------\u001b[0m",
      "\u001b[0;31mNameError\u001b[0m                                 Traceback (most recent call last)",
      "\u001b[0;32m/var/folders/7z/lyzbs3rs7cqfcd1z043vxh9h0000gn/T/ipykernel_29191/1281666130.py\u001b[0m in \u001b[0;36m<module>\u001b[0;34m\u001b[0m\n\u001b[0;32m----> 1\u001b[0;31m \u001b[0mlist_of_folders_folders\u001b[0m \u001b[0;34m==\u001b[0m \u001b[0mclass_names\u001b[0m\u001b[0;34m\u001b[0m\u001b[0;34m\u001b[0m\u001b[0m\n\u001b[0m",
      "\u001b[0;31mNameError\u001b[0m: name 'list_of_folders_folders' is not defined"
     ]
    }
   ],
   "source": [
    "list_of_folders_folders == class_names"
   ]
  },
  {
   "cell_type": "code",
   "execution_count": null,
   "id": "c8123c63",
   "metadata": {},
   "outputs": [],
   "source": [
    "list_of_folders_folders"
   ]
  }
 ],
 "metadata": {
  "colab": {
   "name": "AntoineMoreno_test_v2.ipynb",
   "provenance": []
  },
  "kernelspec": {
   "display_name": "Python 3 (ipykernel)",
   "language": "python",
   "name": "python3"
  },
  "language_info": {
   "codemirror_mode": {
    "name": "ipython",
    "version": 3
   },
   "file_extension": ".py",
   "mimetype": "text/x-python",
   "name": "python",
   "nbconvert_exporter": "python",
   "pygments_lexer": "ipython3",
   "version": "3.8.13"
  },
  "toc": {
   "base_numbering": 1,
   "nav_menu": {},
   "number_sections": true,
   "sideBar": true,
   "skip_h1_title": false,
   "title_cell": "Table of Contents",
   "title_sidebar": "Contents",
   "toc_cell": false,
   "toc_position": {},
   "toc_section_display": true,
   "toc_window_display": false
  }
 },
 "nbformat": 4,
 "nbformat_minor": 5
}
